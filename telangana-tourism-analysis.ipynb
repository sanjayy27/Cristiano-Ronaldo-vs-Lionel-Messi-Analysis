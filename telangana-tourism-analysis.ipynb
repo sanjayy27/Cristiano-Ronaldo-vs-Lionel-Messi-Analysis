{
 "cells": [
  {
   "cell_type": "code",
   "execution_count": 1,
   "id": "ba20e954",
   "metadata": {
    "execution": {
     "iopub.execute_input": "2023-04-06T17:56:09.386579Z",
     "iopub.status.busy": "2023-04-06T17:56:09.385384Z",
     "iopub.status.idle": "2023-04-06T17:56:09.399840Z",
     "shell.execute_reply": "2023-04-06T17:56:09.398395Z"
    },
    "papermill": {
     "duration": 0.025669,
     "end_time": "2023-04-06T17:56:09.403061",
     "exception": false,
     "start_time": "2023-04-06T17:56:09.377392",
     "status": "completed"
    },
    "tags": []
   },
   "outputs": [],
   "source": [
    "import pandas as pd\n",
    "import numpy as np"
   ]
  },
  {
   "cell_type": "code",
   "execution_count": 2,
   "id": "478370da",
   "metadata": {
    "execution": {
     "iopub.execute_input": "2023-04-06T17:56:09.415182Z",
     "iopub.status.busy": "2023-04-06T17:56:09.414793Z",
     "iopub.status.idle": "2023-04-06T17:56:12.388461Z",
     "shell.execute_reply": "2023-04-06T17:56:12.387082Z"
    },
    "papermill": {
     "duration": 2.983069,
     "end_time": "2023-04-06T17:56:12.391344",
     "exception": false,
     "start_time": "2023-04-06T17:56:09.408275",
     "status": "completed"
    },
    "tags": []
   },
   "outputs": [],
   "source": [
    "import plotly.express as px\n",
    "import matplotlib.pyplot as plt\n",
    "%matplotlib inline\n",
    "import seaborn as sns\n",
    "plt.style.use('fivethirtyeight')\n",
    "color_pal=sns.color_palette()"
   ]
  },
  {
   "cell_type": "code",
   "execution_count": 3,
   "id": "1bd340d9",
   "metadata": {
    "execution": {
     "iopub.execute_input": "2023-04-06T17:56:12.403365Z",
     "iopub.status.busy": "2023-04-06T17:56:12.402893Z",
     "iopub.status.idle": "2023-04-06T17:56:12.426779Z",
     "shell.execute_reply": "2023-04-06T17:56:12.425570Z"
    },
    "papermill": {
     "duration": 0.033244,
     "end_time": "2023-04-06T17:56:12.429637",
     "exception": false,
     "start_time": "2023-04-06T17:56:12.396393",
     "status": "completed"
    },
    "tags": []
   },
   "outputs": [],
   "source": [
    "dfd=pd.read_csv('/kaggle/input/telangana-government-tourism-department/domestic_visitors(2016-2019).csv')\n",
    "dff=dfd=pd.read_csv('/kaggle/input/telangana-government-tourism-department/foreign_visitors(2016-2019).csv')"
   ]
  },
  {
   "cell_type": "code",
   "execution_count": 4,
   "id": "8b6eef96",
   "metadata": {
    "execution": {
     "iopub.execute_input": "2023-04-06T17:56:12.441388Z",
     "iopub.status.busy": "2023-04-06T17:56:12.440908Z",
     "iopub.status.idle": "2023-04-06T17:56:12.451539Z",
     "shell.execute_reply": "2023-04-06T17:56:12.450222Z"
    },
    "papermill": {
     "duration": 0.019921,
     "end_time": "2023-04-06T17:56:12.454573",
     "exception": false,
     "start_time": "2023-04-06T17:56:12.434652",
     "status": "completed"
    },
    "tags": []
   },
   "outputs": [
    {
     "data": {
      "text/plain": [
       "Index(['Unnamed: 0', 'district', 'date', 'month', 'year', 'visitors'], dtype='object')"
      ]
     },
     "execution_count": 4,
     "metadata": {},
     "output_type": "execute_result"
    }
   ],
   "source": [
    "dff.columns"
   ]
  },
  {
   "cell_type": "code",
   "execution_count": 5,
   "id": "95c3d8e5",
   "metadata": {
    "execution": {
     "iopub.execute_input": "2023-04-06T17:56:12.466737Z",
     "iopub.status.busy": "2023-04-06T17:56:12.466302Z",
     "iopub.status.idle": "2023-04-06T17:56:12.474460Z",
     "shell.execute_reply": "2023-04-06T17:56:12.473153Z"
    },
    "papermill": {
     "duration": 0.017152,
     "end_time": "2023-04-06T17:56:12.476940",
     "exception": false,
     "start_time": "2023-04-06T17:56:12.459788",
     "status": "completed"
    },
    "tags": []
   },
   "outputs": [
    {
     "data": {
      "text/plain": [
       "Index(['Unnamed: 0', 'district', 'date', 'month', 'year', 'visitors'], dtype='object')"
      ]
     },
     "execution_count": 5,
     "metadata": {},
     "output_type": "execute_result"
    }
   ],
   "source": [
    "dfd.columns"
   ]
  },
  {
   "cell_type": "code",
   "execution_count": 6,
   "id": "0ded105f",
   "metadata": {
    "execution": {
     "iopub.execute_input": "2023-04-06T17:56:12.489689Z",
     "iopub.status.busy": "2023-04-06T17:56:12.488928Z",
     "iopub.status.idle": "2023-04-06T17:56:12.506719Z",
     "shell.execute_reply": "2023-04-06T17:56:12.505251Z"
    },
    "papermill": {
     "duration": 0.028211,
     "end_time": "2023-04-06T17:56:12.510227",
     "exception": false,
     "start_time": "2023-04-06T17:56:12.482016",
     "status": "completed"
    },
    "tags": []
   },
   "outputs": [],
   "source": [
    "dfd=dfd.drop('Unnamed: 0',axis=1)\n",
    "dff=dff.drop('Unnamed: 0',axis=1)"
   ]
  },
  {
   "cell_type": "code",
   "execution_count": 7,
   "id": "bcbef7fa",
   "metadata": {
    "execution": {
     "iopub.execute_input": "2023-04-06T17:56:12.522419Z",
     "iopub.status.busy": "2023-04-06T17:56:12.522000Z",
     "iopub.status.idle": "2023-04-06T17:56:12.533866Z",
     "shell.execute_reply": "2023-04-06T17:56:12.532412Z"
    },
    "papermill": {
     "duration": 0.021417,
     "end_time": "2023-04-06T17:56:12.536872",
     "exception": false,
     "start_time": "2023-04-06T17:56:12.515455",
     "status": "completed"
    },
    "tags": []
   },
   "outputs": [
    {
     "name": "stdout",
     "output_type": "stream",
     "text": [
      "There are 33 districts in Telangana\n"
     ]
    }
   ],
   "source": [
    "print('There are' ,dfd['district'].nunique() ,'districts in Telangana')"
   ]
  },
  {
   "cell_type": "code",
   "execution_count": 8,
   "id": "aeba75a7",
   "metadata": {
    "execution": {
     "iopub.execute_input": "2023-04-06T17:56:12.550478Z",
     "iopub.status.busy": "2023-04-06T17:56:12.550034Z",
     "iopub.status.idle": "2023-04-06T17:56:12.560411Z",
     "shell.execute_reply": "2023-04-06T17:56:12.559001Z"
    },
    "papermill": {
     "duration": 0.019452,
     "end_time": "2023-04-06T17:56:12.562813",
     "exception": false,
     "start_time": "2023-04-06T17:56:12.543361",
     "status": "completed"
    },
    "tags": []
   },
   "outputs": [
    {
     "data": {
      "text/plain": [
       "district    0\n",
       "date        0\n",
       "month       0\n",
       "year        0\n",
       "visitors    0\n",
       "dtype: int64"
      ]
     },
     "execution_count": 8,
     "metadata": {},
     "output_type": "execute_result"
    }
   ],
   "source": [
    "dfd.isnull().sum()"
   ]
  },
  {
   "cell_type": "code",
   "execution_count": 9,
   "id": "d5ea3b1b",
   "metadata": {
    "execution": {
     "iopub.execute_input": "2023-04-06T17:56:12.575307Z",
     "iopub.status.busy": "2023-04-06T17:56:12.574921Z",
     "iopub.status.idle": "2023-04-06T17:56:12.585270Z",
     "shell.execute_reply": "2023-04-06T17:56:12.584381Z"
    },
    "papermill": {
     "duration": 0.019357,
     "end_time": "2023-04-06T17:56:12.587458",
     "exception": false,
     "start_time": "2023-04-06T17:56:12.568101",
     "status": "completed"
    },
    "tags": []
   },
   "outputs": [
    {
     "data": {
      "text/plain": [
       "district    0\n",
       "date        0\n",
       "month       0\n",
       "year        0\n",
       "visitors    0\n",
       "dtype: int64"
      ]
     },
     "execution_count": 9,
     "metadata": {},
     "output_type": "execute_result"
    }
   ],
   "source": [
    "dff.isnull().sum()"
   ]
  },
  {
   "cell_type": "code",
   "execution_count": 10,
   "id": "2340ca5b",
   "metadata": {
    "execution": {
     "iopub.execute_input": "2023-04-06T17:56:12.600788Z",
     "iopub.status.busy": "2023-04-06T17:56:12.600344Z",
     "iopub.status.idle": "2023-04-06T17:56:12.609162Z",
     "shell.execute_reply": "2023-04-06T17:56:12.607975Z"
    },
    "papermill": {
     "duration": 0.018373,
     "end_time": "2023-04-06T17:56:12.611500",
     "exception": false,
     "start_time": "2023-04-06T17:56:12.593127",
     "status": "completed"
    },
    "tags": []
   },
   "outputs": [
    {
     "data": {
      "text/plain": [
       "district    object\n",
       "date        object\n",
       "month       object\n",
       "year         int64\n",
       "visitors    object\n",
       "dtype: object"
      ]
     },
     "execution_count": 10,
     "metadata": {},
     "output_type": "execute_result"
    }
   ],
   "source": [
    "dff.dtypes"
   ]
  },
  {
   "cell_type": "code",
   "execution_count": 11,
   "id": "4851d182",
   "metadata": {
    "execution": {
     "iopub.execute_input": "2023-04-06T17:56:12.625724Z",
     "iopub.status.busy": "2023-04-06T17:56:12.625251Z",
     "iopub.status.idle": "2023-04-06T17:56:12.632148Z",
     "shell.execute_reply": "2023-04-06T17:56:12.630828Z"
    },
    "papermill": {
     "duration": 0.016973,
     "end_time": "2023-04-06T17:56:12.634474",
     "exception": false,
     "start_time": "2023-04-06T17:56:12.617501",
     "status": "completed"
    },
    "tags": []
   },
   "outputs": [],
   "source": [
    "dfd=dfd.fillna(0)"
   ]
  },
  {
   "cell_type": "code",
   "execution_count": 12,
   "id": "c53281b8",
   "metadata": {
    "execution": {
     "iopub.execute_input": "2023-04-06T17:56:12.647936Z",
     "iopub.status.busy": "2023-04-06T17:56:12.647504Z",
     "iopub.status.idle": "2023-04-06T17:56:12.656256Z",
     "shell.execute_reply": "2023-04-06T17:56:12.654871Z"
    },
    "papermill": {
     "duration": 0.018696,
     "end_time": "2023-04-06T17:56:12.658705",
     "exception": false,
     "start_time": "2023-04-06T17:56:12.640009",
     "status": "completed"
    },
    "tags": []
   },
   "outputs": [],
   "source": [
    "dfd['visitors']=dfd['visitors'].replace({' ':0})\n",
    "dff['visitors']=dff['visitors'].replace({' ':0})"
   ]
  },
  {
   "cell_type": "code",
   "execution_count": 13,
   "id": "bf4c6d45",
   "metadata": {
    "execution": {
     "iopub.execute_input": "2023-04-06T17:56:12.671625Z",
     "iopub.status.busy": "2023-04-06T17:56:12.671191Z",
     "iopub.status.idle": "2023-04-06T17:56:12.678143Z",
     "shell.execute_reply": "2023-04-06T17:56:12.677141Z"
    },
    "papermill": {
     "duration": 0.016288,
     "end_time": "2023-04-06T17:56:12.680492",
     "exception": false,
     "start_time": "2023-04-06T17:56:12.664204",
     "status": "completed"
    },
    "tags": []
   },
   "outputs": [],
   "source": [
    "dfd['visitors']=dfd['visitors'].astype(int)\n",
    "dff['visitors']=dff['visitors'].astype(int)"
   ]
  },
  {
   "cell_type": "markdown",
   "id": "c207d48e",
   "metadata": {
    "papermill": {
     "duration": 0.006212,
     "end_time": "2023-04-06T17:56:12.692199",
     "exception": false,
     "start_time": "2023-04-06T17:56:12.685987",
     "status": "completed"
    },
    "tags": []
   },
   "source": [
    "#### Top 10 districts that have the highest domestic visitors overall(2016-2019)"
   ]
  },
  {
   "cell_type": "code",
   "execution_count": 14,
   "id": "8d5733ce",
   "metadata": {
    "execution": {
     "iopub.execute_input": "2023-04-06T17:56:12.705388Z",
     "iopub.status.busy": "2023-04-06T17:56:12.704792Z",
     "iopub.status.idle": "2023-04-06T17:56:12.721208Z",
     "shell.execute_reply": "2023-04-06T17:56:12.720076Z"
    },
    "papermill": {
     "duration": 0.026082,
     "end_time": "2023-04-06T17:56:12.723757",
     "exception": false,
     "start_time": "2023-04-06T17:56:12.697675",
     "status": "completed"
    },
    "tags": []
   },
   "outputs": [],
   "source": [
    "overa=dfd.groupby('district')['visitors'].max().reset_index()\n",
    "overa=overa.sort_values(by='visitors',ascending=False).head(10).reset_index()\n",
    "overa=overa.drop('index',axis=1)"
   ]
  },
  {
   "cell_type": "code",
   "execution_count": 15,
   "id": "163608ee",
   "metadata": {
    "execution": {
     "iopub.execute_input": "2023-04-06T17:56:12.737603Z",
     "iopub.status.busy": "2023-04-06T17:56:12.736586Z",
     "iopub.status.idle": "2023-04-06T17:56:12.757916Z",
     "shell.execute_reply": "2023-04-06T17:56:12.756668Z"
    },
    "papermill": {
     "duration": 0.030705,
     "end_time": "2023-04-06T17:56:12.760366",
     "exception": false,
     "start_time": "2023-04-06T17:56:12.729661",
     "status": "completed"
    },
    "tags": []
   },
   "outputs": [
    {
     "data": {
      "text/html": [
       "<div>\n",
       "<style scoped>\n",
       "    .dataframe tbody tr th:only-of-type {\n",
       "        vertical-align: middle;\n",
       "    }\n",
       "\n",
       "    .dataframe tbody tr th {\n",
       "        vertical-align: top;\n",
       "    }\n",
       "\n",
       "    .dataframe thead th {\n",
       "        text-align: right;\n",
       "    }\n",
       "</style>\n",
       "<table border=\"1\" class=\"dataframe\">\n",
       "  <thead>\n",
       "    <tr style=\"text-align: right;\">\n",
       "      <th></th>\n",
       "      <th>district</th>\n",
       "      <th>visitors</th>\n",
       "    </tr>\n",
       "  </thead>\n",
       "  <tbody>\n",
       "    <tr>\n",
       "      <th>0</th>\n",
       "      <td>Hyderabad</td>\n",
       "      <td>38933</td>\n",
       "    </tr>\n",
       "    <tr>\n",
       "      <th>1</th>\n",
       "      <td>Warangal (Urban)</td>\n",
       "      <td>459</td>\n",
       "    </tr>\n",
       "    <tr>\n",
       "      <th>2</th>\n",
       "      <td>Mahbubnagar</td>\n",
       "      <td>126</td>\n",
       "    </tr>\n",
       "    <tr>\n",
       "      <th>3</th>\n",
       "      <td>Jayashankar Bhoopalpally</td>\n",
       "      <td>85</td>\n",
       "    </tr>\n",
       "    <tr>\n",
       "      <th>4</th>\n",
       "      <td>Mulugu</td>\n",
       "      <td>70</td>\n",
       "    </tr>\n",
       "    <tr>\n",
       "      <th>5</th>\n",
       "      <td>Jogulamba Gadwal</td>\n",
       "      <td>45</td>\n",
       "    </tr>\n",
       "    <tr>\n",
       "      <th>6</th>\n",
       "      <td>Warangal (Rural)</td>\n",
       "      <td>35</td>\n",
       "    </tr>\n",
       "    <tr>\n",
       "      <th>7</th>\n",
       "      <td>Nagarkurnool</td>\n",
       "      <td>35</td>\n",
       "    </tr>\n",
       "    <tr>\n",
       "      <th>8</th>\n",
       "      <td>Mancherial</td>\n",
       "      <td>10</td>\n",
       "    </tr>\n",
       "    <tr>\n",
       "      <th>9</th>\n",
       "      <td>Narayanpet</td>\n",
       "      <td>5</td>\n",
       "    </tr>\n",
       "  </tbody>\n",
       "</table>\n",
       "</div>"
      ],
      "text/plain": [
       "                   district  visitors\n",
       "0                 Hyderabad     38933\n",
       "1          Warangal (Urban)       459\n",
       "2               Mahbubnagar       126\n",
       "3  Jayashankar Bhoopalpally        85\n",
       "4                    Mulugu        70\n",
       "5         Jogulamba Gadwal         45\n",
       "6          Warangal (Rural)        35\n",
       "7             Nagarkurnool         35\n",
       "8                Mancherial        10\n",
       "9                Narayanpet         5"
      ]
     },
     "execution_count": 15,
     "metadata": {},
     "output_type": "execute_result"
    }
   ],
   "source": [
    "overa"
   ]
  },
  {
   "cell_type": "markdown",
   "id": "053bead2",
   "metadata": {
    "papermill": {
     "duration": 0.005342,
     "end_time": "2023-04-06T17:56:12.771301",
     "exception": false,
     "start_time": "2023-04-06T17:56:12.765959",
     "status": "completed"
    },
    "tags": []
   },
   "source": [
    "#### Observation\n",
    "##### In 2016-2019 Overall,Hyderabad has had most domestic visitors\n",
    "##### The second district in the list has had almost 83 times less visitors than Hyderabad "
   ]
  },
  {
   "cell_type": "markdown",
   "id": "c99fa869",
   "metadata": {
    "papermill": {
     "duration": 0.005781,
     "end_time": "2023-04-06T17:56:12.782735",
     "exception": false,
     "start_time": "2023-04-06T17:56:12.776954",
     "status": "completed"
    },
    "tags": []
   },
   "source": [
    "#### Calculating CAGR"
   ]
  },
  {
   "cell_type": "markdown",
   "id": "6d6452a2",
   "metadata": {
    "papermill": {
     "duration": 0.005761,
     "end_time": "2023-04-06T17:56:12.794550",
     "exception": false,
     "start_time": "2023-04-06T17:56:12.788789",
     "status": "completed"
    },
    "tags": []
   },
   "source": [
    "![](https://external-content.duckduckgo.com/iu/?u=https%3A%2F%2Ftse2.mm.bing.net%2Fth%3Fid%3DOIP.rOJy7_Y35HqpyY_lE74etAHaBc%26pid%3DApi&f=1&ipt=77f6e709781e80119998228daa371bcdd664379ad235c3b5d274afbcb3543806&ipo=images)"
   ]
  }
 ],
 "metadata": {
  "kernelspec": {
   "display_name": "Python 3",
   "language": "python",
   "name": "python3"
  },
  "language_info": {
   "codemirror_mode": {
    "name": "ipython",
    "version": 3
   },
   "file_extension": ".py",
   "mimetype": "text/x-python",
   "name": "python",
   "nbconvert_exporter": "python",
   "pygments_lexer": "ipython3",
   "version": "3.7.12"
  },
  "papermill": {
   "default_parameters": {},
   "duration": 14.576207,
   "end_time": "2023-04-06T17:56:13.723483",
   "environment_variables": {},
   "exception": null,
   "input_path": "__notebook__.ipynb",
   "output_path": "__notebook__.ipynb",
   "parameters": {},
   "start_time": "2023-04-06T17:55:59.147276",
   "version": "2.4.0"
  }
 },
 "nbformat": 4,
 "nbformat_minor": 5
}
