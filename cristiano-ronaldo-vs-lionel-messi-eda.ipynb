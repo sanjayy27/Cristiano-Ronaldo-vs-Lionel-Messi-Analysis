{
 "cells": [
  {
   "cell_type": "code",
   "execution_count": 1,
   "id": "62062d84",
   "metadata": {
    "execution": {
     "iopub.execute_input": "2023-04-01T18:05:56.265043Z",
     "iopub.status.busy": "2023-04-01T18:05:56.264596Z",
     "iopub.status.idle": "2023-04-01T18:05:59.266803Z",
     "shell.execute_reply": "2023-04-01T18:05:59.265491Z"
    },
    "papermill": {
     "duration": 3.014415,
     "end_time": "2023-04-01T18:05:59.269913",
     "exception": false,
     "start_time": "2023-04-01T18:05:56.255498",
     "status": "completed"
    },
    "tags": []
   },
   "outputs": [],
   "source": [
    "import pandas as pd\n",
    "import numpy as np\n",
    "import plotly.express as px\n",
    "from plotly.subplots import make_subplots\n",
    "import plotly.graph_objects as go\n",
    "import matplotlib.pyplot as plt\n",
    "%matplotlib inline\n",
    "import warnings\n",
    "import seaborn as sns"
   ]
  },
  {
   "cell_type": "code",
   "execution_count": 2,
   "id": "e85c0855",
   "metadata": {
    "execution": {
     "iopub.execute_input": "2023-04-01T18:05:59.285117Z",
     "iopub.status.busy": "2023-04-01T18:05:59.284022Z",
     "iopub.status.idle": "2023-04-01T18:05:59.340127Z",
     "shell.execute_reply": "2023-04-01T18:05:59.338926Z"
    },
    "papermill": {
     "duration": 0.06739,
     "end_time": "2023-04-01T18:05:59.343650",
     "exception": false,
     "start_time": "2023-04-01T18:05:59.276260",
     "status": "completed"
    },
    "tags": []
   },
   "outputs": [
    {
     "data": {
      "text/html": [
       "<div>\n",
       "<style scoped>\n",
       "    .dataframe tbody tr th:only-of-type {\n",
       "        vertical-align: middle;\n",
       "    }\n",
       "\n",
       "    .dataframe tbody tr th {\n",
       "        vertical-align: top;\n",
       "    }\n",
       "\n",
       "    .dataframe thead th {\n",
       "        text-align: right;\n",
       "    }\n",
       "</style>\n",
       "<table border=\"1\" class=\"dataframe\">\n",
       "  <thead>\n",
       "    <tr style=\"text-align: right;\">\n",
       "      <th></th>\n",
       "      <th>Player</th>\n",
       "      <th>Season</th>\n",
       "      <th>Competition</th>\n",
       "      <th>Matchday</th>\n",
       "      <th>Date</th>\n",
       "      <th>Venue</th>\n",
       "      <th>Club</th>\n",
       "      <th>Opponent</th>\n",
       "      <th>Result</th>\n",
       "      <th>Playing_Position</th>\n",
       "      <th>Minute</th>\n",
       "      <th>At_score</th>\n",
       "      <th>Type</th>\n",
       "      <th>Goal_assist</th>\n",
       "    </tr>\n",
       "  </thead>\n",
       "  <tbody>\n",
       "    <tr>\n",
       "      <th>0</th>\n",
       "      <td>Cristiano Ronaldo</td>\n",
       "      <td>02/03</td>\n",
       "      <td>Liga Portugal</td>\n",
       "      <td>6</td>\n",
       "      <td>2002-10-07</td>\n",
       "      <td>H</td>\n",
       "      <td>Sporting CP</td>\n",
       "      <td>Moreirense FC</td>\n",
       "      <td>3:00</td>\n",
       "      <td>LW</td>\n",
       "      <td>34</td>\n",
       "      <td>2:00</td>\n",
       "      <td>Solo run</td>\n",
       "      <td>NaN</td>\n",
       "    </tr>\n",
       "    <tr>\n",
       "      <th>1</th>\n",
       "      <td>Cristiano Ronaldo</td>\n",
       "      <td>02/03</td>\n",
       "      <td>Liga Portugal</td>\n",
       "      <td>6</td>\n",
       "      <td>2002-10-07</td>\n",
       "      <td>H</td>\n",
       "      <td>Sporting CP</td>\n",
       "      <td>Moreirense FC</td>\n",
       "      <td>3:00</td>\n",
       "      <td>LW</td>\n",
       "      <td>90+5</td>\n",
       "      <td>3:00</td>\n",
       "      <td>Header</td>\n",
       "      <td>Rui Jorge</td>\n",
       "    </tr>\n",
       "  </tbody>\n",
       "</table>\n",
       "</div>"
      ],
      "text/plain": [
       "              Player Season    Competition Matchday        Date Venue  \\\n",
       "0  Cristiano Ronaldo  02/03  Liga Portugal        6  2002-10-07     H   \n",
       "1  Cristiano Ronaldo  02/03  Liga Portugal        6  2002-10-07     H   \n",
       "\n",
       "          Club       Opponent Result Playing_Position Minute At_score  \\\n",
       "0  Sporting CP  Moreirense FC   3:00               LW     34     2:00   \n",
       "1  Sporting CP  Moreirense FC   3:00               LW   90+5     3:00   \n",
       "\n",
       "       Type Goal_assist  \n",
       "0  Solo run         NaN  \n",
       "1    Header   Rui Jorge  "
      ]
     },
     "execution_count": 2,
     "metadata": {},
     "output_type": "execute_result"
    }
   ],
   "source": [
    "df=pd.read_csv('/kaggle/input/lionel-messi-vs-cristiano-ronaldo-club-goals/data.csv')\n",
    "df.head(2)"
   ]
  },
  {
   "cell_type": "code",
   "execution_count": 3,
   "id": "f5273ff5",
   "metadata": {
    "execution": {
     "iopub.execute_input": "2023-04-01T18:05:59.358394Z",
     "iopub.status.busy": "2023-04-01T18:05:59.357978Z",
     "iopub.status.idle": "2023-04-01T18:05:59.365563Z",
     "shell.execute_reply": "2023-04-01T18:05:59.364319Z"
    },
    "papermill": {
     "duration": 0.017878,
     "end_time": "2023-04-01T18:05:59.367925",
     "exception": false,
     "start_time": "2023-04-01T18:05:59.350047",
     "status": "completed"
    },
    "tags": []
   },
   "outputs": [
    {
     "data": {
      "text/plain": [
       "(1413, 14)"
      ]
     },
     "execution_count": 3,
     "metadata": {},
     "output_type": "execute_result"
    }
   ],
   "source": [
    "df.shape"
   ]
  },
  {
   "cell_type": "code",
   "execution_count": 4,
   "id": "3dfe7f8a",
   "metadata": {
    "execution": {
     "iopub.execute_input": "2023-04-01T18:05:59.383177Z",
     "iopub.status.busy": "2023-04-01T18:05:59.382739Z",
     "iopub.status.idle": "2023-04-01T18:05:59.388781Z",
     "shell.execute_reply": "2023-04-01T18:05:59.387285Z"
    },
    "papermill": {
     "duration": 0.0169,
     "end_time": "2023-04-01T18:05:59.391504",
     "exception": false,
     "start_time": "2023-04-01T18:05:59.374604",
     "status": "completed"
    },
    "tags": []
   },
   "outputs": [],
   "source": [
    "df.columns=df.columns.str.lower()"
   ]
  },
  {
   "cell_type": "code",
   "execution_count": 5,
   "id": "7e5b821a",
   "metadata": {
    "execution": {
     "iopub.execute_input": "2023-04-01T18:05:59.406530Z",
     "iopub.status.busy": "2023-04-01T18:05:59.406120Z",
     "iopub.status.idle": "2023-04-01T18:05:59.417320Z",
     "shell.execute_reply": "2023-04-01T18:05:59.415947Z"
    },
    "papermill": {
     "duration": 0.021776,
     "end_time": "2023-04-01T18:05:59.419792",
     "exception": false,
     "start_time": "2023-04-01T18:05:59.398016",
     "status": "completed"
    },
    "tags": []
   },
   "outputs": [
    {
     "data": {
      "text/plain": [
       "player                0\n",
       "season                0\n",
       "competition           0\n",
       "matchday              0\n",
       "date                  0\n",
       "venue                 0\n",
       "club                  0\n",
       "opponent              0\n",
       "result                0\n",
       "playing_position     58\n",
       "minute                0\n",
       "at_score              0\n",
       "type                 16\n",
       "goal_assist         460\n",
       "dtype: int64"
      ]
     },
     "execution_count": 5,
     "metadata": {},
     "output_type": "execute_result"
    }
   ],
   "source": [
    "df.isnull().sum()"
   ]
  },
  {
   "cell_type": "code",
   "execution_count": 6,
   "id": "861adbdb",
   "metadata": {
    "execution": {
     "iopub.execute_input": "2023-04-01T18:05:59.435242Z",
     "iopub.status.busy": "2023-04-01T18:05:59.434796Z",
     "iopub.status.idle": "2023-04-01T18:05:59.442441Z",
     "shell.execute_reply": "2023-04-01T18:05:59.441137Z"
    },
    "papermill": {
     "duration": 0.018443,
     "end_time": "2023-04-01T18:05:59.444977",
     "exception": false,
     "start_time": "2023-04-01T18:05:59.426534",
     "status": "completed"
    },
    "tags": []
   },
   "outputs": [],
   "source": [
    "df=df.fillna(0)"
   ]
  },
  {
   "cell_type": "code",
   "execution_count": 7,
   "id": "2915d67a",
   "metadata": {
    "execution": {
     "iopub.execute_input": "2023-04-01T18:05:59.460083Z",
     "iopub.status.busy": "2023-04-01T18:05:59.459643Z",
     "iopub.status.idle": "2023-04-01T18:05:59.468801Z",
     "shell.execute_reply": "2023-04-01T18:05:59.467594Z"
    },
    "papermill": {
     "duration": 0.019758,
     "end_time": "2023-04-01T18:05:59.471342",
     "exception": false,
     "start_time": "2023-04-01T18:05:59.451584",
     "status": "completed"
    },
    "tags": []
   },
   "outputs": [
    {
     "data": {
      "text/plain": [
       "player              object\n",
       "season              object\n",
       "competition         object\n",
       "matchday            object\n",
       "date                object\n",
       "venue               object\n",
       "club                object\n",
       "opponent            object\n",
       "result              object\n",
       "playing_position    object\n",
       "minute              object\n",
       "at_score            object\n",
       "type                object\n",
       "goal_assist         object\n",
       "dtype: object"
      ]
     },
     "execution_count": 7,
     "metadata": {},
     "output_type": "execute_result"
    }
   ],
   "source": [
    "df.dtypes"
   ]
  },
  {
   "cell_type": "code",
   "execution_count": 8,
   "id": "c37cc903",
   "metadata": {
    "execution": {
     "iopub.execute_input": "2023-04-01T18:05:59.486765Z",
     "iopub.status.busy": "2023-04-01T18:05:59.486359Z",
     "iopub.status.idle": "2023-04-01T18:05:59.504788Z",
     "shell.execute_reply": "2023-04-01T18:05:59.503588Z"
    },
    "papermill": {
     "duration": 0.02942,
     "end_time": "2023-04-01T18:05:59.507467",
     "exception": false,
     "start_time": "2023-04-01T18:05:59.478047",
     "status": "completed"
    },
    "tags": []
   },
   "outputs": [
    {
     "data": {
      "text/plain": [
       "False"
      ]
     },
     "execution_count": 8,
     "metadata": {},
     "output_type": "execute_result"
    }
   ],
   "source": [
    "df.duplicated().any()"
   ]
  },
  {
   "cell_type": "code",
   "execution_count": 9,
   "id": "588af352",
   "metadata": {
    "execution": {
     "iopub.execute_input": "2023-04-01T18:05:59.523069Z",
     "iopub.status.busy": "2023-04-01T18:05:59.522624Z",
     "iopub.status.idle": "2023-04-01T18:05:59.532604Z",
     "shell.execute_reply": "2023-04-01T18:05:59.531314Z"
    },
    "papermill": {
     "duration": 0.02101,
     "end_time": "2023-04-01T18:05:59.535199",
     "exception": false,
     "start_time": "2023-04-01T18:05:59.514189",
     "status": "completed"
    },
    "tags": []
   },
   "outputs": [],
   "source": [
    "cr=df[df['player']=='Cristiano Ronaldo']\n",
    "lm=df[df['player']=='Lionel Messi']"
   ]
  },
  {
   "cell_type": "code",
   "execution_count": 10,
   "id": "c9125a57",
   "metadata": {
    "execution": {
     "iopub.execute_input": "2023-04-01T18:05:59.550960Z",
     "iopub.status.busy": "2023-04-01T18:05:59.550498Z",
     "iopub.status.idle": "2023-04-01T18:05:59.558926Z",
     "shell.execute_reply": "2023-04-01T18:05:59.557641Z"
    },
    "papermill": {
     "duration": 0.019427,
     "end_time": "2023-04-01T18:05:59.561485",
     "exception": false,
     "start_time": "2023-04-01T18:05:59.542058",
     "status": "completed"
    },
    "tags": []
   },
   "outputs": [
    {
     "data": {
      "text/plain": [
       "array(['Liga Portugal', 'Taca de Portugal Placard', 'Premier League',\n",
       "       'FA Cup', 'UEFA Champions League Qualifying', 'EFL Cup',\n",
       "       'UEFA Champions League', 'FIFA Club World Cup', 'LaLiga',\n",
       "       'Copa del Rey', 'Supercopa', 'UEFA Super Cup', 'Serie A',\n",
       "       'Supercoppa Italiana', 'Italy Cup', 'Europa League',\n",
       "       'Saudi Pro League'], dtype=object)"
      ]
     },
     "execution_count": 10,
     "metadata": {},
     "output_type": "execute_result"
    }
   ],
   "source": [
    "cr['competition'].unique()"
   ]
  },
  {
   "cell_type": "code",
   "execution_count": 11,
   "id": "fb11fc69",
   "metadata": {
    "execution": {
     "iopub.execute_input": "2023-04-01T18:05:59.576966Z",
     "iopub.status.busy": "2023-04-01T18:05:59.576493Z",
     "iopub.status.idle": "2023-04-01T18:05:59.585815Z",
     "shell.execute_reply": "2023-04-01T18:05:59.584378Z"
    },
    "papermill": {
     "duration": 0.020161,
     "end_time": "2023-04-01T18:05:59.588457",
     "exception": false,
     "start_time": "2023-04-01T18:05:59.568296",
     "status": "completed"
    },
    "tags": []
   },
   "outputs": [
    {
     "data": {
      "text/plain": [
       "array(['LaLiga', 'UEFA Champions League', 'Copa del Rey', 'Supercopa',\n",
       "       'FIFA Club World Cup', 'UEFA Super Cup', 'Ligue 1',\n",
       "       'Troph�e des Champions', 'Trophée des Champions',\n",
       "       'Champions League'], dtype=object)"
      ]
     },
     "execution_count": 11,
     "metadata": {},
     "output_type": "execute_result"
    }
   ],
   "source": [
    "lm['competition'].unique()"
   ]
  },
  {
   "cell_type": "code",
   "execution_count": 12,
   "id": "fec24647",
   "metadata": {
    "execution": {
     "iopub.execute_input": "2023-04-01T18:05:59.604353Z",
     "iopub.status.busy": "2023-04-01T18:05:59.603915Z",
     "iopub.status.idle": "2023-04-01T18:05:59.614729Z",
     "shell.execute_reply": "2023-04-01T18:05:59.613152Z"
    },
    "papermill": {
     "duration": 0.022269,
     "end_time": "2023-04-01T18:05:59.617799",
     "exception": false,
     "start_time": "2023-04-01T18:05:59.595530",
     "status": "completed"
    },
    "tags": []
   },
   "outputs": [
    {
     "name": "stdout",
     "output_type": "stream",
     "text": [
      "The tournaments in which both Cristiano Ronaldo and Lionel Messi have participated:\n",
      "UEFA Champions League\n",
      "FIFA Club World Cup\n",
      "LaLiga\n",
      "Copa del Rey\n",
      "Supercopa\n",
      "UEFA Super Cup\n"
     ]
    }
   ],
   "source": [
    "print('The tournaments in which both Cristiano Ronaldo and Lionel Messi have participated:')\n",
    "tour=[]\n",
    "for i in cr['competition'].unique():\n",
    "    for j in lm['competition'].unique():\n",
    "        if i==j:\n",
    "            tour.append(i)\n",
    "            print(i)\n",
    "\n"
   ]
  },
  {
   "cell_type": "code",
   "execution_count": 13,
   "id": "96acdd10",
   "metadata": {
    "execution": {
     "iopub.execute_input": "2023-04-01T18:05:59.634532Z",
     "iopub.status.busy": "2023-04-01T18:05:59.633744Z",
     "iopub.status.idle": "2023-04-01T18:05:59.642355Z",
     "shell.execute_reply": "2023-04-01T18:05:59.641267Z"
    },
    "papermill": {
     "duration": 0.019729,
     "end_time": "2023-04-01T18:05:59.644700",
     "exception": false,
     "start_time": "2023-04-01T18:05:59.624971",
     "status": "completed"
    },
    "tags": []
   },
   "outputs": [
    {
     "data": {
      "text/plain": [
       "array(['02/03', '03/04', '04/05', '05/06', '06/07', '07/08', '08/09',\n",
       "       '09/10', '10/11', '11/12', 'Dec-13', '13/14', '14/15', '15/16',\n",
       "       '16/17', '17/18', '18/19', '19/20', '20/21', '21/22', '22/23'],\n",
       "      dtype=object)"
      ]
     },
     "execution_count": 13,
     "metadata": {},
     "output_type": "execute_result"
    }
   ],
   "source": [
    "cr['season'].unique()"
   ]
  },
  {
   "cell_type": "code",
   "execution_count": 14,
   "id": "eb7522dd",
   "metadata": {
    "execution": {
     "iopub.execute_input": "2023-04-01T18:05:59.661075Z",
     "iopub.status.busy": "2023-04-01T18:05:59.660553Z",
     "iopub.status.idle": "2023-04-01T18:05:59.668507Z",
     "shell.execute_reply": "2023-04-01T18:05:59.667254Z"
    },
    "papermill": {
     "duration": 0.019397,
     "end_time": "2023-04-01T18:05:59.671242",
     "exception": false,
     "start_time": "2023-04-01T18:05:59.651845",
     "status": "completed"
    },
    "tags": []
   },
   "outputs": [
    {
     "data": {
      "text/plain": [
       "array(['04/05', '05/06', '06/07', '07/08', '08/09', '09/10', '10/11',\n",
       "       '11-Dec', 'Dec-13', '13/14', '14/15', '15/16', '16/17', '17/18',\n",
       "       '18/19', '19/20', '20/21', '21/22', '22/23'], dtype=object)"
      ]
     },
     "execution_count": 14,
     "metadata": {},
     "output_type": "execute_result"
    }
   ],
   "source": [
    "lm['season'].unique()"
   ]
  },
  {
   "cell_type": "markdown",
   "id": "b8b3ded2",
   "metadata": {
    "papermill": {
     "duration": 0.007093,
     "end_time": "2023-04-01T18:05:59.685665",
     "exception": false,
     "start_time": "2023-04-01T18:05:59.678572",
     "status": "completed"
    },
    "tags": []
   },
   "source": [
    "#### Observation : \n",
    "##### As of now,Cristiano Ronaldo has been playing football for 21 years\n",
    "##### Lionel Messi has been playing football for 19 years"
   ]
  },
  {
   "cell_type": "code",
   "execution_count": 15,
   "id": "82d6e369",
   "metadata": {
    "execution": {
     "iopub.execute_input": "2023-04-01T18:05:59.705391Z",
     "iopub.status.busy": "2023-04-01T18:05:59.704976Z",
     "iopub.status.idle": "2023-04-01T18:05:59.712640Z",
     "shell.execute_reply": "2023-04-01T18:05:59.711005Z"
    },
    "papermill": {
     "duration": 0.019636,
     "end_time": "2023-04-01T18:05:59.715272",
     "exception": false,
     "start_time": "2023-04-01T18:05:59.695636",
     "status": "completed"
    },
    "tags": []
   },
   "outputs": [
    {
     "name": "stdout",
     "output_type": "stream",
     "text": [
      "The number of goals scored in entire career by Cristiano Ronaldo 106\n",
      "The number of goals scored in entire career by Lionel Messi 97\n"
     ]
    }
   ],
   "source": [
    "print('The number of goals scored in entire career by Cristiano Ronaldo',cr['minute'].nunique())\n",
    "print('The number of goals scored in entire career by Lionel Messi',lm['minute'].nunique())"
   ]
  },
  {
   "cell_type": "code",
   "execution_count": 16,
   "id": "95fbc26f",
   "metadata": {
    "execution": {
     "iopub.execute_input": "2023-04-01T18:05:59.732126Z",
     "iopub.status.busy": "2023-04-01T18:05:59.731652Z",
     "iopub.status.idle": "2023-04-01T18:05:59.738966Z",
     "shell.execute_reply": "2023-04-01T18:05:59.737621Z"
    },
    "papermill": {
     "duration": 0.01874,
     "end_time": "2023-04-01T18:05:59.741569",
     "exception": false,
     "start_time": "2023-04-01T18:05:59.722829",
     "status": "completed"
    },
    "tags": []
   },
   "outputs": [
    {
     "data": {
      "text/plain": [
       "['UEFA Champions League',\n",
       " 'FIFA Club World Cup',\n",
       " 'LaLiga',\n",
       " 'Copa del Rey',\n",
       " 'Supercopa',\n",
       " 'UEFA Super Cup']"
      ]
     },
     "execution_count": 16,
     "metadata": {},
     "output_type": "execute_result"
    }
   ],
   "source": [
    "tour"
   ]
  },
  {
   "cell_type": "code",
   "execution_count": 17,
   "id": "9a0a064f",
   "metadata": {
    "execution": {
     "iopub.execute_input": "2023-04-01T18:05:59.758780Z",
     "iopub.status.busy": "2023-04-01T18:05:59.758282Z",
     "iopub.status.idle": "2023-04-01T18:06:01.724424Z",
     "shell.execute_reply": "2023-04-01T18:06:01.723337Z"
    },
    "papermill": {
     "duration": 1.977745,
     "end_time": "2023-04-01T18:06:01.726930",
     "exception": false,
     "start_time": "2023-04-01T18:05:59.749185",
     "status": "completed"
    },
    "tags": []
   },
   "outputs": [
    {
     "data": {
      "text/html": [
       "        <script type=\"text/javascript\">\n",
       "        window.PlotlyConfig = {MathJaxConfig: 'local'};\n",
       "        if (window.MathJax && window.MathJax.Hub && window.MathJax.Hub.Config) {window.MathJax.Hub.Config({SVG: {font: \"STIX-Web\"}});}\n",
       "        if (typeof require !== 'undefined') {\n",
       "        require.undef(\"plotly\");\n",
       "        requirejs.config({\n",
       "            paths: {\n",
       "                'plotly': ['https://cdn.plot.ly/plotly-2.18.0.min']\n",
       "            }\n",
       "        });\n",
       "        require(['plotly'], function(Plotly) {\n",
       "            window._Plotly = Plotly;\n",
       "        });\n",
       "        }\n",
       "        </script>\n",
       "        "
      ]
     },
     "metadata": {},
     "output_type": "display_data"
    },
    {
     "data": {
      "text/html": [
       "<div>                            <div id=\"696af393-6406-42b4-a195-37436e57c01d\" class=\"plotly-graph-div\" style=\"height:500px; width:1000px;\"></div>            <script type=\"text/javascript\">                require([\"plotly\"], function(Plotly) {                    window.PLOTLYENV=window.PLOTLYENV || {};                                    if (document.getElementById(\"696af393-6406-42b4-a195-37436e57c01d\")) {                    Plotly.newPlot(                        \"696af393-6406-42b4-a195-37436e57c01d\",                        [{\"alignmentgroup\":\"True\",\"hovertemplate\":\"season=%{x}<br>goals=%{marker.color}<extra></extra>\",\"legendgroup\":\"\",\"marker\":{\"color\":[61,60,55,53,51,51,44,42,42,37,36,33,28,26,24,23,12,12,9,6,5],\"coloraxis\":\"coloraxis\",\"pattern\":{\"shape\":\"\"}},\"name\":\"\",\"offsetgroup\":\"\",\"orientation\":\"v\",\"showlegend\":false,\"textposition\":\"auto\",\"x\":[\"14/15\",\"11/12\",\"Dec-13\",\"10/11\",\"15/16\",\"13/14\",\"17/18\",\"07/08\",\"16/17\",\"19/20\",\"20/21\",\"09/10\",\"18/19\",\"08/09\",\"21/22\",\"06/07\",\"05/06\",\"22/23\",\"04/05\",\"03/04\",\"02/03\"],\"xaxis\":\"x\",\"y\":[61,60,55,53,51,51,44,42,42,37,36,33,28,26,24,23,12,12,9,6,5],\"yaxis\":\"y\",\"type\":\"bar\"},{\"alignmentgroup\":\"True\",\"hovertemplate\":\"season=%{x}<br>goals=%{marker.color}<extra></extra>\",\"legendgroup\":\"\",\"marker\":{\"color\":[73,60,58,54,53,51,47,45,41,41,38,38,31,17,17,16,14,8,1],\"coloraxis\":\"coloraxis\",\"pattern\":{\"shape\":\"\"}},\"name\":\"\",\"offsetgroup\":\"\",\"orientation\":\"v\",\"showlegend\":false,\"textposition\":\"auto\",\"x\":[\"11-Dec\",\"Dec-13\",\"14/15\",\"16/17\",\"10/11\",\"18/19\",\"09/10\",\"17/18\",\"13/14\",\"15/16\",\"08/09\",\"20/21\",\"19/20\",\"06/07\",\"22/23\",\"07/08\",\"21/22\",\"05/06\",\"04/05\"],\"xaxis\":\"x2\",\"y\":[73,60,58,54,53,51,47,45,41,41,38,38,31,17,17,16,14,8,1],\"yaxis\":\"y2\",\"type\":\"bar\"}],                        {\"template\":{\"data\":{\"histogram2dcontour\":[{\"type\":\"histogram2dcontour\",\"colorbar\":{\"outlinewidth\":0,\"ticks\":\"\"},\"colorscale\":[[0.0,\"#0d0887\"],[0.1111111111111111,\"#46039f\"],[0.2222222222222222,\"#7201a8\"],[0.3333333333333333,\"#9c179e\"],[0.4444444444444444,\"#bd3786\"],[0.5555555555555556,\"#d8576b\"],[0.6666666666666666,\"#ed7953\"],[0.7777777777777778,\"#fb9f3a\"],[0.8888888888888888,\"#fdca26\"],[1.0,\"#f0f921\"]]}],\"choropleth\":[{\"type\":\"choropleth\",\"colorbar\":{\"outlinewidth\":0,\"ticks\":\"\"}}],\"histogram2d\":[{\"type\":\"histogram2d\",\"colorbar\":{\"outlinewidth\":0,\"ticks\":\"\"},\"colorscale\":[[0.0,\"#0d0887\"],[0.1111111111111111,\"#46039f\"],[0.2222222222222222,\"#7201a8\"],[0.3333333333333333,\"#9c179e\"],[0.4444444444444444,\"#bd3786\"],[0.5555555555555556,\"#d8576b\"],[0.6666666666666666,\"#ed7953\"],[0.7777777777777778,\"#fb9f3a\"],[0.8888888888888888,\"#fdca26\"],[1.0,\"#f0f921\"]]}],\"heatmap\":[{\"type\":\"heatmap\",\"colorbar\":{\"outlinewidth\":0,\"ticks\":\"\"},\"colorscale\":[[0.0,\"#0d0887\"],[0.1111111111111111,\"#46039f\"],[0.2222222222222222,\"#7201a8\"],[0.3333333333333333,\"#9c179e\"],[0.4444444444444444,\"#bd3786\"],[0.5555555555555556,\"#d8576b\"],[0.6666666666666666,\"#ed7953\"],[0.7777777777777778,\"#fb9f3a\"],[0.8888888888888888,\"#fdca26\"],[1.0,\"#f0f921\"]]}],\"heatmapgl\":[{\"type\":\"heatmapgl\",\"colorbar\":{\"outlinewidth\":0,\"ticks\":\"\"},\"colorscale\":[[0.0,\"#0d0887\"],[0.1111111111111111,\"#46039f\"],[0.2222222222222222,\"#7201a8\"],[0.3333333333333333,\"#9c179e\"],[0.4444444444444444,\"#bd3786\"],[0.5555555555555556,\"#d8576b\"],[0.6666666666666666,\"#ed7953\"],[0.7777777777777778,\"#fb9f3a\"],[0.8888888888888888,\"#fdca26\"],[1.0,\"#f0f921\"]]}],\"contourcarpet\":[{\"type\":\"contourcarpet\",\"colorbar\":{\"outlinewidth\":0,\"ticks\":\"\"}}],\"contour\":[{\"type\":\"contour\",\"colorbar\":{\"outlinewidth\":0,\"ticks\":\"\"},\"colorscale\":[[0.0,\"#0d0887\"],[0.1111111111111111,\"#46039f\"],[0.2222222222222222,\"#7201a8\"],[0.3333333333333333,\"#9c179e\"],[0.4444444444444444,\"#bd3786\"],[0.5555555555555556,\"#d8576b\"],[0.6666666666666666,\"#ed7953\"],[0.7777777777777778,\"#fb9f3a\"],[0.8888888888888888,\"#fdca26\"],[1.0,\"#f0f921\"]]}],\"surface\":[{\"type\":\"surface\",\"colorbar\":{\"outlinewidth\":0,\"ticks\":\"\"},\"colorscale\":[[0.0,\"#0d0887\"],[0.1111111111111111,\"#46039f\"],[0.2222222222222222,\"#7201a8\"],[0.3333333333333333,\"#9c179e\"],[0.4444444444444444,\"#bd3786\"],[0.5555555555555556,\"#d8576b\"],[0.6666666666666666,\"#ed7953\"],[0.7777777777777778,\"#fb9f3a\"],[0.8888888888888888,\"#fdca26\"],[1.0,\"#f0f921\"]]}],\"mesh3d\":[{\"type\":\"mesh3d\",\"colorbar\":{\"outlinewidth\":0,\"ticks\":\"\"}}],\"scatter\":[{\"fillpattern\":{\"fillmode\":\"overlay\",\"size\":10,\"solidity\":0.2},\"type\":\"scatter\"}],\"parcoords\":[{\"type\":\"parcoords\",\"line\":{\"colorbar\":{\"outlinewidth\":0,\"ticks\":\"\"}}}],\"scatterpolargl\":[{\"type\":\"scatterpolargl\",\"marker\":{\"colorbar\":{\"outlinewidth\":0,\"ticks\":\"\"}}}],\"bar\":[{\"error_x\":{\"color\":\"#2a3f5f\"},\"error_y\":{\"color\":\"#2a3f5f\"},\"marker\":{\"line\":{\"color\":\"#E5ECF6\",\"width\":0.5},\"pattern\":{\"fillmode\":\"overlay\",\"size\":10,\"solidity\":0.2}},\"type\":\"bar\"}],\"scattergeo\":[{\"type\":\"scattergeo\",\"marker\":{\"colorbar\":{\"outlinewidth\":0,\"ticks\":\"\"}}}],\"scatterpolar\":[{\"type\":\"scatterpolar\",\"marker\":{\"colorbar\":{\"outlinewidth\":0,\"ticks\":\"\"}}}],\"histogram\":[{\"marker\":{\"pattern\":{\"fillmode\":\"overlay\",\"size\":10,\"solidity\":0.2}},\"type\":\"histogram\"}],\"scattergl\":[{\"type\":\"scattergl\",\"marker\":{\"colorbar\":{\"outlinewidth\":0,\"ticks\":\"\"}}}],\"scatter3d\":[{\"type\":\"scatter3d\",\"line\":{\"colorbar\":{\"outlinewidth\":0,\"ticks\":\"\"}},\"marker\":{\"colorbar\":{\"outlinewidth\":0,\"ticks\":\"\"}}}],\"scattermapbox\":[{\"type\":\"scattermapbox\",\"marker\":{\"colorbar\":{\"outlinewidth\":0,\"ticks\":\"\"}}}],\"scatterternary\":[{\"type\":\"scatterternary\",\"marker\":{\"colorbar\":{\"outlinewidth\":0,\"ticks\":\"\"}}}],\"scattercarpet\":[{\"type\":\"scattercarpet\",\"marker\":{\"colorbar\":{\"outlinewidth\":0,\"ticks\":\"\"}}}],\"carpet\":[{\"aaxis\":{\"endlinecolor\":\"#2a3f5f\",\"gridcolor\":\"white\",\"linecolor\":\"white\",\"minorgridcolor\":\"white\",\"startlinecolor\":\"#2a3f5f\"},\"baxis\":{\"endlinecolor\":\"#2a3f5f\",\"gridcolor\":\"white\",\"linecolor\":\"white\",\"minorgridcolor\":\"white\",\"startlinecolor\":\"#2a3f5f\"},\"type\":\"carpet\"}],\"table\":[{\"cells\":{\"fill\":{\"color\":\"#EBF0F8\"},\"line\":{\"color\":\"white\"}},\"header\":{\"fill\":{\"color\":\"#C8D4E3\"},\"line\":{\"color\":\"white\"}},\"type\":\"table\"}],\"barpolar\":[{\"marker\":{\"line\":{\"color\":\"#E5ECF6\",\"width\":0.5},\"pattern\":{\"fillmode\":\"overlay\",\"size\":10,\"solidity\":0.2}},\"type\":\"barpolar\"}],\"pie\":[{\"automargin\":true,\"type\":\"pie\"}]},\"layout\":{\"autotypenumbers\":\"strict\",\"colorway\":[\"#636efa\",\"#EF553B\",\"#00cc96\",\"#ab63fa\",\"#FFA15A\",\"#19d3f3\",\"#FF6692\",\"#B6E880\",\"#FF97FF\",\"#FECB52\"],\"font\":{\"color\":\"#2a3f5f\"},\"hovermode\":\"closest\",\"hoverlabel\":{\"align\":\"left\"},\"paper_bgcolor\":\"white\",\"plot_bgcolor\":\"#E5ECF6\",\"polar\":{\"bgcolor\":\"#E5ECF6\",\"angularaxis\":{\"gridcolor\":\"white\",\"linecolor\":\"white\",\"ticks\":\"\"},\"radialaxis\":{\"gridcolor\":\"white\",\"linecolor\":\"white\",\"ticks\":\"\"}},\"ternary\":{\"bgcolor\":\"#E5ECF6\",\"aaxis\":{\"gridcolor\":\"white\",\"linecolor\":\"white\",\"ticks\":\"\"},\"baxis\":{\"gridcolor\":\"white\",\"linecolor\":\"white\",\"ticks\":\"\"},\"caxis\":{\"gridcolor\":\"white\",\"linecolor\":\"white\",\"ticks\":\"\"}},\"coloraxis\":{\"colorbar\":{\"outlinewidth\":0,\"ticks\":\"\"}},\"colorscale\":{\"sequential\":[[0.0,\"#0d0887\"],[0.1111111111111111,\"#46039f\"],[0.2222222222222222,\"#7201a8\"],[0.3333333333333333,\"#9c179e\"],[0.4444444444444444,\"#bd3786\"],[0.5555555555555556,\"#d8576b\"],[0.6666666666666666,\"#ed7953\"],[0.7777777777777778,\"#fb9f3a\"],[0.8888888888888888,\"#fdca26\"],[1.0,\"#f0f921\"]],\"sequentialminus\":[[0.0,\"#0d0887\"],[0.1111111111111111,\"#46039f\"],[0.2222222222222222,\"#7201a8\"],[0.3333333333333333,\"#9c179e\"],[0.4444444444444444,\"#bd3786\"],[0.5555555555555556,\"#d8576b\"],[0.6666666666666666,\"#ed7953\"],[0.7777777777777778,\"#fb9f3a\"],[0.8888888888888888,\"#fdca26\"],[1.0,\"#f0f921\"]],\"diverging\":[[0,\"#8e0152\"],[0.1,\"#c51b7d\"],[0.2,\"#de77ae\"],[0.3,\"#f1b6da\"],[0.4,\"#fde0ef\"],[0.5,\"#f7f7f7\"],[0.6,\"#e6f5d0\"],[0.7,\"#b8e186\"],[0.8,\"#7fbc41\"],[0.9,\"#4d9221\"],[1,\"#276419\"]]},\"xaxis\":{\"gridcolor\":\"white\",\"linecolor\":\"white\",\"ticks\":\"\",\"title\":{\"standoff\":15},\"zerolinecolor\":\"white\",\"automargin\":true,\"zerolinewidth\":2},\"yaxis\":{\"gridcolor\":\"white\",\"linecolor\":\"white\",\"ticks\":\"\",\"title\":{\"standoff\":15},\"zerolinecolor\":\"white\",\"automargin\":true,\"zerolinewidth\":2},\"scene\":{\"xaxis\":{\"backgroundcolor\":\"#E5ECF6\",\"gridcolor\":\"white\",\"linecolor\":\"white\",\"showbackground\":true,\"ticks\":\"\",\"zerolinecolor\":\"white\",\"gridwidth\":2},\"yaxis\":{\"backgroundcolor\":\"#E5ECF6\",\"gridcolor\":\"white\",\"linecolor\":\"white\",\"showbackground\":true,\"ticks\":\"\",\"zerolinecolor\":\"white\",\"gridwidth\":2},\"zaxis\":{\"backgroundcolor\":\"#E5ECF6\",\"gridcolor\":\"white\",\"linecolor\":\"white\",\"showbackground\":true,\"ticks\":\"\",\"zerolinecolor\":\"white\",\"gridwidth\":2}},\"shapedefaults\":{\"line\":{\"color\":\"#2a3f5f\"}},\"annotationdefaults\":{\"arrowcolor\":\"#2a3f5f\",\"arrowhead\":0,\"arrowwidth\":1},\"geo\":{\"bgcolor\":\"white\",\"landcolor\":\"#E5ECF6\",\"subunitcolor\":\"white\",\"showland\":true,\"showlakes\":true,\"lakecolor\":\"white\"},\"title\":{\"x\":0.05},\"mapbox\":{\"style\":\"light\"}}},\"xaxis\":{\"anchor\":\"y\",\"domain\":[0.0,0.45]},\"yaxis\":{\"anchor\":\"x\",\"domain\":[0.0,1.0]},\"xaxis2\":{\"anchor\":\"y2\",\"domain\":[0.55,1.0]},\"yaxis2\":{\"anchor\":\"x2\",\"domain\":[0.0,1.0]},\"annotations\":[{\"font\":{\"size\":16},\"showarrow\":false,\"text\":\"Goals by Cristiano Ronaldo per season\",\"x\":0.225,\"xanchor\":\"center\",\"xref\":\"paper\",\"y\":1.0,\"yanchor\":\"bottom\",\"yref\":\"paper\"},{\"font\":{\"size\":16},\"showarrow\":false,\"text\":\"Goals by Lionel Messi per season\",\"x\":0.775,\"xanchor\":\"center\",\"xref\":\"paper\",\"y\":1.0,\"yanchor\":\"bottom\",\"yref\":\"paper\"}],\"title\":{\"text\":\"Comparison of Goals by Ronaldo and Messi per season\"},\"height\":500,\"width\":1000},                        {\"responsive\": true}                    ).then(function(){\n",
       "                            \n",
       "var gd = document.getElementById('696af393-6406-42b4-a195-37436e57c01d');\n",
       "var x = new MutationObserver(function (mutations, observer) {{\n",
       "        var display = window.getComputedStyle(gd).display;\n",
       "        if (!display || display === 'none') {{\n",
       "            console.log([gd, 'removed!']);\n",
       "            Plotly.purge(gd);\n",
       "            observer.disconnect();\n",
       "        }}\n",
       "}});\n",
       "\n",
       "// Listen for the removal of the full notebook cells\n",
       "var notebookContainer = gd.closest('#notebook-container');\n",
       "if (notebookContainer) {{\n",
       "    x.observe(notebookContainer, {childList: true});\n",
       "}}\n",
       "\n",
       "// Listen for the clearing of the current output cell\n",
       "var outputEl = gd.closest('.output');\n",
       "if (outputEl) {{\n",
       "    x.observe(outputEl, {childList: true});\n",
       "}}\n",
       "\n",
       "                        })                };                });            </script>        </div>"
      ]
     },
     "metadata": {},
     "output_type": "display_data"
    }
   ],
   "source": [
    "fig = make_subplots(rows=1, cols=2, subplot_titles=('Goals by Cristiano Ronaldo per season', \n",
    "                                                       'Goals by Lionel Messi per season'))\n",
    "\n",
    "st = cr.groupby('season')['type'].count().reset_index(name='goals')\n",
    "st = st.sort_values(by='goals',ascending=False)\n",
    "fig1 = px.bar(st,x='season',y='goals',color='goals')\n",
    "fig.add_trace(fig1.data[0], row=1, col=1)\n",
    "\n",
    "st1 = lm.groupby('season')['type'].count().reset_index(name='goals')\n",
    "st1 = st1.sort_values(by='goals',ascending=False)\n",
    "fig2 = px.bar(st1,x='season',y='goals',color='goals')\n",
    "fig.add_trace(fig2.data[0], row=1, col=2)\n",
    "\n",
    "fig.update_layout(height=500, width=1000, title_text='Comparison of Goals by Ronaldo and Messi per season')\n",
    "fig.show()\n"
   ]
  },
  {
   "cell_type": "code",
   "execution_count": 18,
   "id": "aa179ad1",
   "metadata": {
    "execution": {
     "iopub.execute_input": "2023-04-01T18:06:01.744973Z",
     "iopub.status.busy": "2023-04-01T18:06:01.744440Z",
     "iopub.status.idle": "2023-04-01T18:06:01.875401Z",
     "shell.execute_reply": "2023-04-01T18:06:01.874101Z"
    },
    "papermill": {
     "duration": 0.143559,
     "end_time": "2023-04-01T18:06:01.878459",
     "exception": false,
     "start_time": "2023-04-01T18:06:01.734900",
     "status": "completed"
    },
    "tags": []
   },
   "outputs": [
    {
     "data": {
      "text/html": [
       "<div>                            <div id=\"b935829b-ad71-477f-8842-a375f7736c17\" class=\"plotly-graph-div\" style=\"height:500px; width:100%;\"></div>            <script type=\"text/javascript\">                require([\"plotly\"], function(Plotly) {                    window.PLOTLYENV=window.PLOTLYENV || {};                                    if (document.getElementById(\"b935829b-ad71-477f-8842-a375f7736c17\")) {                    Plotly.newPlot(                        \"b935829b-ad71-477f-8842-a375f7736c17\",                        [{\"alignmentgroup\":\"True\",\"bingroup\":\"x\",\"hovertemplate\":\"club=Sporting CP<br>competition=%{x}<br>count=%{y}<extra></extra>\",\"legendgroup\":\"Sporting CP\",\"marker\":{\"color\":\"#636efa\",\"pattern\":{\"shape\":\"\"}},\"name\":\"Sporting CP\",\"offsetgroup\":\"Sporting CP\",\"orientation\":\"v\",\"showlegend\":true,\"x\":[\"Liga Portugal\",\"Liga Portugal\",\"Liga Portugal\",\"Taca de Portugal Placard\",\"Taca de Portugal Placard\"],\"xaxis\":\"x\",\"yaxis\":\"y\",\"type\":\"histogram\"},{\"alignmentgroup\":\"True\",\"bingroup\":\"x\",\"hovertemplate\":\"club=Manchester United<br>competition=%{x}<br>count=%{y}<extra></extra>\",\"legendgroup\":\"Manchester United\",\"marker\":{\"color\":\"#EF553B\",\"pattern\":{\"shape\":\"\"}},\"name\":\"Manchester United\",\"offsetgroup\":\"Manchester United\",\"orientation\":\"v\",\"showlegend\":true,\"x\":[\"Premier League\",\"FA Cup\",\"Premier League\",\"Premier League\",\"Premier League\",\"FA Cup\",\"Premier League\",\"FA Cup\",\"Premier League\",\"Premier League\",\"Premier League\",\"FA Cup\",\"FA Cup\",\"Premier League\",\"FA Cup\",\"UEFA Champions League Qualifying\",\"Premier League\",\"EFL Cup\",\"Premier League\",\"Premier League\",\"Premier League\",\"Premier League\",\"Premier League\",\"Premier League\",\"EFL Cup\",\"Premier League\",\"Premier League\",\"Premier League\",\"Premier League\",\"Premier League\",\"Premier League\",\"Premier League\",\"Premier League\",\"Premier League\",\"Premier League\",\"Premier League\",\"Premier League\",\"Premier League\",\"Premier League\",\"Premier League\",\"Premier League\",\"Premier League\",\"Premier League\",\"FA Cup\",\"FA Cup\",\"UEFA Champions League\",\"UEFA Champions League\",\"FA Cup\",\"UEFA Champions League\",\"Premier League\",\"UEFA Champions League\",\"Premier League\",\"Premier League\",\"Premier League\",\"UEFA Champions League\",\"UEFA Champions League\",\"Premier League\",\"UEFA Champions League\",\"Premier League\",\"Premier League\",\"UEFA Champions League\",\"Premier League\",\"Premier League\",\"Premier League\",\"Premier League\",\"Premier League\",\"Premier League\",\"Premier League\",\"FA Cup\",\"Premier League\",\"Premier League\",\"Premier League\",\"Premier League\",\"FA Cup\",\"FA Cup\",\"Premier League\",\"Premier League\",\"Premier League\",\"Premier League\",\"UEFA Champions League\",\"Premier League\",\"Premier League\",\"Premier League\",\"Premier League\",\"Premier League\",\"UEFA Champions League\",\"Premier League\",\"Premier League\",\"Premier League\",\"Premier League\",\"Premier League\",\"UEFA Champions League\",\"EFL Cup\",\"Premier League\",\"Premier League\",\"Premier League\",\"Premier League\",\"Premier League\",\"Premier League\",\"Premier League\",\"Premier League\",\"FIFA Club World Cup\",\"EFL Cup\",\"Premier League\",\"Premier League\",\"Premier League\",\"FA Cup\",\"Premier League\",\"UEFA Champions League\",\"Premier League\",\"Premier League\",\"Premier League\",\"UEFA Champions League\",\"Premier League\",\"Premier League\",\"UEFA Champions League\",\"UEFA Champions League\",\"Premier League\",\"Premier League\",\"Premier League\",\"UEFA Champions League\",\"Premier League\",\"UEFA Champions League\",\"UEFA Champions League\",\"Premier League\",\"UEFA Champions League\",\"UEFA Champions League\",\"UEFA Champions League\",\"Premier League\",\"Premier League\",\"Premier League\",\"Premier League\",\"Premier League\",\"Premier League\",\"Premier League\",\"Premier League\",\"Premier League\",\"Premier League\",\"Premier League\",\"Premier League\",\"Premier League\",\"Premier League\",\"Europa League\",\"Premier League\",\"Europa League\"],\"xaxis\":\"x\",\"yaxis\":\"y\",\"type\":\"histogram\"},{\"alignmentgroup\":\"True\",\"bingroup\":\"x\",\"hovertemplate\":\"club=Real Madrid<br>competition=%{x}<br>count=%{y}<extra></extra>\",\"legendgroup\":\"Real Madrid\",\"marker\":{\"color\":\"#00cc96\",\"pattern\":{\"shape\":\"\"}},\"name\":\"Real Madrid\",\"offsetgroup\":\"Real Madrid\",\"orientation\":\"v\",\"showlegend\":true,\"x\":[\"LaLiga\",\"LaLiga\",\"UEFA Champions League\",\"UEFA Champions League\",\"LaLiga\",\"LaLiga\",\"LaLiga\",\"UEFA Champions League\",\"UEFA Champions League\",\"LaLiga\",\"UEFA Champions League\",\"UEFA Champions League\",\"LaLiga\",\"LaLiga\",\"LaLiga\",\"LaLiga\",\"LaLiga\",\"LaLiga\",\"LaLiga\",\"LaLiga\",\"UEFA Champions League\",\"LaLiga\",\"LaLiga\",\"LaLiga\",\"LaLiga\",\"LaLiga\",\"LaLiga\",\"LaLiga\",\"LaLiga\",\"LaLiga\",\"LaLiga\",\"LaLiga\",\"LaLiga\",\"LaLiga\",\"LaLiga\",\"LaLiga\",\"LaLiga\",\"LaLiga\",\"UEFA Champions League\",\"LaLiga\",\"LaLiga\",\"LaLiga\",\"LaLiga\",\"LaLiga\",\"LaLiga\",\"Copa del Rey\",\"LaLiga\",\"LaLiga\",\"LaLiga\",\"UEFA Champions League\",\"UEFA Champions League\",\"LaLiga\",\"LaLiga\",\"UEFA Champions League\",\"LaLiga\",\"Copa del Rey\",\"Copa del Rey\",\"Copa del Rey\",\"LaLiga\",\"LaLiga\",\"LaLiga\",\"LaLiga\",\"LaLiga\",\"Copa del Rey\",\"Copa del Rey\",\"LaLiga\",\"LaLiga\",\"LaLiga\",\"LaLiga\",\"LaLiga\",\"UEFA Champions League\",\"LaLiga\",\"UEFA Champions League\",\"LaLiga\",\"Copa del Rey\",\"LaLiga\",\"LaLiga\",\"LaLiga\",\"LaLiga\",\"LaLiga\",\"LaLiga\",\"LaLiga\",\"LaLiga\",\"LaLiga\",\"LaLiga\",\"LaLiga\",\"Supercopa\",\"LaLiga\",\"LaLiga\",\"LaLiga\",\"LaLiga\",\"LaLiga\",\"LaLiga\",\"LaLiga\",\"UEFA Champions League\",\"LaLiga\",\"LaLiga\",\"LaLiga\",\"UEFA Champions League\",\"UEFA Champions League\",\"LaLiga\",\"LaLiga\",\"LaLiga\",\"LaLiga\",\"LaLiga\",\"LaLiga\",\"LaLiga\",\"Copa del Rey\",\"LaLiga\",\"LaLiga\",\"LaLiga\",\"LaLiga\",\"Copa del Rey\",\"LaLiga\",\"LaLiga\",\"Copa del Rey\",\"LaLiga\",\"LaLiga\",\"LaLiga\",\"LaLiga\",\"LaLiga\",\"UEFA Champions League\",\"LaLiga\",\"LaLiga\",\"LaLiga\",\"LaLiga\",\"UEFA Champions League\",\"UEFA Champions League\",\"LaLiga\",\"LaLiga\",\"LaLiga\",\"LaLiga\",\"LaLiga\",\"UEFA Champions League\",\"UEFA Champions League\",\"LaLiga\",\"LaLiga\",\"LaLiga\",\"LaLiga\",\"LaLiga\",\"UEFA Champions League\",\"UEFA Champions League\",\"LaLiga\",\"LaLiga\",\"LaLiga\",\"LaLiga\",\"Supercopa\",\"Supercopa\",\"LaLiga\",\"LaLiga\",\"UEFA Champions League\",\"LaLiga\",\"LaLiga\",\"LaLiga\",\"LaLiga\",\"UEFA Champions League\",\"UEFA Champions League\",\"UEFA Champions League\",\"LaLiga\",\"LaLiga\",\"LaLiga\",\"UEFA Champions League\",\"LaLiga\",\"LaLiga\",\"LaLiga\",\"LaLiga\",\"UEFA Champions League\",\"Copa del Rey\",\"LaLiga\",\"LaLiga\",\"LaLiga\",\"Copa del Rey\",\"Copa del Rey\",\"Copa del Rey\",\"LaLiga\",\"LaLiga\",\"LaLiga\",\"LaLiga\",\"LaLiga\",\"LaLiga\",\"LaLiga\",\"LaLiga\",\"UEFA Champions League\",\"Copa del Rey\",\"Copa del Rey\",\"UEFA Champions League\",\"LaLiga\",\"LaLiga\",\"LaLiga\",\"LaLiga\",\"UEFA Champions League\",\"LaLiga\",\"UEFA Champions League\",\"UEFA Champions League\",\"LaLiga\",\"LaLiga\",\"UEFA Champions League\",\"LaLiga\",\"LaLiga\",\"LaLiga\",\"Copa del Rey\",\"LaLiga\",\"LaLiga\",\"UEFA Champions League\",\"UEFA Champions League\",\"UEFA Champions League\",\"LaLiga\",\"LaLiga\",\"LaLiga\",\"LaLiga\",\"UEFA Champions League\",\"UEFA Champions League\",\"LaLiga\",\"LaLiga\",\"UEFA Champions League\",\"UEFA Champions League\",\"LaLiga\",\"LaLiga\",\"LaLiga\",\"LaLiga\",\"LaLiga\",\"UEFA Champions League\",\"LaLiga\",\"LaLiga\",\"LaLiga\",\"LaLiga\",\"UEFA Champions League\",\"LaLiga\",\"LaLiga\",\"LaLiga\",\"Copa del Rey\",\"LaLiga\",\"LaLiga\",\"Copa del Rey\",\"Copa del Rey\",\"UEFA Champions League\",\"UEFA Champions League\",\"LaLiga\",\"LaLiga\",\"LaLiga\",\"UEFA Champions League\",\"UEFA Champions League\",\"LaLiga\",\"LaLiga\",\"LaLiga\",\"UEFA Champions League\",\"LaLiga\",\"LaLiga\",\"UEFA Champions League\",\"UEFA Champions League\",\"LaLiga\",\"UEFA Champions League\",\"UEFA Super Cup\",\"UEFA Super Cup\",\"LaLiga\",\"LaLiga\",\"UEFA Champions League\",\"LaLiga\",\"LaLiga\",\"LaLiga\",\"LaLiga\",\"LaLiga\",\"LaLiga\",\"LaLiga\",\"LaLiga\",\"UEFA Champions League\",\"LaLiga\",\"LaLiga\",\"LaLiga\",\"LaLiga\",\"LaLiga\",\"UEFA Champions League\",\"LaLiga\",\"LaLiga\",\"LaLiga\",\"LaLiga\",\"LaLiga\",\"UEFA Champions League\",\"LaLiga\",\"LaLiga\",\"LaLiga\",\"UEFA Champions League\",\"LaLiga\",\"LaLiga\",\"LaLiga\",\"Copa del Rey\",\"LaLiga\",\"LaLiga\",\"UEFA Champions League\",\"LaLiga\",\"LaLiga\",\"UEFA Champions League\",\"UEFA Champions League\",\"LaLiga\",\"LaLiga\",\"LaLiga\",\"LaLiga\",\"LaLiga\",\"LaLiga\",\"LaLiga\",\"LaLiga\",\"LaLiga\",\"LaLiga\",\"LaLiga\",\"LaLiga\",\"UEFA Champions League\",\"UEFA Champions League\",\"LaLiga\",\"LaLiga\",\"LaLiga\",\"LaLiga\",\"LaLiga\",\"LaLiga\",\"LaLiga\",\"LaLiga\",\"LaLiga\",\"LaLiga\",\"LaLiga\",\"UEFA Champions League\",\"UEFA Champions League\",\"UEFA Champions League\",\"UEFA Champions League\",\"UEFA Champions League\",\"LaLiga\",\"LaLiga\",\"LaLiga\",\"UEFA Champions League\",\"UEFA Champions League\",\"LaLiga\",\"LaLiga\",\"UEFA Champions League\",\"UEFA Champions League\",\"UEFA Champions League\",\"UEFA Champions League\",\"LaLiga\",\"LaLiga\",\"LaLiga\",\"LaLiga\",\"LaLiga\",\"LaLiga\",\"LaLiga\",\"LaLiga\",\"LaLiga\",\"LaLiga\",\"LaLiga\",\"UEFA Champions League\",\"LaLiga\",\"LaLiga\",\"LaLiga\",\"LaLiga\",\"LaLiga\",\"LaLiga\",\"UEFA Champions League\",\"LaLiga\",\"LaLiga\",\"LaLiga\",\"UEFA Champions League\",\"UEFA Champions League\",\"UEFA Champions League\",\"LaLiga\",\"LaLiga\",\"LaLiga\",\"LaLiga\",\"LaLiga\",\"LaLiga\",\"UEFA Champions League\",\"UEFA Champions League\",\"LaLiga\",\"LaLiga\",\"LaLiga\",\"LaLiga\",\"LaLiga\",\"LaLiga\",\"LaLiga\",\"LaLiga\",\"LaLiga\",\"FIFA Club World Cup\",\"FIFA Club World Cup\",\"FIFA Club World Cup\",\"FIFA Club World Cup\",\"LaLiga\",\"LaLiga\",\"Copa del Rey\",\"LaLiga\",\"LaLiga\",\"LaLiga\",\"LaLiga\",\"LaLiga\",\"LaLiga\",\"LaLiga\",\"UEFA Champions League\",\"UEFA Champions League\",\"UEFA Champions League\",\"UEFA Champions League\",\"UEFA Champions League\",\"LaLiga\",\"UEFA Champions League\",\"UEFA Champions League\",\"UEFA Champions League\",\"LaLiga\",\"LaLiga\",\"LaLiga\",\"LaLiga\",\"LaLiga\",\"UEFA Champions League\",\"UEFA Champions League\",\"Supercopa\",\"UEFA Champions League\",\"UEFA Champions League\",\"UEFA Champions League\",\"UEFA Champions League\",\"LaLiga\",\"UEFA Champions League\",\"UEFA Champions League\",\"UEFA Champions League\",\"UEFA Champions League\",\"LaLiga\",\"UEFA Champions League\",\"LaLiga\",\"LaLiga\",\"FIFA Club World Cup\",\"FIFA Club World Cup\",\"LaLiga\",\"LaLiga\",\"LaLiga\",\"LaLiga\",\"LaLiga\",\"LaLiga\",\"LaLiga\",\"UEFA Champions League\",\"UEFA Champions League\",\"LaLiga\",\"LaLiga\",\"LaLiga\",\"LaLiga\",\"LaLiga\",\"UEFA Champions League\",\"LaLiga\",\"LaLiga\",\"LaLiga\",\"LaLiga\",\"LaLiga\",\"LaLiga\",\"UEFA Champions League\",\"UEFA Champions League\",\"LaLiga\",\"UEFA Champions League\",\"LaLiga\",\"LaLiga\",\"LaLiga\"],\"xaxis\":\"x\",\"yaxis\":\"y\",\"type\":\"histogram\"},{\"alignmentgroup\":\"True\",\"bingroup\":\"x\",\"hovertemplate\":\"club=Juventus FC<br>competition=%{x}<br>count=%{y}<extra></extra>\",\"legendgroup\":\"Juventus FC\",\"marker\":{\"color\":\"#ab63fa\",\"pattern\":{\"shape\":\"\"}},\"name\":\"Juventus FC\",\"offsetgroup\":\"Juventus FC\",\"orientation\":\"v\",\"showlegend\":true,\"x\":[\"Serie A\",\"Serie A\",\"Serie A\",\"Serie A\",\"Serie A\",\"Serie A\",\"Serie A\",\"UEFA Champions League\",\"Serie A\",\"Serie A\",\"Serie A\",\"Serie A\",\"Serie A\",\"Serie A\",\"Serie A\",\"Supercoppa Italiana\",\"Serie A\",\"Serie A\",\"Serie A\",\"Serie A\",\"Serie A\",\"UEFA Champions League\",\"UEFA Champions League\",\"UEFA Champions League\",\"UEFA Champions League\",\"UEFA Champions League\",\"Serie A\",\"Serie A\",\"Serie A\",\"Serie A\",\"Serie A\",\"UEFA Champions League\",\"Serie A\",\"Serie A\",\"Serie A\",\"Serie A\",\"UEFA Champions League\",\"Serie A\",\"Serie A\",\"Serie A\",\"Serie A\",\"Serie A\",\"Serie A\",\"Serie A\",\"Serie A\",\"Serie A\",\"Italy Cup\",\"Serie A\",\"Serie A\",\"Serie A\",\"Serie A\",\"Italy Cup\",\"Serie A\",\"Serie A\",\"Serie A\",\"Serie A\",\"Serie A\",\"Serie A\",\"Serie A\",\"Serie A\",\"Serie A\",\"Serie A\",\"Serie A\",\"UEFA Champions League\",\"UEFA Champions League\",\"Serie A\",\"Serie A\",\"Serie A\",\"Serie A\",\"Serie A\",\"Serie A\",\"Serie A\",\"Serie A\",\"UEFA Champions League\",\"UEFA Champions League\",\"UEFA Champions League\",\"UEFA Champions League\",\"Serie A\",\"Serie A\",\"Serie A\",\"Serie A\",\"Serie A\",\"Serie A\",\"Serie A\",\"Supercoppa Italiana\",\"Italy Cup\",\"Italy Cup\",\"Serie A\",\"Serie A\",\"Serie A\",\"Serie A\",\"Serie A\",\"Serie A\",\"Serie A\",\"Serie A\",\"Serie A\",\"Serie A\",\"Serie A\",\"Serie A\",\"Serie A\",\"Serie A\"],\"xaxis\":\"x\",\"yaxis\":\"y\",\"type\":\"histogram\"},{\"alignmentgroup\":\"True\",\"bingroup\":\"x\",\"hovertemplate\":\"club=Al-Nassr FC<br>competition=%{x}<br>count=%{y}<extra></extra>\",\"legendgroup\":\"Al-Nassr FC\",\"marker\":{\"color\":\"#FFA15A\",\"pattern\":{\"shape\":\"\"}},\"name\":\"Al-Nassr FC\",\"offsetgroup\":\"Al-Nassr FC\",\"orientation\":\"v\",\"showlegend\":true,\"x\":[\"Saudi Pro League\",\"Saudi Pro League\",\"Saudi Pro League\",\"Saudi Pro League\",\"Saudi Pro League\",\"Saudi Pro League\",\"Saudi Pro League\",\"Saudi Pro League\",\"Saudi Pro League\"],\"xaxis\":\"x\",\"yaxis\":\"y\",\"type\":\"histogram\"}],                        {\"template\":{\"data\":{\"histogram2dcontour\":[{\"type\":\"histogram2dcontour\",\"colorbar\":{\"outlinewidth\":0,\"ticks\":\"\"},\"colorscale\":[[0.0,\"#0d0887\"],[0.1111111111111111,\"#46039f\"],[0.2222222222222222,\"#7201a8\"],[0.3333333333333333,\"#9c179e\"],[0.4444444444444444,\"#bd3786\"],[0.5555555555555556,\"#d8576b\"],[0.6666666666666666,\"#ed7953\"],[0.7777777777777778,\"#fb9f3a\"],[0.8888888888888888,\"#fdca26\"],[1.0,\"#f0f921\"]]}],\"choropleth\":[{\"type\":\"choropleth\",\"colorbar\":{\"outlinewidth\":0,\"ticks\":\"\"}}],\"histogram2d\":[{\"type\":\"histogram2d\",\"colorbar\":{\"outlinewidth\":0,\"ticks\":\"\"},\"colorscale\":[[0.0,\"#0d0887\"],[0.1111111111111111,\"#46039f\"],[0.2222222222222222,\"#7201a8\"],[0.3333333333333333,\"#9c179e\"],[0.4444444444444444,\"#bd3786\"],[0.5555555555555556,\"#d8576b\"],[0.6666666666666666,\"#ed7953\"],[0.7777777777777778,\"#fb9f3a\"],[0.8888888888888888,\"#fdca26\"],[1.0,\"#f0f921\"]]}],\"heatmap\":[{\"type\":\"heatmap\",\"colorbar\":{\"outlinewidth\":0,\"ticks\":\"\"},\"colorscale\":[[0.0,\"#0d0887\"],[0.1111111111111111,\"#46039f\"],[0.2222222222222222,\"#7201a8\"],[0.3333333333333333,\"#9c179e\"],[0.4444444444444444,\"#bd3786\"],[0.5555555555555556,\"#d8576b\"],[0.6666666666666666,\"#ed7953\"],[0.7777777777777778,\"#fb9f3a\"],[0.8888888888888888,\"#fdca26\"],[1.0,\"#f0f921\"]]}],\"heatmapgl\":[{\"type\":\"heatmapgl\",\"colorbar\":{\"outlinewidth\":0,\"ticks\":\"\"},\"colorscale\":[[0.0,\"#0d0887\"],[0.1111111111111111,\"#46039f\"],[0.2222222222222222,\"#7201a8\"],[0.3333333333333333,\"#9c179e\"],[0.4444444444444444,\"#bd3786\"],[0.5555555555555556,\"#d8576b\"],[0.6666666666666666,\"#ed7953\"],[0.7777777777777778,\"#fb9f3a\"],[0.8888888888888888,\"#fdca26\"],[1.0,\"#f0f921\"]]}],\"contourcarpet\":[{\"type\":\"contourcarpet\",\"colorbar\":{\"outlinewidth\":0,\"ticks\":\"\"}}],\"contour\":[{\"type\":\"contour\",\"colorbar\":{\"outlinewidth\":0,\"ticks\":\"\"},\"colorscale\":[[0.0,\"#0d0887\"],[0.1111111111111111,\"#46039f\"],[0.2222222222222222,\"#7201a8\"],[0.3333333333333333,\"#9c179e\"],[0.4444444444444444,\"#bd3786\"],[0.5555555555555556,\"#d8576b\"],[0.6666666666666666,\"#ed7953\"],[0.7777777777777778,\"#fb9f3a\"],[0.8888888888888888,\"#fdca26\"],[1.0,\"#f0f921\"]]}],\"surface\":[{\"type\":\"surface\",\"colorbar\":{\"outlinewidth\":0,\"ticks\":\"\"},\"colorscale\":[[0.0,\"#0d0887\"],[0.1111111111111111,\"#46039f\"],[0.2222222222222222,\"#7201a8\"],[0.3333333333333333,\"#9c179e\"],[0.4444444444444444,\"#bd3786\"],[0.5555555555555556,\"#d8576b\"],[0.6666666666666666,\"#ed7953\"],[0.7777777777777778,\"#fb9f3a\"],[0.8888888888888888,\"#fdca26\"],[1.0,\"#f0f921\"]]}],\"mesh3d\":[{\"type\":\"mesh3d\",\"colorbar\":{\"outlinewidth\":0,\"ticks\":\"\"}}],\"scatter\":[{\"fillpattern\":{\"fillmode\":\"overlay\",\"size\":10,\"solidity\":0.2},\"type\":\"scatter\"}],\"parcoords\":[{\"type\":\"parcoords\",\"line\":{\"colorbar\":{\"outlinewidth\":0,\"ticks\":\"\"}}}],\"scatterpolargl\":[{\"type\":\"scatterpolargl\",\"marker\":{\"colorbar\":{\"outlinewidth\":0,\"ticks\":\"\"}}}],\"bar\":[{\"error_x\":{\"color\":\"#2a3f5f\"},\"error_y\":{\"color\":\"#2a3f5f\"},\"marker\":{\"line\":{\"color\":\"#E5ECF6\",\"width\":0.5},\"pattern\":{\"fillmode\":\"overlay\",\"size\":10,\"solidity\":0.2}},\"type\":\"bar\"}],\"scattergeo\":[{\"type\":\"scattergeo\",\"marker\":{\"colorbar\":{\"outlinewidth\":0,\"ticks\":\"\"}}}],\"scatterpolar\":[{\"type\":\"scatterpolar\",\"marker\":{\"colorbar\":{\"outlinewidth\":0,\"ticks\":\"\"}}}],\"histogram\":[{\"marker\":{\"pattern\":{\"fillmode\":\"overlay\",\"size\":10,\"solidity\":0.2}},\"type\":\"histogram\"}],\"scattergl\":[{\"type\":\"scattergl\",\"marker\":{\"colorbar\":{\"outlinewidth\":0,\"ticks\":\"\"}}}],\"scatter3d\":[{\"type\":\"scatter3d\",\"line\":{\"colorbar\":{\"outlinewidth\":0,\"ticks\":\"\"}},\"marker\":{\"colorbar\":{\"outlinewidth\":0,\"ticks\":\"\"}}}],\"scattermapbox\":[{\"type\":\"scattermapbox\",\"marker\":{\"colorbar\":{\"outlinewidth\":0,\"ticks\":\"\"}}}],\"scatterternary\":[{\"type\":\"scatterternary\",\"marker\":{\"colorbar\":{\"outlinewidth\":0,\"ticks\":\"\"}}}],\"scattercarpet\":[{\"type\":\"scattercarpet\",\"marker\":{\"colorbar\":{\"outlinewidth\":0,\"ticks\":\"\"}}}],\"carpet\":[{\"aaxis\":{\"endlinecolor\":\"#2a3f5f\",\"gridcolor\":\"white\",\"linecolor\":\"white\",\"minorgridcolor\":\"white\",\"startlinecolor\":\"#2a3f5f\"},\"baxis\":{\"endlinecolor\":\"#2a3f5f\",\"gridcolor\":\"white\",\"linecolor\":\"white\",\"minorgridcolor\":\"white\",\"startlinecolor\":\"#2a3f5f\"},\"type\":\"carpet\"}],\"table\":[{\"cells\":{\"fill\":{\"color\":\"#EBF0F8\"},\"line\":{\"color\":\"white\"}},\"header\":{\"fill\":{\"color\":\"#C8D4E3\"},\"line\":{\"color\":\"white\"}},\"type\":\"table\"}],\"barpolar\":[{\"marker\":{\"line\":{\"color\":\"#E5ECF6\",\"width\":0.5},\"pattern\":{\"fillmode\":\"overlay\",\"size\":10,\"solidity\":0.2}},\"type\":\"barpolar\"}],\"pie\":[{\"automargin\":true,\"type\":\"pie\"}]},\"layout\":{\"autotypenumbers\":\"strict\",\"colorway\":[\"#636efa\",\"#EF553B\",\"#00cc96\",\"#ab63fa\",\"#FFA15A\",\"#19d3f3\",\"#FF6692\",\"#B6E880\",\"#FF97FF\",\"#FECB52\"],\"font\":{\"color\":\"#2a3f5f\"},\"hovermode\":\"closest\",\"hoverlabel\":{\"align\":\"left\"},\"paper_bgcolor\":\"white\",\"plot_bgcolor\":\"#E5ECF6\",\"polar\":{\"bgcolor\":\"#E5ECF6\",\"angularaxis\":{\"gridcolor\":\"white\",\"linecolor\":\"white\",\"ticks\":\"\"},\"radialaxis\":{\"gridcolor\":\"white\",\"linecolor\":\"white\",\"ticks\":\"\"}},\"ternary\":{\"bgcolor\":\"#E5ECF6\",\"aaxis\":{\"gridcolor\":\"white\",\"linecolor\":\"white\",\"ticks\":\"\"},\"baxis\":{\"gridcolor\":\"white\",\"linecolor\":\"white\",\"ticks\":\"\"},\"caxis\":{\"gridcolor\":\"white\",\"linecolor\":\"white\",\"ticks\":\"\"}},\"coloraxis\":{\"colorbar\":{\"outlinewidth\":0,\"ticks\":\"\"}},\"colorscale\":{\"sequential\":[[0.0,\"#0d0887\"],[0.1111111111111111,\"#46039f\"],[0.2222222222222222,\"#7201a8\"],[0.3333333333333333,\"#9c179e\"],[0.4444444444444444,\"#bd3786\"],[0.5555555555555556,\"#d8576b\"],[0.6666666666666666,\"#ed7953\"],[0.7777777777777778,\"#fb9f3a\"],[0.8888888888888888,\"#fdca26\"],[1.0,\"#f0f921\"]],\"sequentialminus\":[[0.0,\"#0d0887\"],[0.1111111111111111,\"#46039f\"],[0.2222222222222222,\"#7201a8\"],[0.3333333333333333,\"#9c179e\"],[0.4444444444444444,\"#bd3786\"],[0.5555555555555556,\"#d8576b\"],[0.6666666666666666,\"#ed7953\"],[0.7777777777777778,\"#fb9f3a\"],[0.8888888888888888,\"#fdca26\"],[1.0,\"#f0f921\"]],\"diverging\":[[0,\"#8e0152\"],[0.1,\"#c51b7d\"],[0.2,\"#de77ae\"],[0.3,\"#f1b6da\"],[0.4,\"#fde0ef\"],[0.5,\"#f7f7f7\"],[0.6,\"#e6f5d0\"],[0.7,\"#b8e186\"],[0.8,\"#7fbc41\"],[0.9,\"#4d9221\"],[1,\"#276419\"]]},\"xaxis\":{\"gridcolor\":\"white\",\"linecolor\":\"white\",\"ticks\":\"\",\"title\":{\"standoff\":15},\"zerolinecolor\":\"white\",\"automargin\":true,\"zerolinewidth\":2},\"yaxis\":{\"gridcolor\":\"white\",\"linecolor\":\"white\",\"ticks\":\"\",\"title\":{\"standoff\":15},\"zerolinecolor\":\"white\",\"automargin\":true,\"zerolinewidth\":2},\"scene\":{\"xaxis\":{\"backgroundcolor\":\"#E5ECF6\",\"gridcolor\":\"white\",\"linecolor\":\"white\",\"showbackground\":true,\"ticks\":\"\",\"zerolinecolor\":\"white\",\"gridwidth\":2},\"yaxis\":{\"backgroundcolor\":\"#E5ECF6\",\"gridcolor\":\"white\",\"linecolor\":\"white\",\"showbackground\":true,\"ticks\":\"\",\"zerolinecolor\":\"white\",\"gridwidth\":2},\"zaxis\":{\"backgroundcolor\":\"#E5ECF6\",\"gridcolor\":\"white\",\"linecolor\":\"white\",\"showbackground\":true,\"ticks\":\"\",\"zerolinecolor\":\"white\",\"gridwidth\":2}},\"shapedefaults\":{\"line\":{\"color\":\"#2a3f5f\"}},\"annotationdefaults\":{\"arrowcolor\":\"#2a3f5f\",\"arrowhead\":0,\"arrowwidth\":1},\"geo\":{\"bgcolor\":\"white\",\"landcolor\":\"#E5ECF6\",\"subunitcolor\":\"white\",\"showland\":true,\"showlakes\":true,\"lakecolor\":\"white\"},\"title\":{\"x\":0.05},\"mapbox\":{\"style\":\"light\"}}},\"xaxis\":{\"anchor\":\"y\",\"domain\":[0.0,1.0],\"title\":{\"text\":\"competition\"}},\"yaxis\":{\"anchor\":\"x\",\"domain\":[0.0,1.0],\"title\":{\"text\":\"count\"}},\"legend\":{\"title\":{\"text\":\"club\"},\"tracegroupgap\":0},\"title\":{\"text\":\"Goals per competition by Cristiano Ronaldo\"},\"barmode\":\"relative\",\"height\":500},                        {\"responsive\": true}                    ).then(function(){\n",
       "                            \n",
       "var gd = document.getElementById('b935829b-ad71-477f-8842-a375f7736c17');\n",
       "var x = new MutationObserver(function (mutations, observer) {{\n",
       "        var display = window.getComputedStyle(gd).display;\n",
       "        if (!display || display === 'none') {{\n",
       "            console.log([gd, 'removed!']);\n",
       "            Plotly.purge(gd);\n",
       "            observer.disconnect();\n",
       "        }}\n",
       "}});\n",
       "\n",
       "// Listen for the removal of the full notebook cells\n",
       "var notebookContainer = gd.closest('#notebook-container');\n",
       "if (notebookContainer) {{\n",
       "    x.observe(notebookContainer, {childList: true});\n",
       "}}\n",
       "\n",
       "// Listen for the clearing of the current output cell\n",
       "var outputEl = gd.closest('.output');\n",
       "if (outputEl) {{\n",
       "    x.observe(outputEl, {childList: true});\n",
       "}}\n",
       "\n",
       "                        })                };                });            </script>        </div>"
      ]
     },
     "metadata": {},
     "output_type": "display_data"
    }
   ],
   "source": [
    "px.histogram(cr,x='competition',\n",
    "             title=\"Goals per competition by Cristiano Ronaldo\",\n",
    "             height=500,\n",
    "             color='club',\n",
    "             hover_name='club',\n",
    "             hover_data=['competition','club'])\n"
   ]
  },
  {
   "cell_type": "code",
   "execution_count": 19,
   "id": "a062c10b",
   "metadata": {
    "execution": {
     "iopub.execute_input": "2023-04-01T18:06:01.897171Z",
     "iopub.status.busy": "2023-04-01T18:06:01.896750Z",
     "iopub.status.idle": "2023-04-01T18:06:01.966140Z",
     "shell.execute_reply": "2023-04-01T18:06:01.964910Z"
    },
    "papermill": {
     "duration": 0.081866,
     "end_time": "2023-04-01T18:06:01.968914",
     "exception": false,
     "start_time": "2023-04-01T18:06:01.887048",
     "status": "completed"
    },
    "tags": []
   },
   "outputs": [
    {
     "data": {
      "text/html": [
       "<div>                            <div id=\"d67f7c15-5053-48e5-8dc2-c8185e311f6a\" class=\"plotly-graph-div\" style=\"height:500px; width:100%;\"></div>            <script type=\"text/javascript\">                require([\"plotly\"], function(Plotly) {                    window.PLOTLYENV=window.PLOTLYENV || {};                                    if (document.getElementById(\"d67f7c15-5053-48e5-8dc2-c8185e311f6a\")) {                    Plotly.newPlot(                        \"d67f7c15-5053-48e5-8dc2-c8185e311f6a\",                        [{\"alignmentgroup\":\"True\",\"bingroup\":\"x\",\"hovertemplate\":\"club=FC Barcelona<br>competition=%{x}<br>count=%{y}<extra></extra>\",\"legendgroup\":\"FC Barcelona\",\"marker\":{\"color\":\"#636efa\",\"pattern\":{\"shape\":\"\"}},\"name\":\"FC Barcelona\",\"offsetgroup\":\"FC Barcelona\",\"orientation\":\"v\",\"showlegend\":true,\"x\":[\"LaLiga\",\"UEFA Champions League\",\"LaLiga\",\"LaLiga\",\"LaLiga\",\"LaLiga\",\"LaLiga\",\"Copa del Rey\",\"LaLiga\",\"LaLiga\",\"LaLiga\",\"UEFA Champions League\",\"LaLiga\",\"LaLiga\",\"LaLiga\",\"LaLiga\",\"LaLiga\",\"LaLiga\",\"Copa del Rey\",\"Copa del Rey\",\"LaLiga\",\"LaLiga\",\"LaLiga\",\"LaLiga\",\"LaLiga\",\"LaLiga\",\"UEFA Champions League\",\"LaLiga\",\"LaLiga\",\"LaLiga\",\"LaLiga\",\"LaLiga\",\"UEFA Champions League\",\"LaLiga\",\"LaLiga\",\"UEFA Champions League\",\"LaLiga\",\"UEFA Champions League\",\"UEFA Champions League\",\"UEFA Champions League\",\"LaLiga\",\"LaLiga\",\"LaLiga\",\"LaLiga\",\"LaLiga\",\"LaLiga\",\"UEFA Champions League\",\"UEFA Champions League\",\"LaLiga\",\"UEFA Champions League\",\"LaLiga\",\"UEFA Champions League\",\"Copa del Rey\",\"LaLiga\",\"UEFA Champions League\",\"LaLiga\",\"LaLiga\",\"LaLiga\",\"Copa del Rey\",\"Copa del Rey\",\"Copa del Rey\",\"LaLiga\",\"LaLiga\",\"LaLiga\",\"LaLiga\",\"LaLiga\",\"LaLiga\",\"LaLiga\",\"Copa del Rey\",\"LaLiga\",\"UEFA Champions League\",\"LaLiga\",\"UEFA Champions League\",\"UEFA Champions League\",\"LaLiga\",\"LaLiga\",\"LaLiga\",\"LaLiga\",\"Copa del Rey\",\"UEFA Champions League\",\"Supercopa\",\"Supercopa\",\"LaLiga\",\"LaLiga\",\"LaLiga\",\"LaLiga\",\"LaLiga\",\"UEFA Champions League\",\"LaLiga\",\"LaLiga\",\"Copa del Rey\",\"LaLiga\",\"LaLiga\",\"UEFA Champions League\",\"FIFA Club World Cup\",\"FIFA Club World Cup\",\"LaLiga\",\"LaLiga\",\"LaLiga\",\"LaLiga\",\"LaLiga\",\"LaLiga\",\"LaLiga\",\"LaLiga\",\"LaLiga\",\"LaLiga\",\"LaLiga\",\"LaLiga\",\"LaLiga\",\"UEFA Champions League\",\"UEFA Champions League\",\"LaLiga\",\"LaLiga\",\"LaLiga\",\"LaLiga\",\"UEFA Champions League\",\"UEFA Champions League\",\"UEFA Champions League\",\"UEFA Champions League\",\"LaLiga\",\"LaLiga\",\"LaLiga\",\"LaLiga\",\"LaLiga\",\"LaLiga\",\"LaLiga\",\"LaLiga\",\"Supercopa\",\"Supercopa\",\"Supercopa\",\"LaLiga\",\"UEFA Champions League\",\"UEFA Champions League\",\"LaLiga\",\"LaLiga\",\"UEFA Champions League\",\"UEFA Champions League\",\"LaLiga\",\"LaLiga\",\"LaLiga\",\"LaLiga\",\"UEFA Champions League\",\"LaLiga\",\"Copa del Rey\",\"LaLiga\",\"LaLiga\",\"LaLiga\",\"LaLiga\",\"LaLiga\",\"UEFA Champions League\",\"LaLiga\",\"LaLiga\",\"LaLiga\",\"LaLiga\",\"LaLiga\",\"Copa del Rey\",\"Copa del Rey\",\"Copa del Rey\",\"Copa del Rey\",\"LaLiga\",\"Copa del Rey\",\"Copa del Rey\",\"LaLiga\",\"LaLiga\",\"LaLiga\",\"LaLiga\",\"LaLiga\",\"LaLiga\",\"LaLiga\",\"LaLiga\",\"UEFA Champions League\",\"UEFA Champions League\",\"LaLiga\",\"LaLiga\",\"UEFA Champions League\",\"LaLiga\",\"LaLiga\",\"UEFA Champions League\",\"UEFA Champions League\",\"UEFA Champions League\",\"Supercopa\",\"Supercopa\",\"Supercopa\",\"UEFA Super Cup\",\"LaLiga\",\"LaLiga\",\"LaLiga\",\"LaLiga\",\"LaLiga\",\"LaLiga\",\"LaLiga\",\"LaLiga\",\"UEFA Champions League\",\"UEFA Champions League\",\"LaLiga\",\"LaLiga\",\"LaLiga\",\"LaLiga\",\"LaLiga\",\"UEFA Champions League\",\"UEFA Champions League\",\"UEFA Champions League\",\"LaLiga\",\"LaLiga\",\"UEFA Champions League\",\"LaLiga\",\"LaLiga\",\"FIFA Club World Cup\",\"FIFA Club World Cup\",\"Copa del Rey\",\"Copa del Rey\",\"LaLiga\",\"LaLiga\",\"LaLiga\",\"LaLiga\",\"LaLiga\",\"LaLiga\",\"UEFA Champions League\",\"LaLiga\",\"LaLiga\",\"LaLiga\",\"LaLiga\",\"LaLiga\",\"UEFA Champions League\",\"UEFA Champions League\",\"UEFA Champions League\",\"UEFA Champions League\",\"UEFA Champions League\",\"LaLiga\",\"LaLiga\",\"LaLiga\",\"LaLiga\",\"LaLiga\",\"LaLiga\",\"LaLiga\",\"LaLiga\",\"UEFA Champions League\",\"UEFA Champions League\",\"LaLiga\",\"LaLiga\",\"LaLiga\",\"LaLiga\",\"LaLiga\",\"LaLiga\",\"LaLiga\",\"LaLiga\",\"LaLiga\",\"LaLiga\",\"LaLiga\",\"LaLiga\",\"LaLiga\",\"LaLiga\",\"Copa del Rey\",\"LaLiga\",\"LaLiga\",\"Supercopa\",\"LaLiga\",\"LaLiga\",\"Supercopa\",\"LaLiga\",\"LaLiga\",\"UEFA Champions League\",\"UEFA Champions League\",\"LaLiga\",\"LaLiga\",\"LaLiga\",\"LaLiga\",\"LaLiga\",\"LaLiga\",\"LaLiga\",\"UEFA Champions League\",\"LaLiga\",\"LaLiga\",\"LaLiga\",\"LaLiga\",\"UEFA Champions League\",\"UEFA Champions League\",\"LaLiga\",\"LaLiga\",\"LaLiga\",\"LaLiga\",\"LaLiga\",\"LaLiga\",\"Copa del Rey\",\"Copa del Rey\",\"LaLiga\",\"LaLiga\",\"LaLiga\",\"LaLiga\",\"LaLiga\",\"Copa del Rey\",\"LaLiga\",\"Copa del Rey\",\"LaLiga\",\"LaLiga\",\"LaLiga\",\"LaLiga\",\"LaLiga\",\"LaLiga\",\"LaLiga\",\"LaLiga\",\"LaLiga\",\"LaLiga\",\"LaLiga\",\"UEFA Champions League\",\"UEFA Champions League\",\"LaLiga\",\"LaLiga\",\"LaLiga\",\"UEFA Champions League\",\"LaLiga\",\"LaLiga\",\"LaLiga\",\"LaLiga\",\"LaLiga\",\"LaLiga\",\"LaLiga\",\"LaLiga\",\"LaLiga\",\"UEFA Champions League\",\"UEFA Champions League\",\"UEFA Champions League\",\"LaLiga\",\"LaLiga\",\"UEFA Champions League\",\"UEFA Champions League\",\"UEFA Champions League\",\"Copa del Rey\",\"Copa del Rey\",\"Copa del Rey\",\"Copa del Rey\",\"LaLiga\",\"LaLiga\",\"LaLiga\",\"Copa del Rey\",\"LaLiga\",\"LaLiga\",\"UEFA Champions League\",\"LaLiga\",\"LaLiga\",\"UEFA Champions League\",\"LaLiga\",\"LaLiga\",\"LaLiga\",\"LaLiga\",\"LaLiga\",\"LaLiga\",\"LaLiga\",\"LaLiga\",\"LaLiga\",\"LaLiga\",\"LaLiga\",\"LaLiga\",\"LaLiga\",\"LaLiga\",\"LaLiga\",\"LaLiga\",\"LaLiga\",\"LaLiga\",\"UEFA Champions League\",\"LaLiga\",\"LaLiga\",\"UEFA Champions League\",\"UEFA Champions League\",\"UEFA Champions League\",\"LaLiga\",\"LaLiga\",\"LaLiga\",\"UEFA Champions League\",\"UEFA Champions League\",\"UEFA Champions League\",\"LaLiga\",\"LaLiga\",\"LaLiga\",\"UEFA Champions League\",\"LaLiga\",\"LaLiga\",\"Copa del Rey\",\"LaLiga\",\"LaLiga\",\"LaLiga\",\"LaLiga\",\"Copa del Rey\",\"LaLiga\",\"LaLiga\",\"LaLiga\",\"LaLiga\",\"Copa del Rey\",\"LaLiga\",\"LaLiga\",\"LaLiga\",\"LaLiga\",\"LaLiga\",\"LaLiga\",\"LaLiga\",\"LaLiga\",\"LaLiga\",\"LaLiga\",\"LaLiga\",\"LaLiga\",\"LaLiga\",\"LaLiga\",\"LaLiga\",\"LaLiga\",\"LaLiga\",\"UEFA Champions League\",\"UEFA Champions League\",\"LaLiga\",\"LaLiga\",\"LaLiga\",\"Copa del Rey\",\"Copa del Rey\",\"UEFA Super Cup\",\"UEFA Super Cup\",\"Supercopa\",\"LaLiga\",\"LaLiga\",\"LaLiga\",\"UEFA Champions League\",\"UEFA Champions League\",\"LaLiga\",\"UEFA Champions League\",\"LaLiga\",\"FIFA Club World Cup\",\"LaLiga\",\"Copa del Rey\",\"Copa del Rey\",\"LaLiga\",\"LaLiga\",\"LaLiga\",\"LaLiga\",\"LaLiga\",\"LaLiga\",\"Copa del Rey\",\"Copa del Rey\",\"Copa del Rey\",\"LaLiga\",\"LaLiga\",\"LaLiga\",\"UEFA Champions League\",\"UEFA Champions League\",\"LaLiga\",\"LaLiga\",\"LaLiga\",\"LaLiga\",\"LaLiga\",\"LaLiga\",\"LaLiga\",\"UEFA Champions League\",\"LaLiga\",\"LaLiga\",\"LaLiga\",\"LaLiga\",\"Supercopa\",\"LaLiga\",\"LaLiga\",\"UEFA Champions League\",\"UEFA Champions League\",\"UEFA Champions League\",\"LaLiga\",\"LaLiga\",\"LaLiga\",\"UEFA Champions League\",\"UEFA Champions League\",\"UEFA Champions League\",\"LaLiga\",\"LaLiga\",\"UEFA Champions League\",\"LaLiga\",\"UEFA Champions League\",\"UEFA Champions League\",\"LaLiga\",\"UEFA Champions League\",\"LaLiga\",\"LaLiga\",\"LaLiga\",\"Copa del Rey\",\"LaLiga\",\"Copa del Rey\",\"LaLiga\",\"LaLiga\",\"Copa del Rey\",\"Copa del Rey\",\"LaLiga\",\"LaLiga\",\"LaLiga\",\"LaLiga\",\"LaLiga\",\"LaLiga\",\"LaLiga\",\"LaLiga\",\"UEFA Champions League\",\"LaLiga\",\"LaLiga\",\"LaLiga\",\"LaLiga\",\"LaLiga\",\"LaLiga\",\"LaLiga\",\"LaLiga\",\"LaLiga\",\"LaLiga\",\"LaLiga\",\"LaLiga\",\"LaLiga\",\"LaLiga\",\"Copa del Rey\",\"Supercopa\",\"LaLiga\",\"LaLiga\",\"LaLiga\",\"LaLiga\",\"LaLiga\",\"UEFA Champions League\",\"UEFA Champions League\",\"LaLiga\",\"LaLiga\",\"LaLiga\",\"LaLiga\",\"LaLiga\",\"LaLiga\",\"UEFA Champions League\",\"LaLiga\",\"LaLiga\",\"LaLiga\",\"LaLiga\",\"LaLiga\",\"Copa del Rey\",\"Copa del Rey\",\"LaLiga\",\"LaLiga\",\"LaLiga\",\"Copa del Rey\",\"LaLiga\",\"UEFA Champions League\",\"LaLiga\",\"LaLiga\",\"LaLiga\",\"LaLiga\",\"UEFA Champions League\",\"UEFA Champions League\",\"LaLiga\",\"LaLiga\",\"LaLiga\",\"LaLiga\",\"LaLiga\",\"Copa del Rey\",\"LaLiga\",\"LaLiga\",\"LaLiga\",\"LaLiga\",\"LaLiga\",\"LaLiga\",\"LaLiga\",\"LaLiga\",\"LaLiga\",\"UEFA Champions League\",\"UEFA Champions League\",\"UEFA Champions League\",\"LaLiga\",\"UEFA Champions League\",\"UEFA Champions League\",\"LaLiga\",\"LaLiga\",\"LaLiga\",\"LaLiga\",\"UEFA Champions League\",\"LaLiga\",\"LaLiga\",\"LaLiga\",\"LaLiga\",\"LaLiga\",\"LaLiga\",\"LaLiga\",\"LaLiga\",\"Copa del Rey\",\"LaLiga\",\"LaLiga\",\"Copa del Rey\",\"LaLiga\",\"LaLiga\",\"LaLiga\",\"LaLiga\",\"LaLiga\",\"LaLiga\",\"LaLiga\",\"UEFA Champions League\",\"UEFA Champions League\",\"LaLiga\",\"LaLiga\",\"LaLiga\",\"LaLiga\",\"LaLiga\",\"LaLiga\",\"LaLiga\",\"UEFA Champions League\",\"UEFA Champions League\",\"LaLiga\",\"UEFA Champions League\",\"UEFA Champions League\",\"LaLiga\",\"LaLiga\",\"Copa del Rey\",\"LaLiga\",\"LaLiga\",\"UEFA Champions League\",\"LaLiga\",\"LaLiga\",\"LaLiga\",\"LaLiga\",\"LaLiga\",\"LaLiga\",\"UEFA Champions League\",\"LaLiga\",\"LaLiga\",\"LaLiga\",\"LaLiga\",\"LaLiga\",\"Supercopa\",\"LaLiga\",\"Copa del Rey\",\"Copa del Rey\",\"LaLiga\",\"LaLiga\",\"LaLiga\",\"LaLiga\",\"LaLiga\",\"LaLiga\",\"LaLiga\",\"LaLiga\",\"LaLiga\",\"LaLiga\",\"LaLiga\",\"UEFA Champions League\",\"LaLiga\",\"UEFA Champions League\",\"UEFA Champions League\",\"UEFA Champions League\",\"LaLiga\",\"LaLiga\",\"LaLiga\",\"LaLiga\",\"LaLiga\",\"LaLiga\",\"LaLiga\",\"LaLiga\",\"LaLiga\",\"LaLiga\",\"Copa del Rey\",\"LaLiga\",\"LaLiga\",\"LaLiga\",\"LaLiga\",\"UEFA Champions League\",\"LaLiga\",\"LaLiga\",\"LaLiga\",\"LaLiga\",\"UEFA Champions League\",\"LaLiga\",\"LaLiga\",\"LaLiga\",\"LaLiga\",\"Copa del Rey\",\"Copa del Rey\",\"LaLiga\",\"LaLiga\",\"LaLiga\",\"LaLiga\",\"LaLiga\",\"LaLiga\",\"LaLiga\"],\"xaxis\":\"x\",\"yaxis\":\"y\",\"type\":\"histogram\"},{\"alignmentgroup\":\"True\",\"bingroup\":\"x\",\"hovertemplate\":\"club=Paris Saint-Germain<br>competition=%{x}<br>count=%{y}<extra></extra>\",\"legendgroup\":\"Paris Saint-Germain\",\"marker\":{\"color\":\"#EF553B\",\"pattern\":{\"shape\":\"\"}},\"name\":\"Paris Saint-Germain\",\"offsetgroup\":\"Paris Saint-Germain\",\"orientation\":\"v\",\"showlegend\":true,\"x\":[\"UEFA Champions League\",\"UEFA Champions League\",\"UEFA Champions League\",\"Ligue 1\",\"UEFA Champions League\",\"UEFA Champions League\",\"Ligue 1\",\"Ligue 1\",\"Ligue 1\",\"Ligue 1\",\"Ligue 1\",\"Troph�e des Champions\",\"Trophée des Champions\",\"Ligue 1\",\"Ligue 1\",\"Ligue 1\",\"Ligue 1\",\"Ligue 1\",\"Champions League\",\"Ligue 1\",\"Ligue 1\",\"UEFA Champions League\",\"Ligue 1\",\"UEFA Champions League\",\"UEFA Champions League\",\"Ligue 1\",\"Ligue 1\",\"Ligue 1\",\"Ligue 1\",\"Ligue 1\",\"Ligue 1\"],\"xaxis\":\"x\",\"yaxis\":\"y\",\"type\":\"histogram\"}],                        {\"template\":{\"data\":{\"histogram2dcontour\":[{\"type\":\"histogram2dcontour\",\"colorbar\":{\"outlinewidth\":0,\"ticks\":\"\"},\"colorscale\":[[0.0,\"#0d0887\"],[0.1111111111111111,\"#46039f\"],[0.2222222222222222,\"#7201a8\"],[0.3333333333333333,\"#9c179e\"],[0.4444444444444444,\"#bd3786\"],[0.5555555555555556,\"#d8576b\"],[0.6666666666666666,\"#ed7953\"],[0.7777777777777778,\"#fb9f3a\"],[0.8888888888888888,\"#fdca26\"],[1.0,\"#f0f921\"]]}],\"choropleth\":[{\"type\":\"choropleth\",\"colorbar\":{\"outlinewidth\":0,\"ticks\":\"\"}}],\"histogram2d\":[{\"type\":\"histogram2d\",\"colorbar\":{\"outlinewidth\":0,\"ticks\":\"\"},\"colorscale\":[[0.0,\"#0d0887\"],[0.1111111111111111,\"#46039f\"],[0.2222222222222222,\"#7201a8\"],[0.3333333333333333,\"#9c179e\"],[0.4444444444444444,\"#bd3786\"],[0.5555555555555556,\"#d8576b\"],[0.6666666666666666,\"#ed7953\"],[0.7777777777777778,\"#fb9f3a\"],[0.8888888888888888,\"#fdca26\"],[1.0,\"#f0f921\"]]}],\"heatmap\":[{\"type\":\"heatmap\",\"colorbar\":{\"outlinewidth\":0,\"ticks\":\"\"},\"colorscale\":[[0.0,\"#0d0887\"],[0.1111111111111111,\"#46039f\"],[0.2222222222222222,\"#7201a8\"],[0.3333333333333333,\"#9c179e\"],[0.4444444444444444,\"#bd3786\"],[0.5555555555555556,\"#d8576b\"],[0.6666666666666666,\"#ed7953\"],[0.7777777777777778,\"#fb9f3a\"],[0.8888888888888888,\"#fdca26\"],[1.0,\"#f0f921\"]]}],\"heatmapgl\":[{\"type\":\"heatmapgl\",\"colorbar\":{\"outlinewidth\":0,\"ticks\":\"\"},\"colorscale\":[[0.0,\"#0d0887\"],[0.1111111111111111,\"#46039f\"],[0.2222222222222222,\"#7201a8\"],[0.3333333333333333,\"#9c179e\"],[0.4444444444444444,\"#bd3786\"],[0.5555555555555556,\"#d8576b\"],[0.6666666666666666,\"#ed7953\"],[0.7777777777777778,\"#fb9f3a\"],[0.8888888888888888,\"#fdca26\"],[1.0,\"#f0f921\"]]}],\"contourcarpet\":[{\"type\":\"contourcarpet\",\"colorbar\":{\"outlinewidth\":0,\"ticks\":\"\"}}],\"contour\":[{\"type\":\"contour\",\"colorbar\":{\"outlinewidth\":0,\"ticks\":\"\"},\"colorscale\":[[0.0,\"#0d0887\"],[0.1111111111111111,\"#46039f\"],[0.2222222222222222,\"#7201a8\"],[0.3333333333333333,\"#9c179e\"],[0.4444444444444444,\"#bd3786\"],[0.5555555555555556,\"#d8576b\"],[0.6666666666666666,\"#ed7953\"],[0.7777777777777778,\"#fb9f3a\"],[0.8888888888888888,\"#fdca26\"],[1.0,\"#f0f921\"]]}],\"surface\":[{\"type\":\"surface\",\"colorbar\":{\"outlinewidth\":0,\"ticks\":\"\"},\"colorscale\":[[0.0,\"#0d0887\"],[0.1111111111111111,\"#46039f\"],[0.2222222222222222,\"#7201a8\"],[0.3333333333333333,\"#9c179e\"],[0.4444444444444444,\"#bd3786\"],[0.5555555555555556,\"#d8576b\"],[0.6666666666666666,\"#ed7953\"],[0.7777777777777778,\"#fb9f3a\"],[0.8888888888888888,\"#fdca26\"],[1.0,\"#f0f921\"]]}],\"mesh3d\":[{\"type\":\"mesh3d\",\"colorbar\":{\"outlinewidth\":0,\"ticks\":\"\"}}],\"scatter\":[{\"fillpattern\":{\"fillmode\":\"overlay\",\"size\":10,\"solidity\":0.2},\"type\":\"scatter\"}],\"parcoords\":[{\"type\":\"parcoords\",\"line\":{\"colorbar\":{\"outlinewidth\":0,\"ticks\":\"\"}}}],\"scatterpolargl\":[{\"type\":\"scatterpolargl\",\"marker\":{\"colorbar\":{\"outlinewidth\":0,\"ticks\":\"\"}}}],\"bar\":[{\"error_x\":{\"color\":\"#2a3f5f\"},\"error_y\":{\"color\":\"#2a3f5f\"},\"marker\":{\"line\":{\"color\":\"#E5ECF6\",\"width\":0.5},\"pattern\":{\"fillmode\":\"overlay\",\"size\":10,\"solidity\":0.2}},\"type\":\"bar\"}],\"scattergeo\":[{\"type\":\"scattergeo\",\"marker\":{\"colorbar\":{\"outlinewidth\":0,\"ticks\":\"\"}}}],\"scatterpolar\":[{\"type\":\"scatterpolar\",\"marker\":{\"colorbar\":{\"outlinewidth\":0,\"ticks\":\"\"}}}],\"histogram\":[{\"marker\":{\"pattern\":{\"fillmode\":\"overlay\",\"size\":10,\"solidity\":0.2}},\"type\":\"histogram\"}],\"scattergl\":[{\"type\":\"scattergl\",\"marker\":{\"colorbar\":{\"outlinewidth\":0,\"ticks\":\"\"}}}],\"scatter3d\":[{\"type\":\"scatter3d\",\"line\":{\"colorbar\":{\"outlinewidth\":0,\"ticks\":\"\"}},\"marker\":{\"colorbar\":{\"outlinewidth\":0,\"ticks\":\"\"}}}],\"scattermapbox\":[{\"type\":\"scattermapbox\",\"marker\":{\"colorbar\":{\"outlinewidth\":0,\"ticks\":\"\"}}}],\"scatterternary\":[{\"type\":\"scatterternary\",\"marker\":{\"colorbar\":{\"outlinewidth\":0,\"ticks\":\"\"}}}],\"scattercarpet\":[{\"type\":\"scattercarpet\",\"marker\":{\"colorbar\":{\"outlinewidth\":0,\"ticks\":\"\"}}}],\"carpet\":[{\"aaxis\":{\"endlinecolor\":\"#2a3f5f\",\"gridcolor\":\"white\",\"linecolor\":\"white\",\"minorgridcolor\":\"white\",\"startlinecolor\":\"#2a3f5f\"},\"baxis\":{\"endlinecolor\":\"#2a3f5f\",\"gridcolor\":\"white\",\"linecolor\":\"white\",\"minorgridcolor\":\"white\",\"startlinecolor\":\"#2a3f5f\"},\"type\":\"carpet\"}],\"table\":[{\"cells\":{\"fill\":{\"color\":\"#EBF0F8\"},\"line\":{\"color\":\"white\"}},\"header\":{\"fill\":{\"color\":\"#C8D4E3\"},\"line\":{\"color\":\"white\"}},\"type\":\"table\"}],\"barpolar\":[{\"marker\":{\"line\":{\"color\":\"#E5ECF6\",\"width\":0.5},\"pattern\":{\"fillmode\":\"overlay\",\"size\":10,\"solidity\":0.2}},\"type\":\"barpolar\"}],\"pie\":[{\"automargin\":true,\"type\":\"pie\"}]},\"layout\":{\"autotypenumbers\":\"strict\",\"colorway\":[\"#636efa\",\"#EF553B\",\"#00cc96\",\"#ab63fa\",\"#FFA15A\",\"#19d3f3\",\"#FF6692\",\"#B6E880\",\"#FF97FF\",\"#FECB52\"],\"font\":{\"color\":\"#2a3f5f\"},\"hovermode\":\"closest\",\"hoverlabel\":{\"align\":\"left\"},\"paper_bgcolor\":\"white\",\"plot_bgcolor\":\"#E5ECF6\",\"polar\":{\"bgcolor\":\"#E5ECF6\",\"angularaxis\":{\"gridcolor\":\"white\",\"linecolor\":\"white\",\"ticks\":\"\"},\"radialaxis\":{\"gridcolor\":\"white\",\"linecolor\":\"white\",\"ticks\":\"\"}},\"ternary\":{\"bgcolor\":\"#E5ECF6\",\"aaxis\":{\"gridcolor\":\"white\",\"linecolor\":\"white\",\"ticks\":\"\"},\"baxis\":{\"gridcolor\":\"white\",\"linecolor\":\"white\",\"ticks\":\"\"},\"caxis\":{\"gridcolor\":\"white\",\"linecolor\":\"white\",\"ticks\":\"\"}},\"coloraxis\":{\"colorbar\":{\"outlinewidth\":0,\"ticks\":\"\"}},\"colorscale\":{\"sequential\":[[0.0,\"#0d0887\"],[0.1111111111111111,\"#46039f\"],[0.2222222222222222,\"#7201a8\"],[0.3333333333333333,\"#9c179e\"],[0.4444444444444444,\"#bd3786\"],[0.5555555555555556,\"#d8576b\"],[0.6666666666666666,\"#ed7953\"],[0.7777777777777778,\"#fb9f3a\"],[0.8888888888888888,\"#fdca26\"],[1.0,\"#f0f921\"]],\"sequentialminus\":[[0.0,\"#0d0887\"],[0.1111111111111111,\"#46039f\"],[0.2222222222222222,\"#7201a8\"],[0.3333333333333333,\"#9c179e\"],[0.4444444444444444,\"#bd3786\"],[0.5555555555555556,\"#d8576b\"],[0.6666666666666666,\"#ed7953\"],[0.7777777777777778,\"#fb9f3a\"],[0.8888888888888888,\"#fdca26\"],[1.0,\"#f0f921\"]],\"diverging\":[[0,\"#8e0152\"],[0.1,\"#c51b7d\"],[0.2,\"#de77ae\"],[0.3,\"#f1b6da\"],[0.4,\"#fde0ef\"],[0.5,\"#f7f7f7\"],[0.6,\"#e6f5d0\"],[0.7,\"#b8e186\"],[0.8,\"#7fbc41\"],[0.9,\"#4d9221\"],[1,\"#276419\"]]},\"xaxis\":{\"gridcolor\":\"white\",\"linecolor\":\"white\",\"ticks\":\"\",\"title\":{\"standoff\":15},\"zerolinecolor\":\"white\",\"automargin\":true,\"zerolinewidth\":2},\"yaxis\":{\"gridcolor\":\"white\",\"linecolor\":\"white\",\"ticks\":\"\",\"title\":{\"standoff\":15},\"zerolinecolor\":\"white\",\"automargin\":true,\"zerolinewidth\":2},\"scene\":{\"xaxis\":{\"backgroundcolor\":\"#E5ECF6\",\"gridcolor\":\"white\",\"linecolor\":\"white\",\"showbackground\":true,\"ticks\":\"\",\"zerolinecolor\":\"white\",\"gridwidth\":2},\"yaxis\":{\"backgroundcolor\":\"#E5ECF6\",\"gridcolor\":\"white\",\"linecolor\":\"white\",\"showbackground\":true,\"ticks\":\"\",\"zerolinecolor\":\"white\",\"gridwidth\":2},\"zaxis\":{\"backgroundcolor\":\"#E5ECF6\",\"gridcolor\":\"white\",\"linecolor\":\"white\",\"showbackground\":true,\"ticks\":\"\",\"zerolinecolor\":\"white\",\"gridwidth\":2}},\"shapedefaults\":{\"line\":{\"color\":\"#2a3f5f\"}},\"annotationdefaults\":{\"arrowcolor\":\"#2a3f5f\",\"arrowhead\":0,\"arrowwidth\":1},\"geo\":{\"bgcolor\":\"white\",\"landcolor\":\"#E5ECF6\",\"subunitcolor\":\"white\",\"showland\":true,\"showlakes\":true,\"lakecolor\":\"white\"},\"title\":{\"x\":0.05},\"mapbox\":{\"style\":\"light\"}}},\"xaxis\":{\"anchor\":\"y\",\"domain\":[0.0,1.0],\"title\":{\"text\":\"competition\"}},\"yaxis\":{\"anchor\":\"x\",\"domain\":[0.0,1.0],\"title\":{\"text\":\"count\"}},\"legend\":{\"title\":{\"text\":\"club\"},\"tracegroupgap\":0},\"title\":{\"text\":\"Goals per competition by Lionel Messi\"},\"barmode\":\"relative\",\"height\":500},                        {\"responsive\": true}                    ).then(function(){\n",
       "                            \n",
       "var gd = document.getElementById('d67f7c15-5053-48e5-8dc2-c8185e311f6a');\n",
       "var x = new MutationObserver(function (mutations, observer) {{\n",
       "        var display = window.getComputedStyle(gd).display;\n",
       "        if (!display || display === 'none') {{\n",
       "            console.log([gd, 'removed!']);\n",
       "            Plotly.purge(gd);\n",
       "            observer.disconnect();\n",
       "        }}\n",
       "}});\n",
       "\n",
       "// Listen for the removal of the full notebook cells\n",
       "var notebookContainer = gd.closest('#notebook-container');\n",
       "if (notebookContainer) {{\n",
       "    x.observe(notebookContainer, {childList: true});\n",
       "}}\n",
       "\n",
       "// Listen for the clearing of the current output cell\n",
       "var outputEl = gd.closest('.output');\n",
       "if (outputEl) {{\n",
       "    x.observe(outputEl, {childList: true});\n",
       "}}\n",
       "\n",
       "                        })                };                });            </script>        </div>"
      ]
     },
     "metadata": {},
     "output_type": "display_data"
    }
   ],
   "source": [
    "px.histogram(lm,x='competition',\n",
    "             title=\"Goals per competition by Lionel Messi\",\n",
    "             height=500,\n",
    "             color='club',\n",
    "             hover_name='club',\n",
    "             hover_data=['competition','club'])\n"
   ]
  },
  {
   "cell_type": "code",
   "execution_count": 20,
   "id": "be663fd3",
   "metadata": {
    "execution": {
     "iopub.execute_input": "2023-04-01T18:06:01.988573Z",
     "iopub.status.busy": "2023-04-01T18:06:01.988167Z",
     "iopub.status.idle": "2023-04-01T18:06:02.037635Z",
     "shell.execute_reply": "2023-04-01T18:06:02.036210Z"
    },
    "papermill": {
     "duration": 0.0627,
     "end_time": "2023-04-01T18:06:02.040397",
     "exception": false,
     "start_time": "2023-04-01T18:06:01.977697",
     "status": "completed"
    },
    "tags": []
   },
   "outputs": [
    {
     "data": {
      "text/html": [
       "<div>                            <div id=\"9b2bd720-1925-4cf1-be7b-4a490430b4b0\" class=\"plotly-graph-div\" style=\"height:500px; width:1000px;\"></div>            <script type=\"text/javascript\">                require([\"plotly\"], function(Plotly) {                    window.PLOTLYENV=window.PLOTLYENV || {};                                    if (document.getElementById(\"9b2bd720-1925-4cf1-be7b-4a490430b4b0\")) {                    Plotly.newPlot(                        \"9b2bd720-1925-4cf1-be7b-4a490430b4b0\",                        [{\"labels\":[\"Away\",\"Home\"],\"values\":[306,404],\"type\":\"pie\",\"domain\":{\"x\":[0.0,0.45],\"y\":[0.0,1.0]}},{\"labels\":[\"Away\",\"Home\"],\"values\":[284,419],\"type\":\"pie\",\"domain\":{\"x\":[0.55,1.0],\"y\":[0.0,1.0]}}],                        {\"template\":{\"data\":{\"histogram2dcontour\":[{\"type\":\"histogram2dcontour\",\"colorbar\":{\"outlinewidth\":0,\"ticks\":\"\"},\"colorscale\":[[0.0,\"#0d0887\"],[0.1111111111111111,\"#46039f\"],[0.2222222222222222,\"#7201a8\"],[0.3333333333333333,\"#9c179e\"],[0.4444444444444444,\"#bd3786\"],[0.5555555555555556,\"#d8576b\"],[0.6666666666666666,\"#ed7953\"],[0.7777777777777778,\"#fb9f3a\"],[0.8888888888888888,\"#fdca26\"],[1.0,\"#f0f921\"]]}],\"choropleth\":[{\"type\":\"choropleth\",\"colorbar\":{\"outlinewidth\":0,\"ticks\":\"\"}}],\"histogram2d\":[{\"type\":\"histogram2d\",\"colorbar\":{\"outlinewidth\":0,\"ticks\":\"\"},\"colorscale\":[[0.0,\"#0d0887\"],[0.1111111111111111,\"#46039f\"],[0.2222222222222222,\"#7201a8\"],[0.3333333333333333,\"#9c179e\"],[0.4444444444444444,\"#bd3786\"],[0.5555555555555556,\"#d8576b\"],[0.6666666666666666,\"#ed7953\"],[0.7777777777777778,\"#fb9f3a\"],[0.8888888888888888,\"#fdca26\"],[1.0,\"#f0f921\"]]}],\"heatmap\":[{\"type\":\"heatmap\",\"colorbar\":{\"outlinewidth\":0,\"ticks\":\"\"},\"colorscale\":[[0.0,\"#0d0887\"],[0.1111111111111111,\"#46039f\"],[0.2222222222222222,\"#7201a8\"],[0.3333333333333333,\"#9c179e\"],[0.4444444444444444,\"#bd3786\"],[0.5555555555555556,\"#d8576b\"],[0.6666666666666666,\"#ed7953\"],[0.7777777777777778,\"#fb9f3a\"],[0.8888888888888888,\"#fdca26\"],[1.0,\"#f0f921\"]]}],\"heatmapgl\":[{\"type\":\"heatmapgl\",\"colorbar\":{\"outlinewidth\":0,\"ticks\":\"\"},\"colorscale\":[[0.0,\"#0d0887\"],[0.1111111111111111,\"#46039f\"],[0.2222222222222222,\"#7201a8\"],[0.3333333333333333,\"#9c179e\"],[0.4444444444444444,\"#bd3786\"],[0.5555555555555556,\"#d8576b\"],[0.6666666666666666,\"#ed7953\"],[0.7777777777777778,\"#fb9f3a\"],[0.8888888888888888,\"#fdca26\"],[1.0,\"#f0f921\"]]}],\"contourcarpet\":[{\"type\":\"contourcarpet\",\"colorbar\":{\"outlinewidth\":0,\"ticks\":\"\"}}],\"contour\":[{\"type\":\"contour\",\"colorbar\":{\"outlinewidth\":0,\"ticks\":\"\"},\"colorscale\":[[0.0,\"#0d0887\"],[0.1111111111111111,\"#46039f\"],[0.2222222222222222,\"#7201a8\"],[0.3333333333333333,\"#9c179e\"],[0.4444444444444444,\"#bd3786\"],[0.5555555555555556,\"#d8576b\"],[0.6666666666666666,\"#ed7953\"],[0.7777777777777778,\"#fb9f3a\"],[0.8888888888888888,\"#fdca26\"],[1.0,\"#f0f921\"]]}],\"surface\":[{\"type\":\"surface\",\"colorbar\":{\"outlinewidth\":0,\"ticks\":\"\"},\"colorscale\":[[0.0,\"#0d0887\"],[0.1111111111111111,\"#46039f\"],[0.2222222222222222,\"#7201a8\"],[0.3333333333333333,\"#9c179e\"],[0.4444444444444444,\"#bd3786\"],[0.5555555555555556,\"#d8576b\"],[0.6666666666666666,\"#ed7953\"],[0.7777777777777778,\"#fb9f3a\"],[0.8888888888888888,\"#fdca26\"],[1.0,\"#f0f921\"]]}],\"mesh3d\":[{\"type\":\"mesh3d\",\"colorbar\":{\"outlinewidth\":0,\"ticks\":\"\"}}],\"scatter\":[{\"fillpattern\":{\"fillmode\":\"overlay\",\"size\":10,\"solidity\":0.2},\"type\":\"scatter\"}],\"parcoords\":[{\"type\":\"parcoords\",\"line\":{\"colorbar\":{\"outlinewidth\":0,\"ticks\":\"\"}}}],\"scatterpolargl\":[{\"type\":\"scatterpolargl\",\"marker\":{\"colorbar\":{\"outlinewidth\":0,\"ticks\":\"\"}}}],\"bar\":[{\"error_x\":{\"color\":\"#2a3f5f\"},\"error_y\":{\"color\":\"#2a3f5f\"},\"marker\":{\"line\":{\"color\":\"#E5ECF6\",\"width\":0.5},\"pattern\":{\"fillmode\":\"overlay\",\"size\":10,\"solidity\":0.2}},\"type\":\"bar\"}],\"scattergeo\":[{\"type\":\"scattergeo\",\"marker\":{\"colorbar\":{\"outlinewidth\":0,\"ticks\":\"\"}}}],\"scatterpolar\":[{\"type\":\"scatterpolar\",\"marker\":{\"colorbar\":{\"outlinewidth\":0,\"ticks\":\"\"}}}],\"histogram\":[{\"marker\":{\"pattern\":{\"fillmode\":\"overlay\",\"size\":10,\"solidity\":0.2}},\"type\":\"histogram\"}],\"scattergl\":[{\"type\":\"scattergl\",\"marker\":{\"colorbar\":{\"outlinewidth\":0,\"ticks\":\"\"}}}],\"scatter3d\":[{\"type\":\"scatter3d\",\"line\":{\"colorbar\":{\"outlinewidth\":0,\"ticks\":\"\"}},\"marker\":{\"colorbar\":{\"outlinewidth\":0,\"ticks\":\"\"}}}],\"scattermapbox\":[{\"type\":\"scattermapbox\",\"marker\":{\"colorbar\":{\"outlinewidth\":0,\"ticks\":\"\"}}}],\"scatterternary\":[{\"type\":\"scatterternary\",\"marker\":{\"colorbar\":{\"outlinewidth\":0,\"ticks\":\"\"}}}],\"scattercarpet\":[{\"type\":\"scattercarpet\",\"marker\":{\"colorbar\":{\"outlinewidth\":0,\"ticks\":\"\"}}}],\"carpet\":[{\"aaxis\":{\"endlinecolor\":\"#2a3f5f\",\"gridcolor\":\"white\",\"linecolor\":\"white\",\"minorgridcolor\":\"white\",\"startlinecolor\":\"#2a3f5f\"},\"baxis\":{\"endlinecolor\":\"#2a3f5f\",\"gridcolor\":\"white\",\"linecolor\":\"white\",\"minorgridcolor\":\"white\",\"startlinecolor\":\"#2a3f5f\"},\"type\":\"carpet\"}],\"table\":[{\"cells\":{\"fill\":{\"color\":\"#EBF0F8\"},\"line\":{\"color\":\"white\"}},\"header\":{\"fill\":{\"color\":\"#C8D4E3\"},\"line\":{\"color\":\"white\"}},\"type\":\"table\"}],\"barpolar\":[{\"marker\":{\"line\":{\"color\":\"#E5ECF6\",\"width\":0.5},\"pattern\":{\"fillmode\":\"overlay\",\"size\":10,\"solidity\":0.2}},\"type\":\"barpolar\"}],\"pie\":[{\"automargin\":true,\"type\":\"pie\"}]},\"layout\":{\"autotypenumbers\":\"strict\",\"colorway\":[\"#636efa\",\"#EF553B\",\"#00cc96\",\"#ab63fa\",\"#FFA15A\",\"#19d3f3\",\"#FF6692\",\"#B6E880\",\"#FF97FF\",\"#FECB52\"],\"font\":{\"color\":\"#2a3f5f\"},\"hovermode\":\"closest\",\"hoverlabel\":{\"align\":\"left\"},\"paper_bgcolor\":\"white\",\"plot_bgcolor\":\"#E5ECF6\",\"polar\":{\"bgcolor\":\"#E5ECF6\",\"angularaxis\":{\"gridcolor\":\"white\",\"linecolor\":\"white\",\"ticks\":\"\"},\"radialaxis\":{\"gridcolor\":\"white\",\"linecolor\":\"white\",\"ticks\":\"\"}},\"ternary\":{\"bgcolor\":\"#E5ECF6\",\"aaxis\":{\"gridcolor\":\"white\",\"linecolor\":\"white\",\"ticks\":\"\"},\"baxis\":{\"gridcolor\":\"white\",\"linecolor\":\"white\",\"ticks\":\"\"},\"caxis\":{\"gridcolor\":\"white\",\"linecolor\":\"white\",\"ticks\":\"\"}},\"coloraxis\":{\"colorbar\":{\"outlinewidth\":0,\"ticks\":\"\"}},\"colorscale\":{\"sequential\":[[0.0,\"#0d0887\"],[0.1111111111111111,\"#46039f\"],[0.2222222222222222,\"#7201a8\"],[0.3333333333333333,\"#9c179e\"],[0.4444444444444444,\"#bd3786\"],[0.5555555555555556,\"#d8576b\"],[0.6666666666666666,\"#ed7953\"],[0.7777777777777778,\"#fb9f3a\"],[0.8888888888888888,\"#fdca26\"],[1.0,\"#f0f921\"]],\"sequentialminus\":[[0.0,\"#0d0887\"],[0.1111111111111111,\"#46039f\"],[0.2222222222222222,\"#7201a8\"],[0.3333333333333333,\"#9c179e\"],[0.4444444444444444,\"#bd3786\"],[0.5555555555555556,\"#d8576b\"],[0.6666666666666666,\"#ed7953\"],[0.7777777777777778,\"#fb9f3a\"],[0.8888888888888888,\"#fdca26\"],[1.0,\"#f0f921\"]],\"diverging\":[[0,\"#8e0152\"],[0.1,\"#c51b7d\"],[0.2,\"#de77ae\"],[0.3,\"#f1b6da\"],[0.4,\"#fde0ef\"],[0.5,\"#f7f7f7\"],[0.6,\"#e6f5d0\"],[0.7,\"#b8e186\"],[0.8,\"#7fbc41\"],[0.9,\"#4d9221\"],[1,\"#276419\"]]},\"xaxis\":{\"gridcolor\":\"white\",\"linecolor\":\"white\",\"ticks\":\"\",\"title\":{\"standoff\":15},\"zerolinecolor\":\"white\",\"automargin\":true,\"zerolinewidth\":2},\"yaxis\":{\"gridcolor\":\"white\",\"linecolor\":\"white\",\"ticks\":\"\",\"title\":{\"standoff\":15},\"zerolinecolor\":\"white\",\"automargin\":true,\"zerolinewidth\":2},\"scene\":{\"xaxis\":{\"backgroundcolor\":\"#E5ECF6\",\"gridcolor\":\"white\",\"linecolor\":\"white\",\"showbackground\":true,\"ticks\":\"\",\"zerolinecolor\":\"white\",\"gridwidth\":2},\"yaxis\":{\"backgroundcolor\":\"#E5ECF6\",\"gridcolor\":\"white\",\"linecolor\":\"white\",\"showbackground\":true,\"ticks\":\"\",\"zerolinecolor\":\"white\",\"gridwidth\":2},\"zaxis\":{\"backgroundcolor\":\"#E5ECF6\",\"gridcolor\":\"white\",\"linecolor\":\"white\",\"showbackground\":true,\"ticks\":\"\",\"zerolinecolor\":\"white\",\"gridwidth\":2}},\"shapedefaults\":{\"line\":{\"color\":\"#2a3f5f\"}},\"annotationdefaults\":{\"arrowcolor\":\"#2a3f5f\",\"arrowhead\":0,\"arrowwidth\":1},\"geo\":{\"bgcolor\":\"white\",\"landcolor\":\"#E5ECF6\",\"subunitcolor\":\"white\",\"showland\":true,\"showlakes\":true,\"lakecolor\":\"white\"},\"title\":{\"x\":0.05},\"mapbox\":{\"style\":\"light\"}}},\"annotations\":[{\"font\":{\"size\":16},\"showarrow\":false,\"text\":\"Goals by Cristiano Ronaldo in Away/Home\",\"x\":0.225,\"xanchor\":\"center\",\"xref\":\"paper\",\"y\":1.0,\"yanchor\":\"bottom\",\"yref\":\"paper\"},{\"font\":{\"size\":16},\"showarrow\":false,\"text\":\"Goals by Lionel Messi in Away/Home\",\"x\":0.775,\"xanchor\":\"center\",\"xref\":\"paper\",\"y\":1.0,\"yanchor\":\"bottom\",\"yref\":\"paper\"}],\"title\":{\"text\":\"Comparison of Goals by Ronaldo and Messi per season\"},\"height\":500,\"width\":1000},                        {\"responsive\": true}                    ).then(function(){\n",
       "                            \n",
       "var gd = document.getElementById('9b2bd720-1925-4cf1-be7b-4a490430b4b0');\n",
       "var x = new MutationObserver(function (mutations, observer) {{\n",
       "        var display = window.getComputedStyle(gd).display;\n",
       "        if (!display || display === 'none') {{\n",
       "            console.log([gd, 'removed!']);\n",
       "            Plotly.purge(gd);\n",
       "            observer.disconnect();\n",
       "        }}\n",
       "}});\n",
       "\n",
       "// Listen for the removal of the full notebook cells\n",
       "var notebookContainer = gd.closest('#notebook-container');\n",
       "if (notebookContainer) {{\n",
       "    x.observe(notebookContainer, {childList: true});\n",
       "}}\n",
       "\n",
       "// Listen for the clearing of the current output cell\n",
       "var outputEl = gd.closest('.output');\n",
       "if (outputEl) {{\n",
       "    x.observe(outputEl, {childList: true});\n",
       "}}\n",
       "\n",
       "                        })                };                });            </script>        </div>"
      ]
     },
     "metadata": {},
     "output_type": "display_data"
    }
   ],
   "source": [
    "def ven(df):\n",
    "    df['venue'] = df['venue'].str.replace('A','Away')\n",
    "    df['venue'] = df['venue'].str.replace('H','Home')\n",
    "\n",
    "fig = make_subplots(rows=1, cols=2, \n",
    "                    specs=[[{\"type\": \"pie\"}, {\"type\": \"pie\"}]],\n",
    "                    subplot_titles=('Goals by Cristiano Ronaldo in Away/Home', \n",
    "                                    'Goals by Lionel Messi in Away/Home'))\n",
    "\n",
    "pi_e = cr.groupby('venue')['type'].count().reset_index(name='goals')\n",
    "ven(pi_e)\n",
    "fig.add_trace(go.Pie(values=pi_e['goals'],labels=pi_e['venue']), row=1, col=1)\n",
    "\n",
    "pi_e1 = lm.groupby('venue')['type'].count().reset_index(name='goals')\n",
    "ven(pi_e1)\n",
    "fig.add_trace(go.Pie(values=pi_e1['goals'],labels=pi_e1['venue']), row=1, col=2)\n",
    "\n",
    "\n",
    "fig.update_layout(height=500, width=1000, title_text='Comparison of Goals by Ronaldo and Messi per season')\n",
    "fig.show()"
   ]
  },
  {
   "cell_type": "code",
   "execution_count": 21,
   "id": "2203fd86",
   "metadata": {
    "execution": {
     "iopub.execute_input": "2023-04-01T18:06:02.060745Z",
     "iopub.status.busy": "2023-04-01T18:06:02.060295Z",
     "iopub.status.idle": "2023-04-01T18:06:02.630993Z",
     "shell.execute_reply": "2023-04-01T18:06:02.629515Z"
    },
    "papermill": {
     "duration": 0.584506,
     "end_time": "2023-04-01T18:06:02.634228",
     "exception": false,
     "start_time": "2023-04-01T18:06:02.049722",
     "status": "completed"
    },
    "tags": []
   },
   "outputs": [
    {
     "data": {
      "text/html": [
       "<div>                            <div id=\"1740c54e-9f4a-4d5c-9130-125bbad21abb\" class=\"plotly-graph-div\" style=\"height:1000px; width:100%;\"></div>            <script type=\"text/javascript\">                require([\"plotly\"], function(Plotly) {                    window.PLOTLYENV=window.PLOTLYENV || {};                                    if (document.getElementById(\"1740c54e-9f4a-4d5c-9130-125bbad21abb\")) {                    Plotly.newPlot(                        \"1740c54e-9f4a-4d5c-9130-125bbad21abb\",                        [{\"alignmentgroup\":\"True\",\"bingroup\":\"x\",\"hovertemplate\":\"opponent=Moreirense FC<br>competition=%{x}<br>count=%{y}<extra></extra>\",\"legendgroup\":\"Moreirense FC\",\"marker\":{\"color\":\"#636efa\",\"pattern\":{\"shape\":\"\"}},\"name\":\"Moreirense FC\",\"offsetgroup\":\"Moreirense FC\",\"orientation\":\"v\",\"showlegend\":true,\"x\":[\"Liga Portugal\",\"Liga Portugal\"],\"xaxis\":\"x\",\"yaxis\":\"y\",\"type\":\"histogram\"},{\"alignmentgroup\":\"True\",\"bingroup\":\"x\",\"hovertemplate\":\"opponent=Boavista FC<br>competition=%{x}<br>count=%{y}<extra></extra>\",\"legendgroup\":\"Boavista FC\",\"marker\":{\"color\":\"#EF553B\",\"pattern\":{\"shape\":\"\"}},\"name\":\"Boavista FC\",\"offsetgroup\":\"Boavista FC\",\"orientation\":\"v\",\"showlegend\":true,\"x\":[\"Liga Portugal\"],\"xaxis\":\"x\",\"yaxis\":\"y\",\"type\":\"histogram\"},{\"alignmentgroup\":\"True\",\"bingroup\":\"x\",\"hovertemplate\":\"opponent=CD Estarreja<br>competition=%{x}<br>count=%{y}<extra></extra>\",\"legendgroup\":\"CD Estarreja\",\"marker\":{\"color\":\"#00cc96\",\"pattern\":{\"shape\":\"\"}},\"name\":\"CD Estarreja\",\"offsetgroup\":\"CD Estarreja\",\"orientation\":\"v\",\"showlegend\":true,\"x\":[\"Taca de Portugal Placard\"],\"xaxis\":\"x\",\"yaxis\":\"y\",\"type\":\"histogram\"},{\"alignmentgroup\":\"True\",\"bingroup\":\"x\",\"hovertemplate\":\"opponent=FC Oliveira do Hospital<br>competition=%{x}<br>count=%{y}<extra></extra>\",\"legendgroup\":\"FC Oliveira do Hospital\",\"marker\":{\"color\":\"#ab63fa\",\"pattern\":{\"shape\":\"\"}},\"name\":\"FC Oliveira do Hospital\",\"offsetgroup\":\"FC Oliveira do Hospital\",\"orientation\":\"v\",\"showlegend\":true,\"x\":[\"Taca de Portugal Placard\"],\"xaxis\":\"x\",\"yaxis\":\"y\",\"type\":\"histogram\"},{\"alignmentgroup\":\"True\",\"bingroup\":\"x\",\"hovertemplate\":\"opponent=Portsmouth FC<br>competition=%{x}<br>count=%{y}<extra></extra>\",\"legendgroup\":\"Portsmouth FC\",\"marker\":{\"color\":\"#FFA15A\",\"pattern\":{\"shape\":\"\"}},\"name\":\"Portsmouth FC\",\"offsetgroup\":\"Portsmouth FC\",\"orientation\":\"v\",\"showlegend\":true,\"x\":[\"Premier League\",\"Premier League\",\"Premier League\",\"Premier League\",\"Premier League\",\"Premier League\"],\"xaxis\":\"x\",\"yaxis\":\"y\",\"type\":\"histogram\"},{\"alignmentgroup\":\"True\",\"bingroup\":\"x\",\"hovertemplate\":\"opponent=Manchester City<br>competition=%{x}<br>count=%{y}<extra></extra>\",\"legendgroup\":\"Manchester City\",\"marker\":{\"color\":\"#19d3f3\",\"pattern\":{\"shape\":\"\"}},\"name\":\"Manchester City\",\"offsetgroup\":\"Manchester City\",\"orientation\":\"v\",\"showlegend\":true,\"x\":[\"FA Cup\",\"Premier League\",\"Premier League\",\"Premier League\",\"UEFA Champions League\"],\"xaxis\":\"x\",\"yaxis\":\"y\",\"type\":\"histogram\"},{\"alignmentgroup\":\"True\",\"bingroup\":\"x\",\"hovertemplate\":\"opponent=Tottenham Hotspur<br>competition=%{x}<br>count=%{y}<extra></extra>\",\"legendgroup\":\"Tottenham Hotspur\",\"marker\":{\"color\":\"#FF6692\",\"pattern\":{\"shape\":\"\"}},\"name\":\"Tottenham Hotspur\",\"offsetgroup\":\"Tottenham Hotspur\",\"orientation\":\"v\",\"showlegend\":true,\"x\":[\"Premier League\",\"Premier League\",\"FA Cup\",\"FA Cup\",\"Premier League\",\"Premier League\",\"UEFA Champions League\",\"UEFA Champions League\",\"UEFA Champions League\",\"UEFA Champions League\",\"Premier League\",\"Premier League\",\"Premier League\",\"Premier League\"],\"xaxis\":\"x\",\"yaxis\":\"y\",\"type\":\"histogram\"},{\"alignmentgroup\":\"True\",\"bingroup\":\"x\",\"hovertemplate\":\"opponent=Birmingham City<br>competition=%{x}<br>count=%{y}<extra></extra>\",\"legendgroup\":\"Birmingham City\",\"marker\":{\"color\":\"#B6E880\",\"pattern\":{\"shape\":\"\"}},\"name\":\"Birmingham City\",\"offsetgroup\":\"Birmingham City\",\"orientation\":\"v\",\"showlegend\":true,\"x\":[\"Premier League\",\"Premier League\"],\"xaxis\":\"x\",\"yaxis\":\"y\",\"type\":\"histogram\"},{\"alignmentgroup\":\"True\",\"bingroup\":\"x\",\"hovertemplate\":\"opponent=Aston Villa<br>competition=%{x}<br>count=%{y}<extra></extra>\",\"legendgroup\":\"Aston Villa\",\"marker\":{\"color\":\"#FF97FF\",\"pattern\":{\"shape\":\"\"}},\"name\":\"Aston Villa\",\"offsetgroup\":\"Aston Villa\",\"orientation\":\"v\",\"showlegend\":true,\"x\":[\"Premier League\",\"Premier League\",\"Premier League\",\"Premier League\",\"Premier League\",\"FA Cup\",\"Premier League\",\"Premier League\",\"Premier League\"],\"xaxis\":\"x\",\"yaxis\":\"y\",\"type\":\"histogram\"},{\"alignmentgroup\":\"True\",\"bingroup\":\"x\",\"hovertemplate\":\"opponent=Millwall FC<br>competition=%{x}<br>count=%{y}<extra></extra>\",\"legendgroup\":\"Millwall FC\",\"marker\":{\"color\":\"#FECB52\",\"pattern\":{\"shape\":\"\"}},\"name\":\"Millwall FC\",\"offsetgroup\":\"Millwall FC\",\"orientation\":\"v\",\"showlegend\":true,\"x\":[\"FA Cup\"],\"xaxis\":\"x\",\"yaxis\":\"y\",\"type\":\"histogram\"},{\"alignmentgroup\":\"True\",\"bingroup\":\"x\",\"hovertemplate\":\"opponent=Southampton FC<br>competition=%{x}<br>count=%{y}<extra></extra>\",\"legendgroup\":\"Southampton FC\",\"marker\":{\"color\":\"#636efa\",\"pattern\":{\"shape\":\"\"}},\"name\":\"Southampton FC\",\"offsetgroup\":\"Southampton FC\",\"orientation\":\"v\",\"showlegend\":true,\"x\":[\"Premier League\",\"FA Cup\"],\"xaxis\":\"x\",\"yaxis\":\"y\",\"type\":\"histogram\"},{\"alignmentgroup\":\"True\",\"bingroup\":\"x\",\"hovertemplate\":\"opponent=Exeter City<br>competition=%{x}<br>count=%{y}<extra></extra>\",\"legendgroup\":\"Exeter City\",\"marker\":{\"color\":\"#EF553B\",\"pattern\":{\"shape\":\"\"}},\"name\":\"Exeter City\",\"offsetgroup\":\"Exeter City\",\"orientation\":\"v\",\"showlegend\":true,\"x\":[\"FA Cup\"],\"xaxis\":\"x\",\"yaxis\":\"y\",\"type\":\"histogram\"},{\"alignmentgroup\":\"True\",\"bingroup\":\"x\",\"hovertemplate\":\"opponent=Arsenal FC<br>competition=%{x}<br>count=%{y}<extra></extra>\",\"legendgroup\":\"Arsenal FC\",\"marker\":{\"color\":\"#00cc96\",\"pattern\":{\"shape\":\"\"}},\"name\":\"Arsenal FC\",\"offsetgroup\":\"Arsenal FC\",\"orientation\":\"v\",\"showlegend\":true,\"x\":[\"Premier League\",\"Premier League\",\"Premier League\",\"Premier League\",\"UEFA Champions League\",\"UEFA Champions League\",\"Premier League\",\"Premier League\",\"Premier League\"],\"xaxis\":\"x\",\"yaxis\":\"y\",\"type\":\"histogram\"},{\"alignmentgroup\":\"True\",\"bingroup\":\"x\",\"hovertemplate\":\"opponent=Everton FC<br>competition=%{x}<br>count=%{y}<extra></extra>\",\"legendgroup\":\"Everton FC\",\"marker\":{\"color\":\"#ab63fa\",\"pattern\":{\"shape\":\"\"}},\"name\":\"Everton FC\",\"offsetgroup\":\"Everton FC\",\"orientation\":\"v\",\"showlegend\":true,\"x\":[\"FA Cup\",\"Premier League\",\"Premier League\",\"Premier League\",\"Premier League\",\"Premier League\"],\"xaxis\":\"x\",\"yaxis\":\"y\",\"type\":\"histogram\"},{\"alignmentgroup\":\"True\",\"bingroup\":\"x\",\"hovertemplate\":\"opponent=Fulham FC<br>competition=%{x}<br>count=%{y}<extra></extra>\",\"legendgroup\":\"Fulham FC\",\"marker\":{\"color\":\"#FFA15A\",\"pattern\":{\"shape\":\"\"}},\"name\":\"Fulham FC\",\"offsetgroup\":\"Fulham FC\",\"orientation\":\"v\",\"showlegend\":true,\"x\":[\"Premier League\",\"Premier League\",\"Premier League\",\"Premier League\",\"Premier League\",\"Premier League\",\"Premier League\"],\"xaxis\":\"x\",\"yaxis\":\"y\",\"type\":\"histogram\"},{\"alignmentgroup\":\"True\",\"bingroup\":\"x\",\"hovertemplate\":\"opponent=Newcastle United<br>competition=%{x}<br>count=%{y}<extra></extra>\",\"legendgroup\":\"Newcastle United\",\"marker\":{\"color\":\"#19d3f3\",\"pattern\":{\"shape\":\"\"}},\"name\":\"Newcastle United\",\"offsetgroup\":\"Newcastle United\",\"orientation\":\"v\",\"showlegend\":true,\"x\":[\"FA Cup\",\"Premier League\",\"Premier League\",\"Premier League\",\"Premier League\",\"Premier League\",\"Premier League\",\"Premier League\"],\"xaxis\":\"x\",\"yaxis\":\"y\",\"type\":\"histogram\"},{\"alignmentgroup\":\"True\",\"bingroup\":\"x\",\"hovertemplate\":\"opponent=Debreceni VSC<br>competition=%{x}<br>count=%{y}<extra></extra>\",\"legendgroup\":\"Debreceni VSC\",\"marker\":{\"color\":\"#FF6692\",\"pattern\":{\"shape\":\"\"}},\"name\":\"Debreceni VSC\",\"offsetgroup\":\"Debreceni VSC\",\"orientation\":\"v\",\"showlegend\":true,\"x\":[\"UEFA Champions League Qualifying\"],\"xaxis\":\"x\",\"yaxis\":\"y\",\"type\":\"histogram\"},{\"alignmentgroup\":\"True\",\"bingroup\":\"x\",\"hovertemplate\":\"opponent=Middlesbrough FC<br>competition=%{x}<br>count=%{y}<extra></extra>\",\"legendgroup\":\"Middlesbrough FC\",\"marker\":{\"color\":\"#B6E880\",\"pattern\":{\"shape\":\"\"}},\"name\":\"Middlesbrough FC\",\"offsetgroup\":\"Middlesbrough FC\",\"orientation\":\"v\",\"showlegend\":true,\"x\":[\"Premier League\",\"FA Cup\",\"FA Cup\",\"Premier League\",\"EFL Cup\"],\"xaxis\":\"x\",\"yaxis\":\"y\",\"type\":\"histogram\"},{\"alignmentgroup\":\"True\",\"bingroup\":\"x\",\"hovertemplate\":\"opponent=West Bromwich Albion<br>competition=%{x}<br>count=%{y}<extra></extra>\",\"legendgroup\":\"West Bromwich Albion\",\"marker\":{\"color\":\"#FF97FF\",\"pattern\":{\"shape\":\"\"}},\"name\":\"West Bromwich Albion\",\"offsetgroup\":\"West Bromwich Albion\",\"orientation\":\"v\",\"showlegend\":true,\"x\":[\"EFL Cup\",\"Premier League\",\"Premier League\",\"Premier League\"],\"xaxis\":\"x\",\"yaxis\":\"y\",\"type\":\"histogram\"},{\"alignmentgroup\":\"True\",\"bingroup\":\"x\",\"hovertemplate\":\"opponent=Bolton Wanderers<br>competition=%{x}<br>count=%{y}<extra></extra>\",\"legendgroup\":\"Bolton Wanderers\",\"marker\":{\"color\":\"#FECB52\",\"pattern\":{\"shape\":\"\"}},\"name\":\"Bolton Wanderers\",\"offsetgroup\":\"Bolton Wanderers\",\"orientation\":\"v\",\"showlegend\":true,\"x\":[\"Premier League\",\"Premier League\",\"Premier League\",\"Premier League\",\"Premier League\",\"Premier League\"],\"xaxis\":\"x\",\"yaxis\":\"y\",\"type\":\"histogram\"},{\"alignmentgroup\":\"True\",\"bingroup\":\"x\",\"hovertemplate\":\"opponent=Wigan Athletic<br>competition=%{x}<br>count=%{y}<extra></extra>\",\"legendgroup\":\"Wigan Athletic\",\"marker\":{\"color\":\"#636efa\",\"pattern\":{\"shape\":\"\"}},\"name\":\"Wigan Athletic\",\"offsetgroup\":\"Wigan Athletic\",\"orientation\":\"v\",\"showlegend\":true,\"x\":[\"EFL Cup\",\"Premier League\",\"Premier League\",\"Premier League\",\"Premier League\",\"Premier League\",\"Premier League\"],\"xaxis\":\"x\",\"yaxis\":\"y\",\"type\":\"histogram\"},{\"alignmentgroup\":\"True\",\"bingroup\":\"x\",\"hovertemplate\":\"opponent=Charlton Athletic<br>competition=%{x}<br>count=%{y}<extra></extra>\",\"legendgroup\":\"Charlton Athletic\",\"marker\":{\"color\":\"#EF553B\",\"pattern\":{\"shape\":\"\"}},\"name\":\"Charlton Athletic\",\"offsetgroup\":\"Charlton Athletic\",\"orientation\":\"v\",\"showlegend\":true,\"x\":[\"Premier League\"],\"xaxis\":\"x\",\"yaxis\":\"y\",\"type\":\"histogram\"},{\"alignmentgroup\":\"True\",\"bingroup\":\"x\",\"hovertemplate\":\"opponent=Reading FC<br>competition=%{x}<br>count=%{y}<extra></extra>\",\"legendgroup\":\"Reading FC\",\"marker\":{\"color\":\"#00cc96\",\"pattern\":{\"shape\":\"\"}},\"name\":\"Reading FC\",\"offsetgroup\":\"Reading FC\",\"orientation\":\"v\",\"showlegend\":true,\"x\":[\"Premier League\",\"Premier League\",\"Premier League\",\"Premier League\"],\"xaxis\":\"x\",\"yaxis\":\"y\",\"type\":\"histogram\"},{\"alignmentgroup\":\"True\",\"bingroup\":\"x\",\"hovertemplate\":\"opponent=Watford FC<br>competition=%{x}<br>count=%{y}<extra></extra>\",\"legendgroup\":\"Watford FC\",\"marker\":{\"color\":\"#ab63fa\",\"pattern\":{\"shape\":\"\"}},\"name\":\"Watford FC\",\"offsetgroup\":\"Watford FC\",\"orientation\":\"v\",\"showlegend\":true,\"x\":[\"Premier League\",\"FA Cup\"],\"xaxis\":\"x\",\"yaxis\":\"y\",\"type\":\"histogram\"},{\"alignmentgroup\":\"True\",\"bingroup\":\"x\",\"hovertemplate\":\"opponent=AS Roma<br>competition=%{x}<br>count=%{y}<extra></extra>\",\"legendgroup\":\"AS Roma\",\"marker\":{\"color\":\"#FFA15A\",\"pattern\":{\"shape\":\"\"}},\"name\":\"AS Roma\",\"offsetgroup\":\"AS Roma\",\"orientation\":\"v\",\"showlegend\":true,\"x\":[\"UEFA Champions League\",\"UEFA Champions League\",\"UEFA Champions League\",\"UEFA Champions League\",\"UEFA Champions League\",\"Serie A\",\"Italy Cup\",\"Serie A\",\"Serie A\",\"Serie A\"],\"xaxis\":\"x\",\"yaxis\":\"y\",\"type\":\"histogram\"},{\"alignmentgroup\":\"True\",\"bingroup\":\"x\",\"hovertemplate\":\"opponent=AC Milan<br>competition=%{x}<br>count=%{y}<extra></extra>\",\"legendgroup\":\"AC Milan\",\"marker\":{\"color\":\"#19d3f3\",\"pattern\":{\"shape\":\"\"}},\"name\":\"AC Milan\",\"offsetgroup\":\"AC Milan\",\"orientation\":\"v\",\"showlegend\":true,\"x\":[\"UEFA Champions League\",\"UEFA Champions League\",\"Serie A\",\"Supercoppa Italiana\",\"Italy Cup\",\"Serie A\"],\"xaxis\":\"x\",\"yaxis\":\"y\",\"type\":\"histogram\"},{\"alignmentgroup\":\"True\",\"bingroup\":\"x\",\"hovertemplate\":\"opponent=Sporting CP<br>competition=%{x}<br>count=%{y}<extra></extra>\",\"legendgroup\":\"Sporting CP\",\"marker\":{\"color\":\"#FF6692\",\"pattern\":{\"shape\":\"\"}},\"name\":\"Sporting CP\",\"offsetgroup\":\"Sporting CP\",\"orientation\":\"v\",\"showlegend\":true,\"x\":[\"UEFA Champions League\",\"UEFA Champions League\",\"UEFA Champions League\"],\"xaxis\":\"x\",\"yaxis\":\"y\",\"type\":\"histogram\"},{\"alignmentgroup\":\"True\",\"bingroup\":\"x\",\"hovertemplate\":\"opponent=Dynamo Kyiv<br>competition=%{x}<br>count=%{y}<extra></extra>\",\"legendgroup\":\"Dynamo Kyiv\",\"marker\":{\"color\":\"#B6E880\",\"pattern\":{\"shape\":\"\"}},\"name\":\"Dynamo Kyiv\",\"offsetgroup\":\"Dynamo Kyiv\",\"orientation\":\"v\",\"showlegend\":true,\"x\":[\"UEFA Champions League\",\"UEFA Champions League\",\"UEFA Champions League\",\"UEFA Champions League\"],\"xaxis\":\"x\",\"yaxis\":\"y\",\"type\":\"histogram\"},{\"alignmentgroup\":\"True\",\"bingroup\":\"x\",\"hovertemplate\":\"opponent=Blackburn Rovers<br>competition=%{x}<br>count=%{y}<extra></extra>\",\"legendgroup\":\"Blackburn Rovers\",\"marker\":{\"color\":\"#FF97FF\",\"pattern\":{\"shape\":\"\"}},\"name\":\"Blackburn Rovers\",\"offsetgroup\":\"Blackburn Rovers\",\"orientation\":\"v\",\"showlegend\":true,\"x\":[\"Premier League\",\"Premier League\",\"Premier League\"],\"xaxis\":\"x\",\"yaxis\":\"y\",\"type\":\"histogram\"},{\"alignmentgroup\":\"True\",\"bingroup\":\"x\",\"hovertemplate\":\"opponent=Derby County<br>competition=%{x}<br>count=%{y}<extra></extra>\",\"legendgroup\":\"Derby County\",\"marker\":{\"color\":\"#FECB52\",\"pattern\":{\"shape\":\"\"}},\"name\":\"Derby County\",\"offsetgroup\":\"Derby County\",\"orientation\":\"v\",\"showlegend\":true,\"x\":[\"Premier League\",\"Premier League\",\"EFL Cup\",\"FA Cup\"],\"xaxis\":\"x\",\"yaxis\":\"y\",\"type\":\"histogram\"},{\"alignmentgroup\":\"True\",\"bingroup\":\"x\",\"hovertemplate\":\"opponent=Sunderland AFC<br>competition=%{x}<br>count=%{y}<extra></extra>\",\"legendgroup\":\"Sunderland AFC\",\"marker\":{\"color\":\"#636efa\",\"pattern\":{\"shape\":\"\"}},\"name\":\"Sunderland AFC\",\"offsetgroup\":\"Sunderland AFC\",\"orientation\":\"v\",\"showlegend\":true,\"x\":[\"Premier League\"],\"xaxis\":\"x\",\"yaxis\":\"y\",\"type\":\"histogram\"},{\"alignmentgroup\":\"True\",\"bingroup\":\"x\",\"hovertemplate\":\"opponent=West Ham United<br>competition=%{x}<br>count=%{y}<extra></extra>\",\"legendgroup\":\"West Ham United\",\"marker\":{\"color\":\"#EF553B\",\"pattern\":{\"shape\":\"\"}},\"name\":\"West Ham United\",\"offsetgroup\":\"West Ham United\",\"orientation\":\"v\",\"showlegend\":true,\"x\":[\"Premier League\",\"Premier League\",\"Premier League\",\"Premier League\",\"Premier League\",\"Premier League\"],\"xaxis\":\"x\",\"yaxis\":\"y\",\"type\":\"histogram\"},{\"alignmentgroup\":\"True\",\"bingroup\":\"x\",\"hovertemplate\":\"opponent=Olympique Lyon<br>competition=%{x}<br>count=%{y}<extra></extra>\",\"legendgroup\":\"Olympique Lyon\",\"marker\":{\"color\":\"#00cc96\",\"pattern\":{\"shape\":\"\"}},\"name\":\"Olympique Lyon\",\"offsetgroup\":\"Olympique Lyon\",\"orientation\":\"v\",\"showlegend\":true,\"x\":[\"UEFA Champions League\",\"UEFA Champions League\",\"UEFA Champions League\",\"UEFA Champions League\",\"UEFA Champions League\",\"UEFA Champions League\"],\"xaxis\":\"x\",\"yaxis\":\"y\",\"type\":\"histogram\"},{\"alignmentgroup\":\"True\",\"bingroup\":\"x\",\"hovertemplate\":\"opponent=Liverpool FC<br>competition=%{x}<br>count=%{y}<extra></extra>\",\"legendgroup\":\"Liverpool FC\",\"marker\":{\"color\":\"#ab63fa\",\"pattern\":{\"shape\":\"\"}},\"name\":\"Liverpool FC\",\"offsetgroup\":\"Liverpool FC\",\"orientation\":\"v\",\"showlegend\":true,\"x\":[\"Premier League\",\"Premier League\",\"UEFA Champions League\"],\"xaxis\":\"x\",\"yaxis\":\"y\",\"type\":\"histogram\"},{\"alignmentgroup\":\"True\",\"bingroup\":\"x\",\"hovertemplate\":\"opponent=Chelsea FC<br>competition=%{x}<br>count=%{y}<extra></extra>\",\"legendgroup\":\"Chelsea FC\",\"marker\":{\"color\":\"#FFA15A\",\"pattern\":{\"shape\":\"\"}},\"name\":\"Chelsea FC\",\"offsetgroup\":\"Chelsea FC\",\"orientation\":\"v\",\"showlegend\":true,\"x\":[\"UEFA Champions League\",\"Premier League\"],\"xaxis\":\"x\",\"yaxis\":\"y\",\"type\":\"histogram\"},{\"alignmentgroup\":\"True\",\"bingroup\":\"x\",\"hovertemplate\":\"opponent=Hull City<br>competition=%{x}<br>count=%{y}<extra></extra>\",\"legendgroup\":\"Hull City\",\"marker\":{\"color\":\"#19d3f3\",\"pattern\":{\"shape\":\"\"}},\"name\":\"Hull City\",\"offsetgroup\":\"Hull City\",\"orientation\":\"v\",\"showlegend\":true,\"x\":[\"Premier League\",\"Premier League\"],\"xaxis\":\"x\",\"yaxis\":\"y\",\"type\":\"histogram\"},{\"alignmentgroup\":\"True\",\"bingroup\":\"x\",\"hovertemplate\":\"opponent=Stoke City<br>competition=%{x}<br>count=%{y}<extra></extra>\",\"legendgroup\":\"Stoke City\",\"marker\":{\"color\":\"#FF6692\",\"pattern\":{\"shape\":\"\"}},\"name\":\"Stoke City\",\"offsetgroup\":\"Stoke City\",\"orientation\":\"v\",\"showlegend\":true,\"x\":[\"Premier League\",\"Premier League\"],\"xaxis\":\"x\",\"yaxis\":\"y\",\"type\":\"histogram\"},{\"alignmentgroup\":\"True\",\"bingroup\":\"x\",\"hovertemplate\":\"opponent=Gamba Osaka<br>competition=%{x}<br>count=%{y}<extra></extra>\",\"legendgroup\":\"Gamba Osaka\",\"marker\":{\"color\":\"#B6E880\",\"pattern\":{\"shape\":\"\"}},\"name\":\"Gamba Osaka\",\"offsetgroup\":\"Gamba Osaka\",\"orientation\":\"v\",\"showlegend\":true,\"x\":[\"FIFA Club World Cup\"],\"xaxis\":\"x\",\"yaxis\":\"y\",\"type\":\"histogram\"},{\"alignmentgroup\":\"True\",\"bingroup\":\"x\",\"hovertemplate\":\"opponent=FC Internazionale<br>competition=%{x}<br>count=%{y}<extra></extra>\",\"legendgroup\":\"FC Internazionale\",\"marker\":{\"color\":\"#FF97FF\",\"pattern\":{\"shape\":\"\"}},\"name\":\"FC Internazionale\",\"offsetgroup\":\"FC Internazionale\",\"orientation\":\"v\",\"showlegend\":true,\"x\":[\"UEFA Champions League\"],\"xaxis\":\"x\",\"yaxis\":\"y\",\"type\":\"histogram\"},{\"alignmentgroup\":\"True\",\"bingroup\":\"x\",\"hovertemplate\":\"opponent=FC Porto<br>competition=%{x}<br>count=%{y}<extra></extra>\",\"legendgroup\":\"FC Porto\",\"marker\":{\"color\":\"#FECB52\",\"pattern\":{\"shape\":\"\"}},\"name\":\"FC Porto\",\"offsetgroup\":\"FC Porto\",\"orientation\":\"v\",\"showlegend\":true,\"x\":[\"UEFA Champions League\"],\"xaxis\":\"x\",\"yaxis\":\"y\",\"type\":\"histogram\"},{\"alignmentgroup\":\"True\",\"bingroup\":\"x\",\"hovertemplate\":\"opponent=Deportivo de La CoruÃ±a<br>competition=%{x}<br>count=%{y}<extra></extra>\",\"legendgroup\":\"Deportivo de La CoruÃ±a\",\"marker\":{\"color\":\"#636efa\",\"pattern\":{\"shape\":\"\"}},\"name\":\"Deportivo de La CoruÃ±a\",\"offsetgroup\":\"Deportivo de La CoruÃ±a\",\"orientation\":\"v\",\"showlegend\":true,\"x\":[\"LaLiga\",\"LaLiga\",\"LaLiga\",\"LaLiga\",\"LaLiga\",\"LaLiga\",\"LaLiga\",\"LaLiga\",\"LaLiga\",\"LaLiga\",\"LaLiga\",\"LaLiga\",\"LaLiga\"],\"xaxis\":\"x\",\"yaxis\":\"y\",\"type\":\"histogram\"},{\"alignmentgroup\":\"True\",\"bingroup\":\"x\",\"hovertemplate\":\"opponent=RCD Espanyol Barcelona<br>competition=%{x}<br>count=%{y}<extra></extra>\",\"legendgroup\":\"RCD Espanyol Barcelona\",\"marker\":{\"color\":\"#EF553B\",\"pattern\":{\"shape\":\"\"}},\"name\":\"RCD Espanyol Barcelona\",\"offsetgroup\":\"RCD Espanyol Barcelona\",\"orientation\":\"v\",\"showlegend\":true,\"x\":[\"LaLiga\",\"LaLiga\",\"LaLiga\",\"LaLiga\",\"LaLiga\",\"LaLiga\",\"LaLiga\",\"LaLiga\",\"LaLiga\",\"LaLiga\",\"LaLiga\",\"LaLiga\",\"LaLiga\",\"LaLiga\",\"LaLiga\"],\"xaxis\":\"x\",\"yaxis\":\"y\",\"type\":\"histogram\"},{\"alignmentgroup\":\"True\",\"bingroup\":\"x\",\"hovertemplate\":\"opponent=FC ZÃ¼rich<br>competition=%{x}<br>count=%{y}<extra></extra>\",\"legendgroup\":\"FC ZÃ¼rich\",\"marker\":{\"color\":\"#00cc96\",\"pattern\":{\"shape\":\"\"}},\"name\":\"FC ZÃ¼rich\",\"offsetgroup\":\"FC ZÃ¼rich\",\"orientation\":\"v\",\"showlegend\":true,\"x\":[\"UEFA Champions League\",\"UEFA Champions League\"],\"xaxis\":\"x\",\"yaxis\":\"y\",\"type\":\"histogram\"},{\"alignmentgroup\":\"True\",\"bingroup\":\"x\",\"hovertemplate\":\"opponent=Xerez CD<br>competition=%{x}<br>count=%{y}<extra></extra>\",\"legendgroup\":\"Xerez CD\",\"marker\":{\"color\":\"#ab63fa\",\"pattern\":{\"shape\":\"\"}},\"name\":\"Xerez CD\",\"offsetgroup\":\"Xerez CD\",\"orientation\":\"v\",\"showlegend\":true,\"x\":[\"LaLiga\",\"LaLiga\",\"LaLiga\",\"LaLiga\"],\"xaxis\":\"x\",\"yaxis\":\"y\",\"type\":\"histogram\"},{\"alignmentgroup\":\"True\",\"bingroup\":\"x\",\"hovertemplate\":\"opponent=Villarreal CF<br>competition=%{x}<br>count=%{y}<extra></extra>\",\"legendgroup\":\"Villarreal CF\",\"marker\":{\"color\":\"#FFA15A\",\"pattern\":{\"shape\":\"\"}},\"name\":\"Villarreal CF\",\"offsetgroup\":\"Villarreal CF\",\"orientation\":\"v\",\"showlegend\":true,\"x\":[\"LaLiga\",\"LaLiga\",\"LaLiga\",\"LaLiga\",\"LaLiga\",\"LaLiga\",\"LaLiga\",\"LaLiga\",\"LaLiga\",\"LaLiga\",\"LaLiga\",\"LaLiga\",\"LaLiga\",\"UEFA Champions League\",\"UEFA Champions League\"],\"xaxis\":\"x\",\"yaxis\":\"y\",\"type\":\"histogram\"},{\"alignmentgroup\":\"True\",\"bingroup\":\"x\",\"hovertemplate\":\"opponent=Olympique Marseille<br>competition=%{x}<br>count=%{y}<extra></extra>\",\"legendgroup\":\"Olympique Marseille\",\"marker\":{\"color\":\"#19d3f3\",\"pattern\":{\"shape\":\"\"}},\"name\":\"Olympique Marseille\",\"offsetgroup\":\"Olympique Marseille\",\"orientation\":\"v\",\"showlegend\":true,\"x\":[\"UEFA Champions League\",\"UEFA Champions League\",\"UEFA Champions League\",\"UEFA Champions League\"],\"xaxis\":\"x\",\"yaxis\":\"y\",\"type\":\"histogram\"},{\"alignmentgroup\":\"True\",\"bingroup\":\"x\",\"hovertemplate\":\"opponent=UD Almeria<br>competition=%{x}<br>count=%{y}<extra></extra>\",\"legendgroup\":\"UD Almeria\",\"marker\":{\"color\":\"#FF6692\",\"pattern\":{\"shape\":\"\"}},\"name\":\"UD Almeria\",\"offsetgroup\":\"UD Almeria\",\"orientation\":\"v\",\"showlegend\":true,\"x\":[\"LaLiga\",\"LaLiga\",\"LaLiga\",\"LaLiga\",\"LaLiga\",\"LaLiga\",\"LaLiga\"],\"xaxis\":\"x\",\"yaxis\":\"y\",\"type\":\"histogram\"},{\"alignmentgroup\":\"True\",\"bingroup\":\"x\",\"hovertemplate\":\"opponent=Real Zaragoza<br>competition=%{x}<br>count=%{y}<extra></extra>\",\"legendgroup\":\"Real Zaragoza\",\"marker\":{\"color\":\"#B6E880\",\"pattern\":{\"shape\":\"\"}},\"name\":\"Real Zaragoza\",\"offsetgroup\":\"Real Zaragoza\",\"orientation\":\"v\",\"showlegend\":true,\"x\":[\"LaLiga\",\"LaLiga\",\"LaLiga\",\"LaLiga\",\"LaLiga\",\"LaLiga\",\"LaLiga\"],\"xaxis\":\"x\",\"yaxis\":\"y\",\"type\":\"histogram\"},{\"alignmentgroup\":\"True\",\"bingroup\":\"x\",\"hovertemplate\":\"opponent=Malaga CF<br>competition=%{x}<br>count=%{y}<extra></extra>\",\"legendgroup\":\"Malaga CF\",\"marker\":{\"color\":\"#FF97FF\",\"pattern\":{\"shape\":\"\"}},\"name\":\"Malaga CF\",\"offsetgroup\":\"Malaga CF\",\"orientation\":\"v\",\"showlegend\":true,\"x\":[\"LaLiga\",\"LaLiga\",\"LaLiga\",\"LaLiga\",\"LaLiga\",\"LaLiga\",\"LaLiga\",\"LaLiga\",\"LaLiga\",\"LaLiga\",\"LaLiga\",\"LaLiga\",\"LaLiga\",\"LaLiga\",\"LaLiga\",\"LaLiga\",\"LaLiga\"],\"xaxis\":\"x\",\"yaxis\":\"y\",\"type\":\"histogram\"},{\"alignmentgroup\":\"True\",\"bingroup\":\"x\",\"hovertemplate\":\"opponent=CD Tenerife<br>competition=%{x}<br>count=%{y}<extra></extra>\",\"legendgroup\":\"CD Tenerife\",\"marker\":{\"color\":\"#FECB52\",\"pattern\":{\"shape\":\"\"}},\"name\":\"CD Tenerife\",\"offsetgroup\":\"CD Tenerife\",\"orientation\":\"v\",\"showlegend\":true,\"x\":[\"LaLiga\"],\"xaxis\":\"x\",\"yaxis\":\"y\",\"type\":\"histogram\"},{\"alignmentgroup\":\"True\",\"bingroup\":\"x\",\"hovertemplate\":\"opponent=Sevilla FC<br>competition=%{x}<br>count=%{y}<extra></extra>\",\"legendgroup\":\"Sevilla FC\",\"marker\":{\"color\":\"#636efa\",\"pattern\":{\"shape\":\"\"}},\"name\":\"Sevilla FC\",\"offsetgroup\":\"Sevilla FC\",\"orientation\":\"v\",\"showlegend\":true,\"x\":[\"LaLiga\",\"LaLiga\",\"LaLiga\",\"LaLiga\",\"LaLiga\",\"LaLiga\",\"LaLiga\",\"LaLiga\",\"LaLiga\",\"LaLiga\",\"LaLiga\",\"LaLiga\",\"LaLiga\",\"LaLiga\",\"LaLiga\",\"LaLiga\",\"UEFA Super Cup\",\"UEFA Super Cup\",\"LaLiga\",\"LaLiga\",\"LaLiga\",\"LaLiga\",\"LaLiga\",\"LaLiga\",\"LaLiga\",\"LaLiga\",\"LaLiga\"],\"xaxis\":\"x\",\"yaxis\":\"y\",\"type\":\"histogram\"},{\"alignmentgroup\":\"True\",\"bingroup\":\"x\",\"hovertemplate\":\"opponent=Real Valladolid CF<br>competition=%{x}<br>count=%{y}<extra></extra>\",\"legendgroup\":\"Real Valladolid CF\",\"marker\":{\"color\":\"#EF553B\",\"pattern\":{\"shape\":\"\"}},\"name\":\"Real Valladolid CF\",\"offsetgroup\":\"Real Valladolid CF\",\"orientation\":\"v\",\"showlegend\":true,\"x\":[\"LaLiga\",\"LaLiga\",\"LaLiga\"],\"xaxis\":\"x\",\"yaxis\":\"y\",\"type\":\"histogram\"},{\"alignmentgroup\":\"True\",\"bingroup\":\"x\",\"hovertemplate\":\"opponent=Getafe CF<br>competition=%{x}<br>count=%{y}<extra></extra>\",\"legendgroup\":\"Getafe CF\",\"marker\":{\"color\":\"#00cc96\",\"pattern\":{\"shape\":\"\"}},\"name\":\"Getafe CF\",\"offsetgroup\":\"Getafe CF\",\"orientation\":\"v\",\"showlegend\":true,\"x\":[\"LaLiga\",\"LaLiga\",\"LaLiga\",\"LaLiga\",\"LaLiga\",\"LaLiga\",\"LaLiga\",\"LaLiga\",\"LaLiga\",\"LaLiga\",\"LaLiga\",\"LaLiga\",\"LaLiga\",\"LaLiga\",\"LaLiga\",\"LaLiga\",\"LaLiga\",\"LaLiga\",\"LaLiga\",\"LaLiga\",\"LaLiga\",\"LaLiga\",\"LaLiga\"],\"xaxis\":\"x\",\"yaxis\":\"y\",\"type\":\"histogram\"},{\"alignmentgroup\":\"True\",\"bingroup\":\"x\",\"hovertemplate\":\"opponent=Racing Santander<br>competition=%{x}<br>count=%{y}<extra></extra>\",\"legendgroup\":\"Racing Santander\",\"marker\":{\"color\":\"#ab63fa\",\"pattern\":{\"shape\":\"\"}},\"name\":\"Racing Santander\",\"offsetgroup\":\"Racing Santander\",\"orientation\":\"v\",\"showlegend\":true,\"x\":[\"LaLiga\",\"LaLiga\",\"LaLiga\",\"LaLiga\",\"LaLiga\",\"LaLiga\"],\"xaxis\":\"x\",\"yaxis\":\"y\",\"type\":\"histogram\"},{\"alignmentgroup\":\"True\",\"bingroup\":\"x\",\"hovertemplate\":\"opponent=Valencia CF<br>competition=%{x}<br>count=%{y}<extra></extra>\",\"legendgroup\":\"Valencia CF\",\"marker\":{\"color\":\"#FFA15A\",\"pattern\":{\"shape\":\"\"}},\"name\":\"Valencia CF\",\"offsetgroup\":\"Valencia CF\",\"orientation\":\"v\",\"showlegend\":true,\"x\":[\"LaLiga\",\"LaLiga\",\"LaLiga\",\"LaLiga\",\"LaLiga\",\"LaLiga\",\"LaLiga\",\"LaLiga\",\"LaLiga\",\"LaLiga\",\"LaLiga\",\"LaLiga\",\"LaLiga\",\"LaLiga\",\"LaLiga\"],\"xaxis\":\"x\",\"yaxis\":\"y\",\"type\":\"histogram\"},{\"alignmentgroup\":\"True\",\"bingroup\":\"x\",\"hovertemplate\":\"opponent=CA Osasuna<br>competition=%{x}<br>count=%{y}<extra></extra>\",\"legendgroup\":\"CA Osasuna\",\"marker\":{\"color\":\"#19d3f3\",\"pattern\":{\"shape\":\"\"}},\"name\":\"CA Osasuna\",\"offsetgroup\":\"CA Osasuna\",\"orientation\":\"v\",\"showlegend\":true,\"x\":[\"LaLiga\",\"LaLiga\",\"LaLiga\",\"LaLiga\",\"LaLiga\",\"LaLiga\",\"LaLiga\",\"Copa del Rey\",\"LaLiga\",\"LaLiga\",\"LaLiga\",\"LaLiga\"],\"xaxis\":\"x\",\"yaxis\":\"y\",\"type\":\"histogram\"},{\"alignmentgroup\":\"True\",\"bingroup\":\"x\",\"hovertemplate\":\"opponent=RCD Mallorca<br>competition=%{x}<br>count=%{y}<extra></extra>\",\"legendgroup\":\"RCD Mallorca\",\"marker\":{\"color\":\"#FF6692\",\"pattern\":{\"shape\":\"\"}},\"name\":\"RCD Mallorca\",\"offsetgroup\":\"RCD Mallorca\",\"orientation\":\"v\",\"showlegend\":true,\"x\":[\"LaLiga\",\"LaLiga\",\"LaLiga\",\"LaLiga\",\"LaLiga\",\"LaLiga\",\"LaLiga\"],\"xaxis\":\"x\",\"yaxis\":\"y\",\"type\":\"histogram\"},{\"alignmentgroup\":\"True\",\"bingroup\":\"x\",\"hovertemplate\":\"opponent=Athletic Bilbao<br>competition=%{x}<br>count=%{y}<extra></extra>\",\"legendgroup\":\"Athletic Bilbao\",\"marker\":{\"color\":\"#B6E880\",\"pattern\":{\"shape\":\"\"}},\"name\":\"Athletic Bilbao\",\"offsetgroup\":\"Athletic Bilbao\",\"orientation\":\"v\",\"showlegend\":true,\"x\":[\"LaLiga\",\"LaLiga\",\"LaLiga\",\"LaLiga\",\"LaLiga\",\"LaLiga\",\"LaLiga\",\"LaLiga\",\"LaLiga\",\"LaLiga\",\"LaLiga\",\"LaLiga\",\"LaLiga\",\"LaLiga\",\"LaLiga\",\"LaLiga\",\"LaLiga\"],\"xaxis\":\"x\",\"yaxis\":\"y\",\"type\":\"histogram\"},{\"alignmentgroup\":\"True\",\"bingroup\":\"x\",\"hovertemplate\":\"opponent=Hercules CF<br>competition=%{x}<br>count=%{y}<extra></extra>\",\"legendgroup\":\"Hercules CF\",\"marker\":{\"color\":\"#FF97FF\",\"pattern\":{\"shape\":\"\"}},\"name\":\"Hercules CF\",\"offsetgroup\":\"Hercules CF\",\"orientation\":\"v\",\"showlegend\":true,\"x\":[\"LaLiga\",\"LaLiga\"],\"xaxis\":\"x\",\"yaxis\":\"y\",\"type\":\"histogram\"},{\"alignmentgroup\":\"True\",\"bingroup\":\"x\",\"hovertemplate\":\"opponent=Real Murcia CF<br>competition=%{x}<br>count=%{y}<extra></extra>\",\"legendgroup\":\"Real Murcia CF\",\"marker\":{\"color\":\"#FECB52\",\"pattern\":{\"shape\":\"\"}},\"name\":\"Real Murcia CF\",\"offsetgroup\":\"Real Murcia CF\",\"orientation\":\"v\",\"showlegend\":true,\"x\":[\"Copa del Rey\"],\"xaxis\":\"x\",\"yaxis\":\"y\",\"type\":\"histogram\"},{\"alignmentgroup\":\"True\",\"bingroup\":\"x\",\"hovertemplate\":\"opponent=Ajax Amsterdam<br>competition=%{x}<br>count=%{y}<extra></extra>\",\"legendgroup\":\"Ajax Amsterdam\",\"marker\":{\"color\":\"#636efa\",\"pattern\":{\"shape\":\"\"}},\"name\":\"Ajax Amsterdam\",\"offsetgroup\":\"Ajax Amsterdam\",\"orientation\":\"v\",\"showlegend\":true,\"x\":[\"UEFA Champions League\",\"UEFA Champions League\",\"UEFA Champions League\",\"UEFA Champions League\",\"UEFA Champions League\",\"UEFA Champions League\",\"UEFA Champions League\",\"UEFA Champions League\",\"UEFA Champions League\"],\"xaxis\":\"x\",\"yaxis\":\"y\",\"type\":\"histogram\"},{\"alignmentgroup\":\"True\",\"bingroup\":\"x\",\"hovertemplate\":\"opponent=AJ Auxerre<br>competition=%{x}<br>count=%{y}<extra></extra>\",\"legendgroup\":\"AJ Auxerre\",\"marker\":{\"color\":\"#EF553B\",\"pattern\":{\"shape\":\"\"}},\"name\":\"AJ Auxerre\",\"offsetgroup\":\"AJ Auxerre\",\"orientation\":\"v\",\"showlegend\":true,\"x\":[\"UEFA Champions League\"],\"xaxis\":\"x\",\"yaxis\":\"y\",\"type\":\"histogram\"},{\"alignmentgroup\":\"True\",\"bingroup\":\"x\",\"hovertemplate\":\"opponent=Levante UD<br>competition=%{x}<br>count=%{y}<extra></extra>\",\"legendgroup\":\"Levante UD\",\"marker\":{\"color\":\"#00cc96\",\"pattern\":{\"shape\":\"\"}},\"name\":\"Levante UD\",\"offsetgroup\":\"Levante UD\",\"orientation\":\"v\",\"showlegend\":true,\"x\":[\"Copa del Rey\",\"Copa del Rey\",\"Copa del Rey\",\"LaLiga\",\"LaLiga\",\"LaLiga\",\"LaLiga\",\"LaLiga\",\"LaLiga\",\"LaLiga\",\"LaLiga\",\"LaLiga\",\"LaLiga\",\"LaLiga\"],\"xaxis\":\"x\",\"yaxis\":\"y\",\"type\":\"histogram\"},{\"alignmentgroup\":\"True\",\"bingroup\":\"x\",\"hovertemplate\":\"opponent=Atletico de Madrid<br>competition=%{x}<br>count=%{y}<extra></extra>\",\"legendgroup\":\"Atletico de Madrid\",\"marker\":{\"color\":\"#ab63fa\",\"pattern\":{\"shape\":\"\"}},\"name\":\"Atletico de Madrid\",\"offsetgroup\":\"Atletico de Madrid\",\"orientation\":\"v\",\"showlegend\":true,\"x\":[\"Copa del Rey\",\"Copa del Rey\",\"LaLiga\",\"LaLiga\",\"LaLiga\",\"LaLiga\",\"LaLiga\",\"LaLiga\",\"Copa del Rey\",\"Copa del Rey\",\"Copa del Rey\",\"LaLiga\",\"UEFA Champions League\",\"LaLiga\",\"Copa del Rey\",\"LaLiga\",\"LaLiga\",\"LaLiga\",\"UEFA Champions League\",\"UEFA Champions League\",\"UEFA Champions League\",\"LaLiga\",\"UEFA Champions League\",\"UEFA Champions League\",\"UEFA Champions League\"],\"xaxis\":\"x\",\"yaxis\":\"y\",\"type\":\"histogram\"},{\"alignmentgroup\":\"True\",\"bingroup\":\"x\",\"hovertemplate\":\"opponent=Real Sociedad<br>competition=%{x}<br>count=%{y}<extra></extra>\",\"legendgroup\":\"Real Sociedad\",\"marker\":{\"color\":\"#FFA15A\",\"pattern\":{\"shape\":\"\"}},\"name\":\"Real Sociedad\",\"offsetgroup\":\"Real Sociedad\",\"orientation\":\"v\",\"showlegend\":true,\"x\":[\"LaLiga\",\"LaLiga\",\"LaLiga\",\"LaLiga\",\"LaLiga\",\"LaLiga\",\"LaLiga\",\"LaLiga\",\"LaLiga\",\"LaLiga\",\"LaLiga\",\"LaLiga\",\"LaLiga\",\"LaLiga\",\"LaLiga\"],\"xaxis\":\"x\",\"yaxis\":\"y\",\"type\":\"histogram\"},{\"alignmentgroup\":\"True\",\"bingroup\":\"x\",\"hovertemplate\":\"opponent=FC Barcelona<br>competition=%{x}<br>count=%{y}<extra></extra>\",\"legendgroup\":\"FC Barcelona\",\"marker\":{\"color\":\"#19d3f3\",\"pattern\":{\"shape\":\"\"}},\"name\":\"FC Barcelona\",\"offsetgroup\":\"FC Barcelona\",\"orientation\":\"v\",\"showlegend\":true,\"x\":[\"LaLiga\",\"Copa del Rey\",\"Supercopa\",\"Copa del Rey\",\"Copa del Rey\",\"LaLiga\",\"Supercopa\",\"Supercopa\",\"LaLiga\",\"LaLiga\",\"Copa del Rey\",\"Copa del Rey\",\"LaLiga\",\"LaLiga\",\"LaLiga\",\"LaLiga\",\"Supercopa\",\"LaLiga\",\"UEFA Champions League\",\"UEFA Champions League\"],\"xaxis\":\"x\",\"yaxis\":\"y\",\"type\":\"histogram\"},{\"alignmentgroup\":\"True\",\"bingroup\":\"x\",\"hovertemplate\":\"opponent=Rayo Vallecano<br>competition=%{x}<br>count=%{y}<extra></extra>\",\"legendgroup\":\"Rayo Vallecano\",\"marker\":{\"color\":\"#FF6692\",\"pattern\":{\"shape\":\"\"}},\"name\":\"Rayo Vallecano\",\"offsetgroup\":\"Rayo Vallecano\",\"orientation\":\"v\",\"showlegend\":true,\"x\":[\"LaLiga\",\"LaLiga\",\"LaLiga\",\"LaLiga\",\"LaLiga\",\"LaLiga\",\"LaLiga\",\"LaLiga\",\"LaLiga\",\"LaLiga\",\"LaLiga\",\"LaLiga\"],\"xaxis\":\"x\",\"yaxis\":\"y\",\"type\":\"histogram\"},{\"alignmentgroup\":\"True\",\"bingroup\":\"x\",\"hovertemplate\":\"opponent=Sporting GijÃ³n<br>competition=%{x}<br>count=%{y}<extra></extra>\",\"legendgroup\":\"Sporting GijÃ³n\",\"marker\":{\"color\":\"#B6E880\",\"pattern\":{\"shape\":\"\"}},\"name\":\"Sporting GijÃ³n\",\"offsetgroup\":\"Sporting GijÃ³n\",\"orientation\":\"v\",\"showlegend\":true,\"x\":[\"LaLiga\",\"LaLiga\",\"LaLiga\",\"LaLiga\",\"LaLiga\",\"LaLiga\"],\"xaxis\":\"x\",\"yaxis\":\"y\",\"type\":\"histogram\"},{\"alignmentgroup\":\"True\",\"bingroup\":\"x\",\"hovertemplate\":\"opponent=SD Ponferradina<br>competition=%{x}<br>count=%{y}<extra></extra>\",\"legendgroup\":\"SD Ponferradina\",\"marker\":{\"color\":\"#FF97FF\",\"pattern\":{\"shape\":\"\"}},\"name\":\"SD Ponferradina\",\"offsetgroup\":\"SD Ponferradina\",\"orientation\":\"v\",\"showlegend\":true,\"x\":[\"Copa del Rey\"],\"xaxis\":\"x\",\"yaxis\":\"y\",\"type\":\"histogram\"},{\"alignmentgroup\":\"True\",\"bingroup\":\"x\",\"hovertemplate\":\"opponent=Granada CF<br>competition=%{x}<br>count=%{y}<extra></extra>\",\"legendgroup\":\"Granada CF\",\"marker\":{\"color\":\"#FECB52\",\"pattern\":{\"shape\":\"\"}},\"name\":\"Granada CF\",\"offsetgroup\":\"Granada CF\",\"orientation\":\"v\",\"showlegend\":true,\"x\":[\"LaLiga\",\"LaLiga\",\"LaLiga\",\"LaLiga\",\"LaLiga\",\"LaLiga\",\"LaLiga\",\"LaLiga\",\"LaLiga\",\"LaLiga\",\"LaLiga\",\"LaLiga\"],\"xaxis\":\"x\",\"yaxis\":\"y\",\"type\":\"histogram\"},{\"alignmentgroup\":\"True\",\"bingroup\":\"x\",\"hovertemplate\":\"opponent=CSKA Moscow<br>competition=%{x}<br>count=%{y}<extra></extra>\",\"legendgroup\":\"CSKA Moscow\",\"marker\":{\"color\":\"#636efa\",\"pattern\":{\"shape\":\"\"}},\"name\":\"CSKA Moscow\",\"offsetgroup\":\"CSKA Moscow\",\"orientation\":\"v\",\"showlegend\":true,\"x\":[\"UEFA Champions League\",\"UEFA Champions League\",\"UEFA Champions League\"],\"xaxis\":\"x\",\"yaxis\":\"y\",\"type\":\"histogram\"},{\"alignmentgroup\":\"True\",\"bingroup\":\"x\",\"hovertemplate\":\"opponent=Real Betis Balompie<br>competition=%{x}<br>count=%{y}<extra></extra>\",\"legendgroup\":\"Real Betis Balompie\",\"marker\":{\"color\":\"#EF553B\",\"pattern\":{\"shape\":\"\"}},\"name\":\"Real Betis Balompie\",\"offsetgroup\":\"Real Betis Balompie\",\"orientation\":\"v\",\"showlegend\":true,\"x\":[\"LaLiga\",\"LaLiga\",\"LaLiga\",\"LaLiga\",\"LaLiga\",\"LaLiga\"],\"xaxis\":\"x\",\"yaxis\":\"y\",\"type\":\"histogram\"},{\"alignmentgroup\":\"True\",\"bingroup\":\"x\",\"hovertemplate\":\"opponent=APOEL Nicosia<br>competition=%{x}<br>count=%{y}<extra></extra>\",\"legendgroup\":\"APOEL Nicosia\",\"marker\":{\"color\":\"#00cc96\",\"pattern\":{\"shape\":\"\"}},\"name\":\"APOEL Nicosia\",\"offsetgroup\":\"APOEL Nicosia\",\"orientation\":\"v\",\"showlegend\":true,\"x\":[\"UEFA Champions League\",\"UEFA Champions League\",\"UEFA Champions League\",\"UEFA Champions League\",\"UEFA Champions League\",\"UEFA Champions League\"],\"xaxis\":\"x\",\"yaxis\":\"y\",\"type\":\"histogram\"},{\"alignmentgroup\":\"True\",\"bingroup\":\"x\",\"hovertemplate\":\"opponent=Bayern Munich<br>competition=%{x}<br>count=%{y}<extra></extra>\",\"legendgroup\":\"Bayern Munich\",\"marker\":{\"color\":\"#ab63fa\",\"pattern\":{\"shape\":\"\"}},\"name\":\"Bayern Munich\",\"offsetgroup\":\"Bayern Munich\",\"orientation\":\"v\",\"showlegend\":true,\"x\":[\"UEFA Champions League\",\"UEFA Champions League\",\"UEFA Champions League\",\"UEFA Champions League\",\"UEFA Champions League\",\"UEFA Champions League\",\"UEFA Champions League\",\"UEFA Champions League\",\"UEFA Champions League\"],\"xaxis\":\"x\",\"yaxis\":\"y\",\"type\":\"histogram\"},{\"alignmentgroup\":\"True\",\"bingroup\":\"x\",\"hovertemplate\":\"opponent=Celta de Vigo<br>competition=%{x}<br>count=%{y}<extra></extra>\",\"legendgroup\":\"Celta de Vigo\",\"marker\":{\"color\":\"#FFA15A\",\"pattern\":{\"shape\":\"\"}},\"name\":\"Celta de Vigo\",\"offsetgroup\":\"Celta de Vigo\",\"orientation\":\"v\",\"showlegend\":true,\"x\":[\"LaLiga\",\"Copa del Rey\",\"Copa del Rey\",\"Copa del Rey\",\"Copa del Rey\",\"LaLiga\",\"LaLiga\",\"LaLiga\",\"LaLiga\",\"LaLiga\",\"LaLiga\",\"LaLiga\",\"LaLiga\",\"LaLiga\",\"LaLiga\",\"LaLiga\",\"LaLiga\",\"Copa del Rey\",\"LaLiga\",\"LaLiga\"],\"xaxis\":\"x\",\"yaxis\":\"y\",\"type\":\"histogram\"},{\"alignmentgroup\":\"True\",\"bingroup\":\"x\",\"hovertemplate\":\"opponent=Borussia Dortmund<br>competition=%{x}<br>count=%{y}<extra></extra>\",\"legendgroup\":\"Borussia Dortmund\",\"marker\":{\"color\":\"#19d3f3\",\"pattern\":{\"shape\":\"\"}},\"name\":\"Borussia Dortmund\",\"offsetgroup\":\"Borussia Dortmund\",\"orientation\":\"v\",\"showlegend\":true,\"x\":[\"UEFA Champions League\",\"UEFA Champions League\",\"UEFA Champions League\",\"UEFA Champions League\",\"UEFA Champions League\",\"UEFA Champions League\",\"UEFA Champions League\"],\"xaxis\":\"x\",\"yaxis\":\"y\",\"type\":\"histogram\"},{\"alignmentgroup\":\"True\",\"bingroup\":\"x\",\"hovertemplate\":\"opponent=Manchester United<br>competition=%{x}<br>count=%{y}<extra></extra>\",\"legendgroup\":\"Manchester United\",\"marker\":{\"color\":\"#FF6692\",\"pattern\":{\"shape\":\"\"}},\"name\":\"Manchester United\",\"offsetgroup\":\"Manchester United\",\"orientation\":\"v\",\"showlegend\":true,\"x\":[\"UEFA Champions League\",\"UEFA Champions League\",\"UEFA Champions League\"],\"xaxis\":\"x\",\"yaxis\":\"y\",\"type\":\"histogram\"},{\"alignmentgroup\":\"True\",\"bingroup\":\"x\",\"hovertemplate\":\"opponent=Galatasaray<br>competition=%{x}<br>count=%{y}<extra></extra>\",\"legendgroup\":\"Galatasaray\",\"marker\":{\"color\":\"#B6E880\",\"pattern\":{\"shape\":\"\"}},\"name\":\"Galatasaray\",\"offsetgroup\":\"Galatasaray\",\"orientation\":\"v\",\"showlegend\":true,\"x\":[\"UEFA Champions League\",\"UEFA Champions League\",\"UEFA Champions League\",\"UEFA Champions League\",\"UEFA Champions League\",\"UEFA Champions League\"],\"xaxis\":\"x\",\"yaxis\":\"y\",\"type\":\"histogram\"},{\"alignmentgroup\":\"True\",\"bingroup\":\"x\",\"hovertemplate\":\"opponent=Elche CF<br>competition=%{x}<br>count=%{y}<extra></extra>\",\"legendgroup\":\"Elche CF\",\"marker\":{\"color\":\"#FF97FF\",\"pattern\":{\"shape\":\"\"}},\"name\":\"Elche CF\",\"offsetgroup\":\"Elche CF\",\"orientation\":\"v\",\"showlegend\":true,\"x\":[\"LaLiga\",\"LaLiga\",\"LaLiga\",\"LaLiga\",\"LaLiga\",\"LaLiga\",\"LaLiga\"],\"xaxis\":\"x\",\"yaxis\":\"y\",\"type\":\"histogram\"},{\"alignmentgroup\":\"True\",\"bingroup\":\"x\",\"hovertemplate\":\"opponent=FC Copenhagen<br>competition=%{x}<br>count=%{y}<extra></extra>\",\"legendgroup\":\"FC Copenhagen\",\"marker\":{\"color\":\"#FECB52\",\"pattern\":{\"shape\":\"\"}},\"name\":\"FC Copenhagen\",\"offsetgroup\":\"FC Copenhagen\",\"orientation\":\"v\",\"showlegend\":true,\"x\":[\"UEFA Champions League\",\"UEFA Champions League\",\"UEFA Champions League\"],\"xaxis\":\"x\",\"yaxis\":\"y\",\"type\":\"histogram\"},{\"alignmentgroup\":\"True\",\"bingroup\":\"x\",\"hovertemplate\":\"opponent=Juventus FC<br>competition=%{x}<br>count=%{y}<extra></extra>\",\"legendgroup\":\"Juventus FC\",\"marker\":{\"color\":\"#636efa\",\"pattern\":{\"shape\":\"\"}},\"name\":\"Juventus FC\",\"offsetgroup\":\"Juventus FC\",\"orientation\":\"v\",\"showlegend\":true,\"x\":[\"UEFA Champions League\",\"UEFA Champions League\",\"UEFA Champions League\",\"UEFA Champions League\",\"UEFA Champions League\",\"UEFA Champions League\",\"UEFA Champions League\",\"UEFA Champions League\",\"UEFA Champions League\",\"UEFA Champions League\"],\"xaxis\":\"x\",\"yaxis\":\"y\",\"type\":\"histogram\"},{\"alignmentgroup\":\"True\",\"bingroup\":\"x\",\"hovertemplate\":\"opponent=FC Schalke 04<br>competition=%{x}<br>count=%{y}<extra></extra>\",\"legendgroup\":\"FC Schalke 04\",\"marker\":{\"color\":\"#EF553B\",\"pattern\":{\"shape\":\"\"}},\"name\":\"FC Schalke 04\",\"offsetgroup\":\"FC Schalke 04\",\"orientation\":\"v\",\"showlegend\":true,\"x\":[\"UEFA Champions League\",\"UEFA Champions League\",\"UEFA Champions League\",\"UEFA Champions League\",\"UEFA Champions League\",\"UEFA Champions League\",\"UEFA Champions League\"],\"xaxis\":\"x\",\"yaxis\":\"y\",\"type\":\"histogram\"},{\"alignmentgroup\":\"True\",\"bingroup\":\"x\",\"hovertemplate\":\"opponent=CÃ³rdoba CF<br>competition=%{x}<br>count=%{y}<extra></extra>\",\"legendgroup\":\"CÃ³rdoba CF\",\"marker\":{\"color\":\"#00cc96\",\"pattern\":{\"shape\":\"\"}},\"name\":\"CÃ³rdoba CF\",\"offsetgroup\":\"CÃ³rdoba CF\",\"orientation\":\"v\",\"showlegend\":true,\"x\":[\"LaLiga\"],\"xaxis\":\"x\",\"yaxis\":\"y\",\"type\":\"histogram\"},{\"alignmentgroup\":\"True\",\"bingroup\":\"x\",\"hovertemplate\":\"opponent=FC Basel 1893<br>competition=%{x}<br>count=%{y}<extra></extra>\",\"legendgroup\":\"FC Basel 1893\",\"marker\":{\"color\":\"#ab63fa\",\"pattern\":{\"shape\":\"\"}},\"name\":\"FC Basel 1893\",\"offsetgroup\":\"FC Basel 1893\",\"orientation\":\"v\",\"showlegend\":true,\"x\":[\"UEFA Champions League\",\"UEFA Champions League\"],\"xaxis\":\"x\",\"yaxis\":\"y\",\"type\":\"histogram\"},{\"alignmentgroup\":\"True\",\"bingroup\":\"x\",\"hovertemplate\":\"opponent=Ludogorets Razgrad<br>competition=%{x}<br>count=%{y}<extra></extra>\",\"legendgroup\":\"Ludogorets Razgrad\",\"marker\":{\"color\":\"#FFA15A\",\"pattern\":{\"shape\":\"\"}},\"name\":\"Ludogorets Razgrad\",\"offsetgroup\":\"Ludogorets Razgrad\",\"orientation\":\"v\",\"showlegend\":true,\"x\":[\"UEFA Champions League\",\"UEFA Champions League\"],\"xaxis\":\"x\",\"yaxis\":\"y\",\"type\":\"histogram\"},{\"alignmentgroup\":\"True\",\"bingroup\":\"x\",\"hovertemplate\":\"opponent=SD Eibar<br>competition=%{x}<br>count=%{y}<extra></extra>\",\"legendgroup\":\"SD Eibar\",\"marker\":{\"color\":\"#19d3f3\",\"pattern\":{\"shape\":\"\"}},\"name\":\"SD Eibar\",\"offsetgroup\":\"SD Eibar\",\"orientation\":\"v\",\"showlegend\":true,\"x\":[\"LaLiga\",\"LaLiga\",\"LaLiga\",\"LaLiga\",\"LaLiga\",\"LaLiga\",\"LaLiga\"],\"xaxis\":\"x\",\"yaxis\":\"y\",\"type\":\"histogram\"},{\"alignmentgroup\":\"True\",\"bingroup\":\"x\",\"hovertemplate\":\"opponent=Shakhtar Donetsk<br>competition=%{x}<br>count=%{y}<extra></extra>\",\"legendgroup\":\"Shakhtar Donetsk\",\"marker\":{\"color\":\"#FF6692\",\"pattern\":{\"shape\":\"\"}},\"name\":\"Shakhtar Donetsk\",\"offsetgroup\":\"Shakhtar Donetsk\",\"orientation\":\"v\",\"showlegend\":true,\"x\":[\"UEFA Champions League\",\"UEFA Champions League\",\"UEFA Champions League\",\"UEFA Champions League\",\"UEFA Champions League\"],\"xaxis\":\"x\",\"yaxis\":\"y\",\"type\":\"histogram\"},{\"alignmentgroup\":\"True\",\"bingroup\":\"x\",\"hovertemplate\":\"opponent=MalmÃ¶ FF<br>competition=%{x}<br>count=%{y}<extra></extra>\",\"legendgroup\":\"MalmÃ¶ FF\",\"marker\":{\"color\":\"#B6E880\",\"pattern\":{\"shape\":\"\"}},\"name\":\"MalmÃ¶ FF\",\"offsetgroup\":\"MalmÃ¶ FF\",\"orientation\":\"v\",\"showlegend\":true,\"x\":[\"UEFA Champions League\",\"UEFA Champions League\",\"UEFA Champions League\",\"UEFA Champions League\",\"UEFA Champions League\",\"UEFA Champions League\"],\"xaxis\":\"x\",\"yaxis\":\"y\",\"type\":\"histogram\"},{\"alignmentgroup\":\"True\",\"bingroup\":\"x\",\"hovertemplate\":\"opponent=UD Las Palmas<br>competition=%{x}<br>count=%{y}<extra></extra>\",\"legendgroup\":\"UD Las Palmas\",\"marker\":{\"color\":\"#FF97FF\",\"pattern\":{\"shape\":\"\"}},\"name\":\"UD Las Palmas\",\"offsetgroup\":\"UD Las Palmas\",\"orientation\":\"v\",\"showlegend\":true,\"x\":[\"LaLiga\",\"LaLiga\",\"LaLiga\"],\"xaxis\":\"x\",\"yaxis\":\"y\",\"type\":\"histogram\"},{\"alignmentgroup\":\"True\",\"bingroup\":\"x\",\"hovertemplate\":\"opponent=VfL Wolfsburg<br>competition=%{x}<br>count=%{y}<extra></extra>\",\"legendgroup\":\"VfL Wolfsburg\",\"marker\":{\"color\":\"#FECB52\",\"pattern\":{\"shape\":\"\"}},\"name\":\"VfL Wolfsburg\",\"offsetgroup\":\"VfL Wolfsburg\",\"orientation\":\"v\",\"showlegend\":true,\"x\":[\"UEFA Champions League\",\"UEFA Champions League\",\"UEFA Champions League\"],\"xaxis\":\"x\",\"yaxis\":\"y\",\"type\":\"histogram\"},{\"alignmentgroup\":\"True\",\"bingroup\":\"x\",\"hovertemplate\":\"opponent=Deportivo Alaves<br>competition=%{x}<br>count=%{y}<extra></extra>\",\"legendgroup\":\"Deportivo Alaves\",\"marker\":{\"color\":\"#636efa\",\"pattern\":{\"shape\":\"\"}},\"name\":\"Deportivo Alaves\",\"offsetgroup\":\"Deportivo Alaves\",\"orientation\":\"v\",\"showlegend\":true,\"x\":[\"LaLiga\",\"LaLiga\",\"LaLiga\",\"LaLiga\",\"LaLiga\"],\"xaxis\":\"x\",\"yaxis\":\"y\",\"type\":\"histogram\"},{\"alignmentgroup\":\"True\",\"bingroup\":\"x\",\"hovertemplate\":\"opponent=CF America<br>competition=%{x}<br>count=%{y}<extra></extra>\",\"legendgroup\":\"CF America\",\"marker\":{\"color\":\"#EF553B\",\"pattern\":{\"shape\":\"\"}},\"name\":\"CF America\",\"offsetgroup\":\"CF America\",\"orientation\":\"v\",\"showlegend\":true,\"x\":[\"FIFA Club World Cup\"],\"xaxis\":\"x\",\"yaxis\":\"y\",\"type\":\"histogram\"},{\"alignmentgroup\":\"True\",\"bingroup\":\"x\",\"hovertemplate\":\"opponent=Kashima Antlers<br>competition=%{x}<br>count=%{y}<extra></extra>\",\"legendgroup\":\"Kashima Antlers\",\"marker\":{\"color\":\"#00cc96\",\"pattern\":{\"shape\":\"\"}},\"name\":\"Kashima Antlers\",\"offsetgroup\":\"Kashima Antlers\",\"orientation\":\"v\",\"showlegend\":true,\"x\":[\"FIFA Club World Cup\",\"FIFA Club World Cup\",\"FIFA Club World Cup\"],\"xaxis\":\"x\",\"yaxis\":\"y\",\"type\":\"histogram\"},{\"alignmentgroup\":\"True\",\"bingroup\":\"x\",\"hovertemplate\":\"opponent=Al-Jazira (Abu Dhabi)<br>competition=%{x}<br>count=%{y}<extra></extra>\",\"legendgroup\":\"Al-Jazira (Abu Dhabi)\",\"marker\":{\"color\":\"#ab63fa\",\"pattern\":{\"shape\":\"\"}},\"name\":\"Al-Jazira (Abu Dhabi)\",\"offsetgroup\":\"Al-Jazira (Abu Dhabi)\",\"orientation\":\"v\",\"showlegend\":true,\"x\":[\"FIFA Club World Cup\"],\"xaxis\":\"x\",\"yaxis\":\"y\",\"type\":\"histogram\"},{\"alignmentgroup\":\"True\",\"bingroup\":\"x\",\"hovertemplate\":\"opponent=GrÃªmio Foot-Ball Porto Alegrense<br>competition=%{x}<br>count=%{y}<extra></extra>\",\"legendgroup\":\"GrÃªmio Foot-Ball Porto Alegrense\",\"marker\":{\"color\":\"#FFA15A\",\"pattern\":{\"shape\":\"\"}},\"name\":\"GrÃªmio Foot-Ball Porto Alegrense\",\"offsetgroup\":\"GrÃªmio Foot-Ball Porto Alegrense\",\"orientation\":\"v\",\"showlegend\":true,\"x\":[\"FIFA Club World Cup\"],\"xaxis\":\"x\",\"yaxis\":\"y\",\"type\":\"histogram\"},{\"alignmentgroup\":\"True\",\"bingroup\":\"x\",\"hovertemplate\":\"opponent=Paris Saint-Germain<br>competition=%{x}<br>count=%{y}<extra></extra>\",\"legendgroup\":\"Paris Saint-Germain\",\"marker\":{\"color\":\"#19d3f3\",\"pattern\":{\"shape\":\"\"}},\"name\":\"Paris Saint-Germain\",\"offsetgroup\":\"Paris Saint-Germain\",\"orientation\":\"v\",\"showlegend\":true,\"x\":[\"UEFA Champions League\",\"UEFA Champions League\",\"UEFA Champions League\"],\"xaxis\":\"x\",\"yaxis\":\"y\",\"type\":\"histogram\"},{\"alignmentgroup\":\"True\",\"bingroup\":\"x\",\"hovertemplate\":\"opponent=Girona FC<br>competition=%{x}<br>count=%{y}<extra></extra>\",\"legendgroup\":\"Girona FC\",\"marker\":{\"color\":\"#FF6692\",\"pattern\":{\"shape\":\"\"}},\"name\":\"Girona FC\",\"offsetgroup\":\"Girona FC\",\"orientation\":\"v\",\"showlegend\":true,\"x\":[\"LaLiga\",\"LaLiga\",\"LaLiga\",\"LaLiga\"],\"xaxis\":\"x\",\"yaxis\":\"y\",\"type\":\"histogram\"},{\"alignmentgroup\":\"True\",\"bingroup\":\"x\",\"hovertemplate\":\"opponent=US Sassuolo<br>competition=%{x}<br>count=%{y}<extra></extra>\",\"legendgroup\":\"US Sassuolo\",\"marker\":{\"color\":\"#B6E880\",\"pattern\":{\"shape\":\"\"}},\"name\":\"US Sassuolo\",\"offsetgroup\":\"US Sassuolo\",\"orientation\":\"v\",\"showlegend\":true,\"x\":[\"Serie A\",\"Serie A\",\"Serie A\",\"Serie A\",\"Serie A\",\"Serie A\"],\"xaxis\":\"x\",\"yaxis\":\"y\",\"type\":\"histogram\"},{\"alignmentgroup\":\"True\",\"bingroup\":\"x\",\"hovertemplate\":\"opponent=Frosinone Calcio<br>competition=%{x}<br>count=%{y}<extra></extra>\",\"legendgroup\":\"Frosinone Calcio\",\"marker\":{\"color\":\"#FF97FF\",\"pattern\":{\"shape\":\"\"}},\"name\":\"Frosinone Calcio\",\"offsetgroup\":\"Frosinone Calcio\",\"orientation\":\"v\",\"showlegend\":true,\"x\":[\"Serie A\",\"Serie A\"],\"xaxis\":\"x\",\"yaxis\":\"y\",\"type\":\"histogram\"},{\"alignmentgroup\":\"True\",\"bingroup\":\"x\",\"hovertemplate\":\"opponent=Udinese Calcio<br>competition=%{x}<br>count=%{y}<extra></extra>\",\"legendgroup\":\"Udinese Calcio\",\"marker\":{\"color\":\"#FECB52\",\"pattern\":{\"shape\":\"\"}},\"name\":\"Udinese Calcio\",\"offsetgroup\":\"Udinese Calcio\",\"orientation\":\"v\",\"showlegend\":true,\"x\":[\"Serie A\",\"Serie A\",\"Serie A\",\"Serie A\",\"Serie A\",\"Serie A\",\"Serie A\"],\"xaxis\":\"x\",\"yaxis\":\"y\",\"type\":\"histogram\"},{\"alignmentgroup\":\"True\",\"bingroup\":\"x\",\"hovertemplate\":\"opponent=Genoa CFC<br>competition=%{x}<br>count=%{y}<extra></extra>\",\"legendgroup\":\"Genoa CFC\",\"marker\":{\"color\":\"#636efa\",\"pattern\":{\"shape\":\"\"}},\"name\":\"Genoa CFC\",\"offsetgroup\":\"Genoa CFC\",\"orientation\":\"v\",\"showlegend\":true,\"x\":[\"Serie A\",\"Serie A\",\"Serie A\",\"Serie A\",\"Serie A\"],\"xaxis\":\"x\",\"yaxis\":\"y\",\"type\":\"histogram\"},{\"alignmentgroup\":\"True\",\"bingroup\":\"x\",\"hovertemplate\":\"opponent=Empoli FC <br>competition=%{x}<br>count=%{y}<extra></extra>\",\"legendgroup\":\"Empoli FC \",\"marker\":{\"color\":\"#EF553B\",\"pattern\":{\"shape\":\"\"}},\"name\":\"Empoli FC \",\"offsetgroup\":\"Empoli FC \",\"orientation\":\"v\",\"showlegend\":true,\"x\":[\"Serie A\",\"Serie A\"],\"xaxis\":\"x\",\"yaxis\":\"y\",\"type\":\"histogram\"},{\"alignmentgroup\":\"True\",\"bingroup\":\"x\",\"hovertemplate\":\"opponent=SPAL<br>competition=%{x}<br>count=%{y}<extra></extra>\",\"legendgroup\":\"SPAL\",\"marker\":{\"color\":\"#00cc96\",\"pattern\":{\"shape\":\"\"}},\"name\":\"SPAL\",\"offsetgroup\":\"SPAL\",\"orientation\":\"v\",\"showlegend\":true,\"x\":[\"Serie A\",\"Serie A\",\"Serie A\"],\"xaxis\":\"x\",\"yaxis\":\"y\",\"type\":\"histogram\"},{\"alignmentgroup\":\"True\",\"bingroup\":\"x\",\"hovertemplate\":\"opponent=ACF Fiorentina<br>competition=%{x}<br>count=%{y}<extra></extra>\",\"legendgroup\":\"ACF Fiorentina\",\"marker\":{\"color\":\"#ab63fa\",\"pattern\":{\"shape\":\"\"}},\"name\":\"ACF Fiorentina\",\"offsetgroup\":\"ACF Fiorentina\",\"orientation\":\"v\",\"showlegend\":true,\"x\":[\"Serie A\",\"Serie A\",\"Serie A\"],\"xaxis\":\"x\",\"yaxis\":\"y\",\"type\":\"histogram\"},{\"alignmentgroup\":\"True\",\"bingroup\":\"x\",\"hovertemplate\":\"opponent=Torino FC<br>competition=%{x}<br>count=%{y}<extra></extra>\",\"legendgroup\":\"Torino FC\",\"marker\":{\"color\":\"#FFA15A\",\"pattern\":{\"shape\":\"\"}},\"name\":\"Torino FC\",\"offsetgroup\":\"Torino FC\",\"orientation\":\"v\",\"showlegend\":true,\"x\":[\"Serie A\",\"Serie A\",\"Serie A\",\"Serie A\"],\"xaxis\":\"x\",\"yaxis\":\"y\",\"type\":\"histogram\"},{\"alignmentgroup\":\"True\",\"bingroup\":\"x\",\"hovertemplate\":\"opponent=Atalanta BC<br>competition=%{x}<br>count=%{y}<extra></extra>\",\"legendgroup\":\"Atalanta BC\",\"marker\":{\"color\":\"#19d3f3\",\"pattern\":{\"shape\":\"\"}},\"name\":\"Atalanta BC\",\"offsetgroup\":\"Atalanta BC\",\"orientation\":\"v\",\"showlegend\":true,\"x\":[\"Serie A\",\"Serie A\",\"Serie A\",\"UEFA Champions League\",\"UEFA Champions League\",\"UEFA Champions League\"],\"xaxis\":\"x\",\"yaxis\":\"y\",\"type\":\"histogram\"},{\"alignmentgroup\":\"True\",\"bingroup\":\"x\",\"hovertemplate\":\"opponent=UC Sampdoria<br>competition=%{x}<br>count=%{y}<extra></extra>\",\"legendgroup\":\"UC Sampdoria\",\"marker\":{\"color\":\"#FF6692\",\"pattern\":{\"shape\":\"\"}},\"name\":\"UC Sampdoria\",\"offsetgroup\":\"UC Sampdoria\",\"orientation\":\"v\",\"showlegend\":true,\"x\":[\"Serie A\",\"Serie A\",\"Serie A\",\"Serie A\",\"Serie A\"],\"xaxis\":\"x\",\"yaxis\":\"y\",\"type\":\"histogram\"},{\"alignmentgroup\":\"True\",\"bingroup\":\"x\",\"hovertemplate\":\"opponent=SS Lazio<br>competition=%{x}<br>count=%{y}<extra></extra>\",\"legendgroup\":\"SS Lazio\",\"marker\":{\"color\":\"#B6E880\",\"pattern\":{\"shape\":\"\"}},\"name\":\"SS Lazio\",\"offsetgroup\":\"SS Lazio\",\"orientation\":\"v\",\"showlegend\":true,\"x\":[\"Serie A\",\"Serie A\",\"Serie A\",\"Serie A\",\"Serie A\"],\"xaxis\":\"x\",\"yaxis\":\"y\",\"type\":\"histogram\"},{\"alignmentgroup\":\"True\",\"bingroup\":\"x\",\"hovertemplate\":\"opponent=Parma Calcio 1913<br>competition=%{x}<br>count=%{y}<extra></extra>\",\"legendgroup\":\"Parma Calcio 1913\",\"marker\":{\"color\":\"#FF97FF\",\"pattern\":{\"shape\":\"\"}},\"name\":\"Parma Calcio 1913\",\"offsetgroup\":\"Parma Calcio 1913\",\"orientation\":\"v\",\"showlegend\":true,\"x\":[\"Serie A\",\"Serie A\",\"Serie A\",\"Serie A\",\"Serie A\",\"Serie A\"],\"xaxis\":\"x\",\"yaxis\":\"y\",\"type\":\"histogram\"},{\"alignmentgroup\":\"True\",\"bingroup\":\"x\",\"hovertemplate\":\"opponent=Inter Milan<br>competition=%{x}<br>count=%{y}<extra></extra>\",\"legendgroup\":\"Inter Milan\",\"marker\":{\"color\":\"#FECB52\",\"pattern\":{\"shape\":\"\"}},\"name\":\"Inter Milan\",\"offsetgroup\":\"Inter Milan\",\"orientation\":\"v\",\"showlegend\":true,\"x\":[\"Serie A\",\"Italy Cup\",\"Italy Cup\",\"Serie A\"],\"xaxis\":\"x\",\"yaxis\":\"y\",\"type\":\"histogram\"},{\"alignmentgroup\":\"True\",\"bingroup\":\"x\",\"hovertemplate\":\"opponent=SSC Napoli<br>competition=%{x}<br>count=%{y}<extra></extra>\",\"legendgroup\":\"SSC Napoli\",\"marker\":{\"color\":\"#636efa\",\"pattern\":{\"shape\":\"\"}},\"name\":\"SSC Napoli\",\"offsetgroup\":\"SSC Napoli\",\"orientation\":\"v\",\"showlegend\":true,\"x\":[\"Serie A\",\"Serie A\",\"Supercoppa Italiana\",\"Serie A\"],\"xaxis\":\"x\",\"yaxis\":\"y\",\"type\":\"histogram\"},{\"alignmentgroup\":\"True\",\"bingroup\":\"x\",\"hovertemplate\":\"opponent=Hellas Verona<br>competition=%{x}<br>count=%{y}<extra></extra>\",\"legendgroup\":\"Hellas Verona\",\"marker\":{\"color\":\"#EF553B\",\"pattern\":{\"shape\":\"\"}},\"name\":\"Hellas Verona\",\"offsetgroup\":\"Hellas Verona\",\"orientation\":\"v\",\"showlegend\":true,\"x\":[\"Serie A\",\"Serie A\",\"Serie A\"],\"xaxis\":\"x\",\"yaxis\":\"y\",\"type\":\"histogram\"},{\"alignmentgroup\":\"True\",\"bingroup\":\"x\",\"hovertemplate\":\"opponent=Bayer 04 Leverkusen<br>competition=%{x}<br>count=%{y}<extra></extra>\",\"legendgroup\":\"Bayer 04 Leverkusen\",\"marker\":{\"color\":\"#00cc96\",\"pattern\":{\"shape\":\"\"}},\"name\":\"Bayer 04 Leverkusen\",\"offsetgroup\":\"Bayer 04 Leverkusen\",\"orientation\":\"v\",\"showlegend\":true,\"x\":[\"UEFA Champions League\",\"UEFA Champions League\"],\"xaxis\":\"x\",\"yaxis\":\"y\",\"type\":\"histogram\"},{\"alignmentgroup\":\"True\",\"bingroup\":\"x\",\"hovertemplate\":\"opponent=Bologna FC 1909<br>competition=%{x}<br>count=%{y}<extra></extra>\",\"legendgroup\":\"Bologna FC 1909\",\"marker\":{\"color\":\"#ab63fa\",\"pattern\":{\"shape\":\"\"}},\"name\":\"Bologna FC 1909\",\"offsetgroup\":\"Bologna FC 1909\",\"orientation\":\"v\",\"showlegend\":true,\"x\":[\"Serie A\",\"Serie A\"],\"xaxis\":\"x\",\"yaxis\":\"y\",\"type\":\"histogram\"},{\"alignmentgroup\":\"True\",\"bingroup\":\"x\",\"hovertemplate\":\"opponent=Cagliari Calcio<br>competition=%{x}<br>count=%{y}<extra></extra>\",\"legendgroup\":\"Cagliari Calcio\",\"marker\":{\"color\":\"#FFA15A\",\"pattern\":{\"shape\":\"\"}},\"name\":\"Cagliari Calcio\",\"offsetgroup\":\"Cagliari Calcio\",\"orientation\":\"v\",\"showlegend\":true,\"x\":[\"Serie A\",\"Serie A\",\"Serie A\",\"Serie A\",\"Serie A\",\"Serie A\",\"Serie A\",\"Serie A\"],\"xaxis\":\"x\",\"yaxis\":\"y\",\"type\":\"histogram\"},{\"alignmentgroup\":\"True\",\"bingroup\":\"x\",\"hovertemplate\":\"opponent=US Lecce<br>competition=%{x}<br>count=%{y}<extra></extra>\",\"legendgroup\":\"US Lecce\",\"marker\":{\"color\":\"#19d3f3\",\"pattern\":{\"shape\":\"\"}},\"name\":\"US Lecce\",\"offsetgroup\":\"US Lecce\",\"orientation\":\"v\",\"showlegend\":true,\"x\":[\"Serie A\"],\"xaxis\":\"x\",\"yaxis\":\"y\",\"type\":\"histogram\"},{\"alignmentgroup\":\"True\",\"bingroup\":\"x\",\"hovertemplate\":\"opponent=Spezia Calcio<br>competition=%{x}<br>count=%{y}<extra></extra>\",\"legendgroup\":\"Spezia Calcio\",\"marker\":{\"color\":\"#FF6692\",\"pattern\":{\"shape\":\"\"}},\"name\":\"Spezia Calcio\",\"offsetgroup\":\"Spezia Calcio\",\"orientation\":\"v\",\"showlegend\":true,\"x\":[\"Serie A\",\"Serie A\",\"Serie A\"],\"xaxis\":\"x\",\"yaxis\":\"y\",\"type\":\"histogram\"},{\"alignmentgroup\":\"True\",\"bingroup\":\"x\",\"hovertemplate\":\"opponent=Ferencvarosi TC<br>competition=%{x}<br>count=%{y}<extra></extra>\",\"legendgroup\":\"Ferencvarosi TC\",\"marker\":{\"color\":\"#B6E880\",\"pattern\":{\"shape\":\"\"}},\"name\":\"Ferencvarosi TC\",\"offsetgroup\":\"Ferencvarosi TC\",\"orientation\":\"v\",\"showlegend\":true,\"x\":[\"UEFA Champions League\"],\"xaxis\":\"x\",\"yaxis\":\"y\",\"type\":\"histogram\"},{\"alignmentgroup\":\"True\",\"bingroup\":\"x\",\"hovertemplate\":\"opponent=FC Crotone<br>competition=%{x}<br>count=%{y}<extra></extra>\",\"legendgroup\":\"FC Crotone\",\"marker\":{\"color\":\"#FF97FF\",\"pattern\":{\"shape\":\"\"}},\"name\":\"FC Crotone\",\"offsetgroup\":\"FC Crotone\",\"orientation\":\"v\",\"showlegend\":true,\"x\":[\"Serie A\",\"Serie A\"],\"xaxis\":\"x\",\"yaxis\":\"y\",\"type\":\"histogram\"},{\"alignmentgroup\":\"True\",\"bingroup\":\"x\",\"hovertemplate\":\"opponent=BSC Young Boys<br>competition=%{x}<br>count=%{y}<extra></extra>\",\"legendgroup\":\"BSC Young Boys\",\"marker\":{\"color\":\"#FECB52\",\"pattern\":{\"shape\":\"\"}},\"name\":\"BSC Young Boys\",\"offsetgroup\":\"BSC Young Boys\",\"orientation\":\"v\",\"showlegend\":true,\"x\":[\"UEFA Champions League\"],\"xaxis\":\"x\",\"yaxis\":\"y\",\"type\":\"histogram\"},{\"alignmentgroup\":\"True\",\"bingroup\":\"x\",\"hovertemplate\":\"opponent=Norwich City<br>competition=%{x}<br>count=%{y}<extra></extra>\",\"legendgroup\":\"Norwich City\",\"marker\":{\"color\":\"#636efa\",\"pattern\":{\"shape\":\"\"}},\"name\":\"Norwich City\",\"offsetgroup\":\"Norwich City\",\"orientation\":\"v\",\"showlegend\":true,\"x\":[\"Premier League\",\"Premier League\",\"Premier League\",\"Premier League\"],\"xaxis\":\"x\",\"yaxis\":\"y\",\"type\":\"histogram\"},{\"alignmentgroup\":\"True\",\"bingroup\":\"x\",\"hovertemplate\":\"opponent=Burnley FC<br>competition=%{x}<br>count=%{y}<extra></extra>\",\"legendgroup\":\"Burnley FC\",\"marker\":{\"color\":\"#EF553B\",\"pattern\":{\"shape\":\"\"}},\"name\":\"Burnley FC\",\"offsetgroup\":\"Burnley FC\",\"orientation\":\"v\",\"showlegend\":true,\"x\":[\"Premier League\"],\"xaxis\":\"x\",\"yaxis\":\"y\",\"type\":\"histogram\"},{\"alignmentgroup\":\"True\",\"bingroup\":\"x\",\"hovertemplate\":\"opponent=Brighton & Hove Albion<br>competition=%{x}<br>count=%{y}<extra></extra>\",\"legendgroup\":\"Brighton & Hove Albion\",\"marker\":{\"color\":\"#00cc96\",\"pattern\":{\"shape\":\"\"}},\"name\":\"Brighton & Hove Albion\",\"offsetgroup\":\"Brighton & Hove Albion\",\"orientation\":\"v\",\"showlegend\":true,\"x\":[\"Premier League\"],\"xaxis\":\"x\",\"yaxis\":\"y\",\"type\":\"histogram\"},{\"alignmentgroup\":\"True\",\"bingroup\":\"x\",\"hovertemplate\":\"opponent=Brentford FC<br>competition=%{x}<br>count=%{y}<extra></extra>\",\"legendgroup\":\"Brentford FC\",\"marker\":{\"color\":\"#ab63fa\",\"pattern\":{\"shape\":\"\"}},\"name\":\"Brentford FC\",\"offsetgroup\":\"Brentford FC\",\"orientation\":\"v\",\"showlegend\":true,\"x\":[\"Premier League\"],\"xaxis\":\"x\",\"yaxis\":\"y\",\"type\":\"histogram\"},{\"alignmentgroup\":\"True\",\"bingroup\":\"x\",\"hovertemplate\":\"opponent=FC Sheriff<br>competition=%{x}<br>count=%{y}<extra></extra>\",\"legendgroup\":\"FC Sheriff\",\"marker\":{\"color\":\"#FFA15A\",\"pattern\":{\"shape\":\"\"}},\"name\":\"FC Sheriff\",\"offsetgroup\":\"FC Sheriff\",\"orientation\":\"v\",\"showlegend\":true,\"x\":[\"Europa League\",\"Europa League\"],\"xaxis\":\"x\",\"yaxis\":\"y\",\"type\":\"histogram\"},{\"alignmentgroup\":\"True\",\"bingroup\":\"x\",\"hovertemplate\":\"opponent=Al-Fateh<br>competition=%{x}<br>count=%{y}<extra></extra>\",\"legendgroup\":\"Al-Fateh\",\"marker\":{\"color\":\"#19d3f3\",\"pattern\":{\"shape\":\"\"}},\"name\":\"Al-Fateh\",\"offsetgroup\":\"Al-Fateh\",\"orientation\":\"v\",\"showlegend\":true,\"x\":[\"Saudi Pro League\"],\"xaxis\":\"x\",\"yaxis\":\"y\",\"type\":\"histogram\"},{\"alignmentgroup\":\"True\",\"bingroup\":\"x\",\"hovertemplate\":\"opponent=Al-Wehda FC<br>competition=%{x}<br>count=%{y}<extra></extra>\",\"legendgroup\":\"Al-Wehda FC\",\"marker\":{\"color\":\"#FF6692\",\"pattern\":{\"shape\":\"\"}},\"name\":\"Al-Wehda FC\",\"offsetgroup\":\"Al-Wehda FC\",\"orientation\":\"v\",\"showlegend\":true,\"x\":[\"Saudi Pro League\",\"Saudi Pro League\",\"Saudi Pro League\",\"Saudi Pro League\"],\"xaxis\":\"x\",\"yaxis\":\"y\",\"type\":\"histogram\"},{\"alignmentgroup\":\"True\",\"bingroup\":\"x\",\"hovertemplate\":\"opponent=Damac FC<br>competition=%{x}<br>count=%{y}<extra></extra>\",\"legendgroup\":\"Damac FC\",\"marker\":{\"color\":\"#B6E880\",\"pattern\":{\"shape\":\"\"}},\"name\":\"Damac FC\",\"offsetgroup\":\"Damac FC\",\"orientation\":\"v\",\"showlegend\":true,\"x\":[\"Saudi Pro League\",\"Saudi Pro League\",\"Saudi Pro League\"],\"xaxis\":\"x\",\"yaxis\":\"y\",\"type\":\"histogram\"},{\"alignmentgroup\":\"True\",\"bingroup\":\"x\",\"hovertemplate\":\"opponent=Abha Club<br>competition=%{x}<br>count=%{y}<extra></extra>\",\"legendgroup\":\"Abha Club\",\"marker\":{\"color\":\"#FF97FF\",\"pattern\":{\"shape\":\"\"}},\"name\":\"Abha Club\",\"offsetgroup\":\"Abha Club\",\"orientation\":\"v\",\"showlegend\":true,\"x\":[\"Saudi Pro League\"],\"xaxis\":\"x\",\"yaxis\":\"y\",\"type\":\"histogram\"}],                        {\"template\":{\"data\":{\"histogram2dcontour\":[{\"type\":\"histogram2dcontour\",\"colorbar\":{\"outlinewidth\":0,\"ticks\":\"\"},\"colorscale\":[[0.0,\"#0d0887\"],[0.1111111111111111,\"#46039f\"],[0.2222222222222222,\"#7201a8\"],[0.3333333333333333,\"#9c179e\"],[0.4444444444444444,\"#bd3786\"],[0.5555555555555556,\"#d8576b\"],[0.6666666666666666,\"#ed7953\"],[0.7777777777777778,\"#fb9f3a\"],[0.8888888888888888,\"#fdca26\"],[1.0,\"#f0f921\"]]}],\"choropleth\":[{\"type\":\"choropleth\",\"colorbar\":{\"outlinewidth\":0,\"ticks\":\"\"}}],\"histogram2d\":[{\"type\":\"histogram2d\",\"colorbar\":{\"outlinewidth\":0,\"ticks\":\"\"},\"colorscale\":[[0.0,\"#0d0887\"],[0.1111111111111111,\"#46039f\"],[0.2222222222222222,\"#7201a8\"],[0.3333333333333333,\"#9c179e\"],[0.4444444444444444,\"#bd3786\"],[0.5555555555555556,\"#d8576b\"],[0.6666666666666666,\"#ed7953\"],[0.7777777777777778,\"#fb9f3a\"],[0.8888888888888888,\"#fdca26\"],[1.0,\"#f0f921\"]]}],\"heatmap\":[{\"type\":\"heatmap\",\"colorbar\":{\"outlinewidth\":0,\"ticks\":\"\"},\"colorscale\":[[0.0,\"#0d0887\"],[0.1111111111111111,\"#46039f\"],[0.2222222222222222,\"#7201a8\"],[0.3333333333333333,\"#9c179e\"],[0.4444444444444444,\"#bd3786\"],[0.5555555555555556,\"#d8576b\"],[0.6666666666666666,\"#ed7953\"],[0.7777777777777778,\"#fb9f3a\"],[0.8888888888888888,\"#fdca26\"],[1.0,\"#f0f921\"]]}],\"heatmapgl\":[{\"type\":\"heatmapgl\",\"colorbar\":{\"outlinewidth\":0,\"ticks\":\"\"},\"colorscale\":[[0.0,\"#0d0887\"],[0.1111111111111111,\"#46039f\"],[0.2222222222222222,\"#7201a8\"],[0.3333333333333333,\"#9c179e\"],[0.4444444444444444,\"#bd3786\"],[0.5555555555555556,\"#d8576b\"],[0.6666666666666666,\"#ed7953\"],[0.7777777777777778,\"#fb9f3a\"],[0.8888888888888888,\"#fdca26\"],[1.0,\"#f0f921\"]]}],\"contourcarpet\":[{\"type\":\"contourcarpet\",\"colorbar\":{\"outlinewidth\":0,\"ticks\":\"\"}}],\"contour\":[{\"type\":\"contour\",\"colorbar\":{\"outlinewidth\":0,\"ticks\":\"\"},\"colorscale\":[[0.0,\"#0d0887\"],[0.1111111111111111,\"#46039f\"],[0.2222222222222222,\"#7201a8\"],[0.3333333333333333,\"#9c179e\"],[0.4444444444444444,\"#bd3786\"],[0.5555555555555556,\"#d8576b\"],[0.6666666666666666,\"#ed7953\"],[0.7777777777777778,\"#fb9f3a\"],[0.8888888888888888,\"#fdca26\"],[1.0,\"#f0f921\"]]}],\"surface\":[{\"type\":\"surface\",\"colorbar\":{\"outlinewidth\":0,\"ticks\":\"\"},\"colorscale\":[[0.0,\"#0d0887\"],[0.1111111111111111,\"#46039f\"],[0.2222222222222222,\"#7201a8\"],[0.3333333333333333,\"#9c179e\"],[0.4444444444444444,\"#bd3786\"],[0.5555555555555556,\"#d8576b\"],[0.6666666666666666,\"#ed7953\"],[0.7777777777777778,\"#fb9f3a\"],[0.8888888888888888,\"#fdca26\"],[1.0,\"#f0f921\"]]}],\"mesh3d\":[{\"type\":\"mesh3d\",\"colorbar\":{\"outlinewidth\":0,\"ticks\":\"\"}}],\"scatter\":[{\"fillpattern\":{\"fillmode\":\"overlay\",\"size\":10,\"solidity\":0.2},\"type\":\"scatter\"}],\"parcoords\":[{\"type\":\"parcoords\",\"line\":{\"colorbar\":{\"outlinewidth\":0,\"ticks\":\"\"}}}],\"scatterpolargl\":[{\"type\":\"scatterpolargl\",\"marker\":{\"colorbar\":{\"outlinewidth\":0,\"ticks\":\"\"}}}],\"bar\":[{\"error_x\":{\"color\":\"#2a3f5f\"},\"error_y\":{\"color\":\"#2a3f5f\"},\"marker\":{\"line\":{\"color\":\"#E5ECF6\",\"width\":0.5},\"pattern\":{\"fillmode\":\"overlay\",\"size\":10,\"solidity\":0.2}},\"type\":\"bar\"}],\"scattergeo\":[{\"type\":\"scattergeo\",\"marker\":{\"colorbar\":{\"outlinewidth\":0,\"ticks\":\"\"}}}],\"scatterpolar\":[{\"type\":\"scatterpolar\",\"marker\":{\"colorbar\":{\"outlinewidth\":0,\"ticks\":\"\"}}}],\"histogram\":[{\"marker\":{\"pattern\":{\"fillmode\":\"overlay\",\"size\":10,\"solidity\":0.2}},\"type\":\"histogram\"}],\"scattergl\":[{\"type\":\"scattergl\",\"marker\":{\"colorbar\":{\"outlinewidth\":0,\"ticks\":\"\"}}}],\"scatter3d\":[{\"type\":\"scatter3d\",\"line\":{\"colorbar\":{\"outlinewidth\":0,\"ticks\":\"\"}},\"marker\":{\"colorbar\":{\"outlinewidth\":0,\"ticks\":\"\"}}}],\"scattermapbox\":[{\"type\":\"scattermapbox\",\"marker\":{\"colorbar\":{\"outlinewidth\":0,\"ticks\":\"\"}}}],\"scatterternary\":[{\"type\":\"scatterternary\",\"marker\":{\"colorbar\":{\"outlinewidth\":0,\"ticks\":\"\"}}}],\"scattercarpet\":[{\"type\":\"scattercarpet\",\"marker\":{\"colorbar\":{\"outlinewidth\":0,\"ticks\":\"\"}}}],\"carpet\":[{\"aaxis\":{\"endlinecolor\":\"#2a3f5f\",\"gridcolor\":\"white\",\"linecolor\":\"white\",\"minorgridcolor\":\"white\",\"startlinecolor\":\"#2a3f5f\"},\"baxis\":{\"endlinecolor\":\"#2a3f5f\",\"gridcolor\":\"white\",\"linecolor\":\"white\",\"minorgridcolor\":\"white\",\"startlinecolor\":\"#2a3f5f\"},\"type\":\"carpet\"}],\"table\":[{\"cells\":{\"fill\":{\"color\":\"#EBF0F8\"},\"line\":{\"color\":\"white\"}},\"header\":{\"fill\":{\"color\":\"#C8D4E3\"},\"line\":{\"color\":\"white\"}},\"type\":\"table\"}],\"barpolar\":[{\"marker\":{\"line\":{\"color\":\"#E5ECF6\",\"width\":0.5},\"pattern\":{\"fillmode\":\"overlay\",\"size\":10,\"solidity\":0.2}},\"type\":\"barpolar\"}],\"pie\":[{\"automargin\":true,\"type\":\"pie\"}]},\"layout\":{\"autotypenumbers\":\"strict\",\"colorway\":[\"#636efa\",\"#EF553B\",\"#00cc96\",\"#ab63fa\",\"#FFA15A\",\"#19d3f3\",\"#FF6692\",\"#B6E880\",\"#FF97FF\",\"#FECB52\"],\"font\":{\"color\":\"#2a3f5f\"},\"hovermode\":\"closest\",\"hoverlabel\":{\"align\":\"left\"},\"paper_bgcolor\":\"white\",\"plot_bgcolor\":\"#E5ECF6\",\"polar\":{\"bgcolor\":\"#E5ECF6\",\"angularaxis\":{\"gridcolor\":\"white\",\"linecolor\":\"white\",\"ticks\":\"\"},\"radialaxis\":{\"gridcolor\":\"white\",\"linecolor\":\"white\",\"ticks\":\"\"}},\"ternary\":{\"bgcolor\":\"#E5ECF6\",\"aaxis\":{\"gridcolor\":\"white\",\"linecolor\":\"white\",\"ticks\":\"\"},\"baxis\":{\"gridcolor\":\"white\",\"linecolor\":\"white\",\"ticks\":\"\"},\"caxis\":{\"gridcolor\":\"white\",\"linecolor\":\"white\",\"ticks\":\"\"}},\"coloraxis\":{\"colorbar\":{\"outlinewidth\":0,\"ticks\":\"\"}},\"colorscale\":{\"sequential\":[[0.0,\"#0d0887\"],[0.1111111111111111,\"#46039f\"],[0.2222222222222222,\"#7201a8\"],[0.3333333333333333,\"#9c179e\"],[0.4444444444444444,\"#bd3786\"],[0.5555555555555556,\"#d8576b\"],[0.6666666666666666,\"#ed7953\"],[0.7777777777777778,\"#fb9f3a\"],[0.8888888888888888,\"#fdca26\"],[1.0,\"#f0f921\"]],\"sequentialminus\":[[0.0,\"#0d0887\"],[0.1111111111111111,\"#46039f\"],[0.2222222222222222,\"#7201a8\"],[0.3333333333333333,\"#9c179e\"],[0.4444444444444444,\"#bd3786\"],[0.5555555555555556,\"#d8576b\"],[0.6666666666666666,\"#ed7953\"],[0.7777777777777778,\"#fb9f3a\"],[0.8888888888888888,\"#fdca26\"],[1.0,\"#f0f921\"]],\"diverging\":[[0,\"#8e0152\"],[0.1,\"#c51b7d\"],[0.2,\"#de77ae\"],[0.3,\"#f1b6da\"],[0.4,\"#fde0ef\"],[0.5,\"#f7f7f7\"],[0.6,\"#e6f5d0\"],[0.7,\"#b8e186\"],[0.8,\"#7fbc41\"],[0.9,\"#4d9221\"],[1,\"#276419\"]]},\"xaxis\":{\"gridcolor\":\"white\",\"linecolor\":\"white\",\"ticks\":\"\",\"title\":{\"standoff\":15},\"zerolinecolor\":\"white\",\"automargin\":true,\"zerolinewidth\":2},\"yaxis\":{\"gridcolor\":\"white\",\"linecolor\":\"white\",\"ticks\":\"\",\"title\":{\"standoff\":15},\"zerolinecolor\":\"white\",\"automargin\":true,\"zerolinewidth\":2},\"scene\":{\"xaxis\":{\"backgroundcolor\":\"#E5ECF6\",\"gridcolor\":\"white\",\"linecolor\":\"white\",\"showbackground\":true,\"ticks\":\"\",\"zerolinecolor\":\"white\",\"gridwidth\":2},\"yaxis\":{\"backgroundcolor\":\"#E5ECF6\",\"gridcolor\":\"white\",\"linecolor\":\"white\",\"showbackground\":true,\"ticks\":\"\",\"zerolinecolor\":\"white\",\"gridwidth\":2},\"zaxis\":{\"backgroundcolor\":\"#E5ECF6\",\"gridcolor\":\"white\",\"linecolor\":\"white\",\"showbackground\":true,\"ticks\":\"\",\"zerolinecolor\":\"white\",\"gridwidth\":2}},\"shapedefaults\":{\"line\":{\"color\":\"#2a3f5f\"}},\"annotationdefaults\":{\"arrowcolor\":\"#2a3f5f\",\"arrowhead\":0,\"arrowwidth\":1},\"geo\":{\"bgcolor\":\"white\",\"landcolor\":\"#E5ECF6\",\"subunitcolor\":\"white\",\"showland\":true,\"showlakes\":true,\"lakecolor\":\"white\"},\"title\":{\"x\":0.05},\"mapbox\":{\"style\":\"light\"}}},\"xaxis\":{\"anchor\":\"y\",\"domain\":[0.0,1.0],\"title\":{\"text\":\"competition\"}},\"yaxis\":{\"anchor\":\"x\",\"domain\":[0.0,1.0],\"title\":{\"text\":\"count\"}},\"legend\":{\"title\":{\"text\":\"opponent\"},\"tracegroupgap\":0},\"title\":{\"text\":\"Cristiano Ronaldo vs opponents\"},\"barmode\":\"relative\",\"height\":1000},                        {\"responsive\": true}                    ).then(function(){\n",
       "                            \n",
       "var gd = document.getElementById('1740c54e-9f4a-4d5c-9130-125bbad21abb');\n",
       "var x = new MutationObserver(function (mutations, observer) {{\n",
       "        var display = window.getComputedStyle(gd).display;\n",
       "        if (!display || display === 'none') {{\n",
       "            console.log([gd, 'removed!']);\n",
       "            Plotly.purge(gd);\n",
       "            observer.disconnect();\n",
       "        }}\n",
       "}});\n",
       "\n",
       "// Listen for the removal of the full notebook cells\n",
       "var notebookContainer = gd.closest('#notebook-container');\n",
       "if (notebookContainer) {{\n",
       "    x.observe(notebookContainer, {childList: true});\n",
       "}}\n",
       "\n",
       "// Listen for the clearing of the current output cell\n",
       "var outputEl = gd.closest('.output');\n",
       "if (outputEl) {{\n",
       "    x.observe(outputEl, {childList: true});\n",
       "}}\n",
       "\n",
       "                        })                };                });            </script>        </div>"
      ]
     },
     "metadata": {},
     "output_type": "display_data"
    }
   ],
   "source": [
    "px.histogram(cr,x='competition',\n",
    "             title=\"Cristiano Ronaldo vs opponents\",\n",
    "             height=1000,\n",
    "             color='opponent',\n",
    "             hover_name='opponent',\n",
    "             hover_data=['opponent'])"
   ]
  },
  {
   "cell_type": "code",
   "execution_count": 22,
   "id": "1582b727",
   "metadata": {
    "execution": {
     "iopub.execute_input": "2023-04-01T18:06:02.657474Z",
     "iopub.status.busy": "2023-04-01T18:06:02.657058Z",
     "iopub.status.idle": "2023-04-01T18:06:03.118168Z",
     "shell.execute_reply": "2023-04-01T18:06:03.116593Z"
    },
    "papermill": {
     "duration": 0.475713,
     "end_time": "2023-04-01T18:06:03.120971",
     "exception": false,
     "start_time": "2023-04-01T18:06:02.645258",
     "status": "completed"
    },
    "tags": []
   },
   "outputs": [
    {
     "data": {
      "text/html": [
       "<div>                            <div id=\"479ec827-ec64-409e-8489-532276ad8742\" class=\"plotly-graph-div\" style=\"height:1000px; width:100%;\"></div>            <script type=\"text/javascript\">                require([\"plotly\"], function(Plotly) {                    window.PLOTLYENV=window.PLOTLYENV || {};                                    if (document.getElementById(\"479ec827-ec64-409e-8489-532276ad8742\")) {                    Plotly.newPlot(                        \"479ec827-ec64-409e-8489-532276ad8742\",                        [{\"alignmentgroup\":\"True\",\"bingroup\":\"x\",\"hovertemplate\":\"opponent=Albacete Balompie<br>competition=%{x}<br>count=%{y}<extra></extra>\",\"legendgroup\":\"Albacete Balompie\",\"marker\":{\"color\":\"#636efa\",\"pattern\":{\"shape\":\"\"}},\"name\":\"Albacete Balompie\",\"offsetgroup\":\"Albacete Balompie\",\"orientation\":\"v\",\"showlegend\":true,\"x\":[\"LaLiga\"],\"xaxis\":\"x\",\"yaxis\":\"y\",\"type\":\"histogram\"},{\"alignmentgroup\":\"True\",\"bingroup\":\"x\",\"hovertemplate\":\"opponent=Panathinaikos Athens<br>competition=%{x}<br>count=%{y}<extra></extra>\",\"legendgroup\":\"Panathinaikos Athens\",\"marker\":{\"color\":\"#EF553B\",\"pattern\":{\"shape\":\"\"}},\"name\":\"Panathinaikos Athens\",\"offsetgroup\":\"Panathinaikos Athens\",\"orientation\":\"v\",\"showlegend\":true,\"x\":[\"UEFA Champions League\",\"UEFA Champions League\",\"UEFA Champions League\",\"UEFA Champions League\"],\"xaxis\":\"x\",\"yaxis\":\"y\",\"type\":\"histogram\"},{\"alignmentgroup\":\"True\",\"bingroup\":\"x\",\"hovertemplate\":\"opponent=Racing Santander<br>competition=%{x}<br>count=%{y}<extra></extra>\",\"legendgroup\":\"Racing Santander\",\"marker\":{\"color\":\"#00cc96\",\"pattern\":{\"shape\":\"\"}},\"name\":\"Racing Santander\",\"offsetgroup\":\"Racing Santander\",\"orientation\":\"v\",\"showlegend\":true,\"x\":[\"LaLiga\",\"LaLiga\",\"LaLiga\",\"LaLiga\",\"LaLiga\",\"LaLiga\",\"LaLiga\",\"LaLiga\",\"LaLiga\",\"LaLiga\",\"LaLiga\",\"LaLiga\"],\"xaxis\":\"x\",\"yaxis\":\"y\",\"type\":\"histogram\"},{\"alignmentgroup\":\"True\",\"bingroup\":\"x\",\"hovertemplate\":\"opponent=Athletic Bilbao<br>competition=%{x}<br>count=%{y}<extra></extra>\",\"legendgroup\":\"Athletic Bilbao\",\"marker\":{\"color\":\"#ab63fa\",\"pattern\":{\"shape\":\"\"}},\"name\":\"Athletic Bilbao\",\"offsetgroup\":\"Athletic Bilbao\",\"orientation\":\"v\",\"showlegend\":true,\"x\":[\"LaLiga\",\"LaLiga\",\"Copa del Rey\",\"Supercopa\",\"Supercopa\",\"LaLiga\",\"LaLiga\",\"LaLiga\",\"LaLiga\",\"Copa del Rey\",\"LaLiga\",\"LaLiga\",\"LaLiga\",\"LaLiga\",\"LaLiga\",\"Copa del Rey\",\"Copa del Rey\",\"Supercopa\",\"LaLiga\",\"Copa del Rey\",\"Copa del Rey\",\"LaLiga\",\"LaLiga\",\"LaLiga\",\"LaLiga\",\"LaLiga\",\"LaLiga\",\"Copa del Rey\",\"Copa del Rey\"],\"xaxis\":\"x\",\"yaxis\":\"y\",\"type\":\"histogram\"},{\"alignmentgroup\":\"True\",\"bingroup\":\"x\",\"hovertemplate\":\"opponent=Deportivo Alaves<br>competition=%{x}<br>count=%{y}<extra></extra>\",\"legendgroup\":\"Deportivo Alaves\",\"marker\":{\"color\":\"#FFA15A\",\"pattern\":{\"shape\":\"\"}},\"name\":\"Deportivo Alaves\",\"offsetgroup\":\"Deportivo Alaves\",\"orientation\":\"v\",\"showlegend\":true,\"x\":[\"LaLiga\",\"LaLiga\",\"Copa del Rey\",\"LaLiga\",\"LaLiga\",\"LaLiga\",\"LaLiga\",\"LaLiga\",\"LaLiga\",\"LaLiga\",\"LaLiga\",\"LaLiga\",\"LaLiga\"],\"xaxis\":\"x\",\"yaxis\":\"y\",\"type\":\"histogram\"},{\"alignmentgroup\":\"True\",\"bingroup\":\"x\",\"hovertemplate\":\"opponent=RCD Mallorca<br>competition=%{x}<br>count=%{y}<extra></extra>\",\"legendgroup\":\"RCD Mallorca\",\"marker\":{\"color\":\"#19d3f3\",\"pattern\":{\"shape\":\"\"}},\"name\":\"RCD Mallorca\",\"offsetgroup\":\"RCD Mallorca\",\"orientation\":\"v\",\"showlegend\":true,\"x\":[\"LaLiga\",\"LaLiga\",\"Copa del Rey\",\"LaLiga\",\"LaLiga\",\"LaLiga\",\"LaLiga\",\"LaLiga\",\"LaLiga\",\"LaLiga\",\"LaLiga\",\"LaLiga\",\"LaLiga\",\"LaLiga\",\"LaLiga\",\"LaLiga\"],\"xaxis\":\"x\",\"yaxis\":\"y\",\"type\":\"histogram\"},{\"alignmentgroup\":\"True\",\"bingroup\":\"x\",\"hovertemplate\":\"opponent=Real Zaragoza<br>competition=%{x}<br>count=%{y}<extra></extra>\",\"legendgroup\":\"Real Zaragoza\",\"marker\":{\"color\":\"#FF6692\",\"pattern\":{\"shape\":\"\"}},\"name\":\"Real Zaragoza\",\"offsetgroup\":\"Real Zaragoza\",\"orientation\":\"v\",\"showlegend\":true,\"x\":[\"Copa del Rey\",\"LaLiga\",\"LaLiga\",\"LaLiga\",\"LaLiga\",\"LaLiga\",\"LaLiga\",\"LaLiga\",\"LaLiga\",\"LaLiga\",\"LaLiga\",\"LaLiga\",\"LaLiga\",\"LaLiga\"],\"xaxis\":\"x\",\"yaxis\":\"y\",\"type\":\"histogram\"},{\"alignmentgroup\":\"True\",\"bingroup\":\"x\",\"hovertemplate\":\"opponent=Real Betis Balompie<br>competition=%{x}<br>count=%{y}<extra></extra>\",\"legendgroup\":\"Real Betis Balompie\",\"marker\":{\"color\":\"#B6E880\",\"pattern\":{\"shape\":\"\"}},\"name\":\"Real Betis Balompie\",\"offsetgroup\":\"Real Betis Balompie\",\"orientation\":\"v\",\"showlegend\":true,\"x\":[\"LaLiga\",\"Copa del Rey\",\"Copa del Rey\",\"Copa del Rey\",\"Copa del Rey\",\"LaLiga\",\"LaLiga\",\"LaLiga\",\"LaLiga\",\"LaLiga\",\"LaLiga\",\"LaLiga\",\"LaLiga\",\"LaLiga\",\"LaLiga\",\"LaLiga\",\"LaLiga\",\"LaLiga\",\"LaLiga\",\"LaLiga\",\"LaLiga\",\"LaLiga\",\"LaLiga\",\"LaLiga\",\"LaLiga\",\"LaLiga\"],\"xaxis\":\"x\",\"yaxis\":\"y\",\"type\":\"histogram\"},{\"alignmentgroup\":\"True\",\"bingroup\":\"x\",\"hovertemplate\":\"opponent=Celta de Vigo<br>competition=%{x}<br>count=%{y}<extra></extra>\",\"legendgroup\":\"Celta de Vigo\",\"marker\":{\"color\":\"#FF97FF\",\"pattern\":{\"shape\":\"\"}},\"name\":\"Celta de Vigo\",\"offsetgroup\":\"Celta de Vigo\",\"orientation\":\"v\",\"showlegend\":true,\"x\":[\"LaLiga\",\"LaLiga\",\"LaLiga\",\"LaLiga\",\"LaLiga\",\"LaLiga\",\"LaLiga\",\"Copa del Rey\",\"Copa del Rey\",\"LaLiga\",\"LaLiga\",\"LaLiga\",\"LaLiga\",\"LaLiga\"],\"xaxis\":\"x\",\"yaxis\":\"y\",\"type\":\"histogram\"},{\"alignmentgroup\":\"True\",\"bingroup\":\"x\",\"hovertemplate\":\"opponent=CA Osasuna<br>competition=%{x}<br>count=%{y}<extra></extra>\",\"legendgroup\":\"CA Osasuna\",\"marker\":{\"color\":\"#FECB52\",\"pattern\":{\"shape\":\"\"}},\"name\":\"CA Osasuna\",\"offsetgroup\":\"CA Osasuna\",\"orientation\":\"v\",\"showlegend\":true,\"x\":[\"LaLiga\",\"LaLiga\",\"LaLiga\",\"LaLiga\",\"LaLiga\",\"LaLiga\",\"LaLiga\",\"LaLiga\",\"Copa del Rey\",\"Copa del Rey\",\"LaLiga\",\"LaLiga\",\"LaLiga\",\"LaLiga\",\"LaLiga\",\"LaLiga\",\"LaLiga\",\"LaLiga\",\"LaLiga\",\"LaLiga\",\"LaLiga\",\"LaLiga\",\"LaLiga\",\"LaLiga\",\"LaLiga\"],\"xaxis\":\"x\",\"yaxis\":\"y\",\"type\":\"histogram\"},{\"alignmentgroup\":\"True\",\"bingroup\":\"x\",\"hovertemplate\":\"opponent=SV Werder Bremen<br>competition=%{x}<br>count=%{y}<extra></extra>\",\"legendgroup\":\"SV Werder Bremen\",\"marker\":{\"color\":\"#636efa\",\"pattern\":{\"shape\":\"\"}},\"name\":\"SV Werder Bremen\",\"offsetgroup\":\"SV Werder Bremen\",\"orientation\":\"v\",\"showlegend\":true,\"x\":[\"UEFA Champions League\"],\"xaxis\":\"x\",\"yaxis\":\"y\",\"type\":\"histogram\"},{\"alignmentgroup\":\"True\",\"bingroup\":\"x\",\"hovertemplate\":\"opponent=Sevilla FC<br>competition=%{x}<br>count=%{y}<extra></extra>\",\"legendgroup\":\"Sevilla FC\",\"marker\":{\"color\":\"#EF553B\",\"pattern\":{\"shape\":\"\"}},\"name\":\"Sevilla FC\",\"offsetgroup\":\"Sevilla FC\",\"orientation\":\"v\",\"showlegend\":true,\"x\":[\"LaLiga\",\"LaLiga\",\"LaLiga\",\"LaLiga\",\"LaLiga\",\"LaLiga\",\"LaLiga\",\"LaLiga\",\"Supercopa\",\"Supercopa\",\"Supercopa\",\"LaLiga\",\"LaLiga\",\"LaLiga\",\"LaLiga\",\"LaLiga\",\"LaLiga\",\"LaLiga\",\"LaLiga\",\"LaLiga\",\"LaLiga\",\"LaLiga\",\"UEFA Super Cup\",\"UEFA Super Cup\",\"LaLiga\",\"Supercopa\",\"LaLiga\",\"LaLiga\",\"LaLiga\",\"LaLiga\",\"Copa del Rey\",\"LaLiga\",\"Copa del Rey\",\"LaLiga\",\"LaLiga\",\"LaLiga\",\"LaLiga\",\"LaLiga\"],\"xaxis\":\"x\",\"yaxis\":\"y\",\"type\":\"histogram\"},{\"alignmentgroup\":\"True\",\"bingroup\":\"x\",\"hovertemplate\":\"opponent=Real Madrid<br>competition=%{x}<br>count=%{y}<extra></extra>\",\"legendgroup\":\"Real Madrid\",\"marker\":{\"color\":\"#00cc96\",\"pattern\":{\"shape\":\"\"}},\"name\":\"Real Madrid\",\"offsetgroup\":\"Real Madrid\",\"orientation\":\"v\",\"showlegend\":true,\"x\":[\"LaLiga\",\"LaLiga\",\"LaLiga\",\"LaLiga\",\"LaLiga\",\"LaLiga\",\"LaLiga\",\"LaLiga\",\"UEFA Champions League\",\"UEFA Champions League\",\"Supercopa\",\"Supercopa\",\"Supercopa\",\"Supercopa\",\"Supercopa\",\"LaLiga\",\"LaLiga\",\"LaLiga\",\"LaLiga\",\"LaLiga\",\"LaLiga\",\"LaLiga\",\"LaLiga\",\"Supercopa\",\"LaLiga\",\"LaLiga\"],\"xaxis\":\"x\",\"yaxis\":\"y\",\"type\":\"histogram\"},{\"alignmentgroup\":\"True\",\"bingroup\":\"x\",\"hovertemplate\":\"opponent=Recreativo Huelva<br>competition=%{x}<br>count=%{y}<extra></extra>\",\"legendgroup\":\"Recreativo Huelva\",\"marker\":{\"color\":\"#ab63fa\",\"pattern\":{\"shape\":\"\"}},\"name\":\"Recreativo Huelva\",\"offsetgroup\":\"Recreativo Huelva\",\"orientation\":\"v\",\"showlegend\":true,\"x\":[\"LaLiga\",\"LaLiga\",\"LaLiga\"],\"xaxis\":\"x\",\"yaxis\":\"y\",\"type\":\"histogram\"},{\"alignmentgroup\":\"True\",\"bingroup\":\"x\",\"hovertemplate\":\"opponent=Deportivo de La Coruaa<br>competition=%{x}<br>count=%{y}<extra></extra>\",\"legendgroup\":\"Deportivo de La Coruaa\",\"marker\":{\"color\":\"#FFA15A\",\"pattern\":{\"shape\":\"\"}},\"name\":\"Deportivo de La Coruaa\",\"offsetgroup\":\"Deportivo de La Coruaa\",\"orientation\":\"v\",\"showlegend\":true,\"x\":[\"LaLiga\",\"LaLiga\",\"LaLiga\",\"LaLiga\",\"LaLiga\",\"LaLiga\",\"LaLiga\",\"LaLiga\",\"LaLiga\",\"LaLiga\",\"LaLiga\",\"LaLiga\",\"LaLiga\",\"LaLiga\",\"LaLiga\",\"LaLiga\",\"LaLiga\",\"LaLiga\",\"LaLiga\",\"LaLiga\"],\"xaxis\":\"x\",\"yaxis\":\"y\",\"type\":\"histogram\"},{\"alignmentgroup\":\"True\",\"bingroup\":\"x\",\"hovertemplate\":\"opponent=Getafe CF<br>competition=%{x}<br>count=%{y}<extra></extra>\",\"legendgroup\":\"Getafe CF\",\"marker\":{\"color\":\"#19d3f3\",\"pattern\":{\"shape\":\"\"}},\"name\":\"Getafe CF\",\"offsetgroup\":\"Getafe CF\",\"orientation\":\"v\",\"showlegend\":true,\"x\":[\"Copa del Rey\",\"Copa del Rey\",\"LaLiga\",\"LaLiga\",\"LaLiga\",\"LaLiga\",\"LaLiga\",\"LaLiga\",\"LaLiga\",\"LaLiga\",\"Copa del Rey\",\"Copa del Rey\",\"Copa del Rey\",\"Copa del Rey\",\"LaLiga\",\"LaLiga\",\"LaLiga\",\"LaLiga\",\"LaLiga\",\"LaLiga\",\"LaLiga\"],\"xaxis\":\"x\",\"yaxis\":\"y\",\"type\":\"histogram\"},{\"alignmentgroup\":\"True\",\"bingroup\":\"x\",\"hovertemplate\":\"opponent=Atletico de Madrid<br>competition=%{x}<br>count=%{y}<extra></extra>\",\"legendgroup\":\"Atletico de Madrid\",\"marker\":{\"color\":\"#FF6692\",\"pattern\":{\"shape\":\"\"}},\"name\":\"Atletico de Madrid\",\"offsetgroup\":\"Atletico de Madrid\",\"orientation\":\"v\",\"showlegend\":true,\"x\":[\"LaLiga\",\"LaLiga\",\"LaLiga\",\"LaLiga\",\"Copa del Rey\",\"Copa del Rey\",\"Copa del Rey\",\"LaLiga\",\"LaLiga\",\"LaLiga\",\"LaLiga\",\"LaLiga\",\"LaLiga\",\"LaLiga\",\"LaLiga\",\"LaLiga\",\"LaLiga\",\"LaLiga\",\"LaLiga\",\"LaLiga\",\"LaLiga\",\"Copa del Rey\",\"LaLiga\",\"LaLiga\",\"LaLiga\",\"Copa del Rey\",\"LaLiga\",\"LaLiga\",\"LaLiga\",\"LaLiga\",\"Supercopa\",\"LaLiga\"],\"xaxis\":\"x\",\"yaxis\":\"y\",\"type\":\"histogram\"},{\"alignmentgroup\":\"True\",\"bingroup\":\"x\",\"hovertemplate\":\"opponent=RCD Espanyol Barcelona<br>competition=%{x}<br>count=%{y}<extra></extra>\",\"legendgroup\":\"RCD Espanyol Barcelona\",\"marker\":{\"color\":\"#B6E880\",\"pattern\":{\"shape\":\"\"}},\"name\":\"RCD Espanyol Barcelona\",\"offsetgroup\":\"RCD Espanyol Barcelona\",\"orientation\":\"v\",\"showlegend\":true,\"x\":[\"LaLiga\",\"LaLiga\",\"LaLiga\",\"LaLiga\",\"LaLiga\",\"LaLiga\",\"LaLiga\",\"LaLiga\",\"LaLiga\",\"LaLiga\",\"LaLiga\",\"LaLiga\",\"LaLiga\",\"Copa del Rey\",\"Copa del Rey\",\"LaLiga\",\"LaLiga\",\"LaLiga\",\"LaLiga\",\"LaLiga\",\"Copa del Rey\",\"LaLiga\",\"LaLiga\",\"LaLiga\",\"LaLiga\"],\"xaxis\":\"x\",\"yaxis\":\"y\",\"type\":\"histogram\"},{\"alignmentgroup\":\"True\",\"bingroup\":\"x\",\"hovertemplate\":\"opponent=Gimnastic de Tarragona<br>competition=%{x}<br>count=%{y}<extra></extra>\",\"legendgroup\":\"Gimnastic de Tarragona\",\"marker\":{\"color\":\"#FF97FF\",\"pattern\":{\"shape\":\"\"}},\"name\":\"Gimnastic de Tarragona\",\"offsetgroup\":\"Gimnastic de Tarragona\",\"orientation\":\"v\",\"showlegend\":true,\"x\":[\"LaLiga\",\"LaLiga\"],\"xaxis\":\"x\",\"yaxis\":\"y\",\"type\":\"histogram\"},{\"alignmentgroup\":\"True\",\"bingroup\":\"x\",\"hovertemplate\":\"opponent=Olympique Lyon<br>competition=%{x}<br>count=%{y}<extra></extra>\",\"legendgroup\":\"Olympique Lyon\",\"marker\":{\"color\":\"#FECB52\",\"pattern\":{\"shape\":\"\"}},\"name\":\"Olympique Lyon\",\"offsetgroup\":\"Olympique Lyon\",\"orientation\":\"v\",\"showlegend\":true,\"x\":[\"UEFA Champions League\",\"UEFA Champions League\",\"UEFA Champions League\",\"UEFA Champions League\",\"UEFA Champions League\",\"Ligue 1\"],\"xaxis\":\"x\",\"yaxis\":\"y\",\"type\":\"histogram\"},{\"alignmentgroup\":\"True\",\"bingroup\":\"x\",\"hovertemplate\":\"opponent=Levante UD<br>competition=%{x}<br>count=%{y}<extra></extra>\",\"legendgroup\":\"Levante UD\",\"marker\":{\"color\":\"#636efa\",\"pattern\":{\"shape\":\"\"}},\"name\":\"Levante UD\",\"offsetgroup\":\"Levante UD\",\"orientation\":\"v\",\"showlegend\":true,\"x\":[\"LaLiga\",\"LaLiga\",\"LaLiga\",\"LaLiga\",\"LaLiga\",\"LaLiga\",\"LaLiga\",\"LaLiga\",\"LaLiga\",\"LaLiga\",\"LaLiga\",\"LaLiga\",\"LaLiga\",\"LaLiga\",\"LaLiga\",\"LaLiga\",\"LaLiga\",\"LaLiga\",\"LaLiga\",\"Copa del Rey\",\"LaLiga\",\"LaLiga\",\"LaLiga\",\"LaLiga\"],\"xaxis\":\"x\",\"yaxis\":\"y\",\"type\":\"histogram\"},{\"alignmentgroup\":\"True\",\"bingroup\":\"x\",\"hovertemplate\":\"opponent=VfB Stuttgart<br>competition=%{x}<br>count=%{y}<extra></extra>\",\"legendgroup\":\"VfB Stuttgart\",\"marker\":{\"color\":\"#EF553B\",\"pattern\":{\"shape\":\"\"}},\"name\":\"VfB Stuttgart\",\"offsetgroup\":\"VfB Stuttgart\",\"orientation\":\"v\",\"showlegend\":true,\"x\":[\"UEFA Champions League\",\"UEFA Champions League\",\"UEFA Champions League\"],\"xaxis\":\"x\",\"yaxis\":\"y\",\"type\":\"histogram\"},{\"alignmentgroup\":\"True\",\"bingroup\":\"x\",\"hovertemplate\":\"opponent=UD Almera<br>competition=%{x}<br>count=%{y}<extra></extra>\",\"legendgroup\":\"UD Almera\",\"marker\":{\"color\":\"#00cc96\",\"pattern\":{\"shape\":\"\"}},\"name\":\"UD Almera\",\"offsetgroup\":\"UD Almera\",\"orientation\":\"v\",\"showlegend\":true,\"x\":[\"LaLiga\",\"LaLiga\",\"LaLiga\",\"LaLiga\",\"LaLiga\",\"LaLiga\",\"Copa del Rey\",\"Copa del Rey\",\"LaLiga\",\"LaLiga\",\"LaLiga\",\"LaLiga\",\"LaLiga\"],\"xaxis\":\"x\",\"yaxis\":\"y\",\"type\":\"histogram\"},{\"alignmentgroup\":\"True\",\"bingroup\":\"x\",\"hovertemplate\":\"opponent=Rangers FC<br>competition=%{x}<br>count=%{y}<extra></extra>\",\"legendgroup\":\"Rangers FC\",\"marker\":{\"color\":\"#ab63fa\",\"pattern\":{\"shape\":\"\"}},\"name\":\"Rangers FC\",\"offsetgroup\":\"Rangers FC\",\"orientation\":\"v\",\"showlegend\":true,\"x\":[\"UEFA Champions League\"],\"xaxis\":\"x\",\"yaxis\":\"y\",\"type\":\"histogram\"},{\"alignmentgroup\":\"True\",\"bingroup\":\"x\",\"hovertemplate\":\"opponent=Celtic FC<br>competition=%{x}<br>count=%{y}<extra></extra>\",\"legendgroup\":\"Celtic FC\",\"marker\":{\"color\":\"#FFA15A\",\"pattern\":{\"shape\":\"\"}},\"name\":\"Celtic FC\",\"offsetgroup\":\"Celtic FC\",\"orientation\":\"v\",\"showlegend\":true,\"x\":[\"UEFA Champions League\",\"UEFA Champions League\",\"UEFA Champions League\",\"UEFA Champions League\",\"UEFA Champions League\",\"UEFA Champions League\",\"UEFA Champions League\",\"UEFA Champions League\"],\"xaxis\":\"x\",\"yaxis\":\"y\",\"type\":\"histogram\"},{\"alignmentgroup\":\"True\",\"bingroup\":\"x\",\"hovertemplate\":\"opponent=Valencia CF<br>competition=%{x}<br>count=%{y}<extra></extra>\",\"legendgroup\":\"Valencia CF\",\"marker\":{\"color\":\"#19d3f3\",\"pattern\":{\"shape\":\"\"}},\"name\":\"Valencia CF\",\"offsetgroup\":\"Valencia CF\",\"orientation\":\"v\",\"showlegend\":true,\"x\":[\"LaLiga\",\"LaLiga\",\"LaLiga\",\"LaLiga\",\"LaLiga\",\"LaLiga\",\"LaLiga\",\"LaLiga\",\"LaLiga\",\"LaLiga\",\"LaLiga\",\"LaLiga\",\"LaLiga\",\"LaLiga\",\"LaLiga\",\"LaLiga\",\"Copa del Rey\",\"Copa del Rey\",\"Copa del Rey\",\"LaLiga\",\"LaLiga\",\"LaLiga\",\"LaLiga\",\"LaLiga\",\"LaLiga\",\"LaLiga\",\"LaLiga\",\"Copa del Rey\",\"LaLiga\",\"LaLiga\",\"LaLiga\"],\"xaxis\":\"x\",\"yaxis\":\"y\",\"type\":\"histogram\"},{\"alignmentgroup\":\"True\",\"bingroup\":\"x\",\"hovertemplate\":\"opponent=Sporting GijÃ³n<br>competition=%{x}<br>count=%{y}<extra></extra>\",\"legendgroup\":\"Sporting GijÃ³n\",\"marker\":{\"color\":\"#FF6692\",\"pattern\":{\"shape\":\"\"}},\"name\":\"Sporting GijÃ³n\",\"offsetgroup\":\"Sporting GijÃ³n\",\"orientation\":\"v\",\"showlegend\":true,\"x\":[\"LaLiga\",\"LaLiga\",\"LaLiga\",\"LaLiga\",\"LaLiga\",\"LaLiga\"],\"xaxis\":\"x\",\"yaxis\":\"y\",\"type\":\"histogram\"},{\"alignmentgroup\":\"True\",\"bingroup\":\"x\",\"hovertemplate\":\"opponent=Shakhtar Donetsk<br>competition=%{x}<br>count=%{y}<extra></extra>\",\"legendgroup\":\"Shakhtar Donetsk\",\"marker\":{\"color\":\"#B6E880\",\"pattern\":{\"shape\":\"\"}},\"name\":\"Shakhtar Donetsk\",\"offsetgroup\":\"Shakhtar Donetsk\",\"orientation\":\"v\",\"showlegend\":true,\"x\":[\"UEFA Champions League\",\"UEFA Champions League\",\"UEFA Champions League\"],\"xaxis\":\"x\",\"yaxis\":\"y\",\"type\":\"histogram\"},{\"alignmentgroup\":\"True\",\"bingroup\":\"x\",\"hovertemplate\":\"opponent=FC Basel 1893<br>competition=%{x}<br>count=%{y}<extra></extra>\",\"legendgroup\":\"FC Basel 1893\",\"marker\":{\"color\":\"#FF97FF\",\"pattern\":{\"shape\":\"\"}},\"name\":\"FC Basel 1893\",\"offsetgroup\":\"FC Basel 1893\",\"orientation\":\"v\",\"showlegend\":true,\"x\":[\"UEFA Champions League\",\"UEFA Champions League\"],\"xaxis\":\"x\",\"yaxis\":\"y\",\"type\":\"histogram\"},{\"alignmentgroup\":\"True\",\"bingroup\":\"x\",\"hovertemplate\":\"opponent=Malaga CF<br>competition=%{x}<br>count=%{y}<extra></extra>\",\"legendgroup\":\"Malaga CF\",\"marker\":{\"color\":\"#FECB52\",\"pattern\":{\"shape\":\"\"}},\"name\":\"Malaga CF\",\"offsetgroup\":\"Malaga CF\",\"orientation\":\"v\",\"showlegend\":true,\"x\":[\"LaLiga\",\"LaLiga\",\"LaLiga\",\"LaLiga\",\"LaLiga\",\"LaLiga\",\"LaLiga\",\"LaLiga\",\"LaLiga\",\"LaLiga\",\"Copa del Rey\",\"Copa del Rey\",\"LaLiga\"],\"xaxis\":\"x\",\"yaxis\":\"y\",\"type\":\"histogram\"},{\"alignmentgroup\":\"True\",\"bingroup\":\"x\",\"hovertemplate\":\"opponent=Benidorm CD<br>competition=%{x}<br>count=%{y}<extra></extra>\",\"legendgroup\":\"Benidorm CD\",\"marker\":{\"color\":\"#636efa\",\"pattern\":{\"shape\":\"\"}},\"name\":\"Benidorm CD\",\"offsetgroup\":\"Benidorm CD\",\"orientation\":\"v\",\"showlegend\":true,\"x\":[\"Copa del Rey\"],\"xaxis\":\"x\",\"yaxis\":\"y\",\"type\":\"histogram\"},{\"alignmentgroup\":\"True\",\"bingroup\":\"x\",\"hovertemplate\":\"opponent=Sporting CP<br>competition=%{x}<br>count=%{y}<extra></extra>\",\"legendgroup\":\"Sporting CP\",\"marker\":{\"color\":\"#EF553B\",\"pattern\":{\"shape\":\"\"}},\"name\":\"Sporting CP\",\"offsetgroup\":\"Sporting CP\",\"orientation\":\"v\",\"showlegend\":true,\"x\":[\"UEFA Champions League\"],\"xaxis\":\"x\",\"yaxis\":\"y\",\"type\":\"histogram\"},{\"alignmentgroup\":\"True\",\"bingroup\":\"x\",\"hovertemplate\":\"opponent=CD Numancia<br>competition=%{x}<br>count=%{y}<extra></extra>\",\"legendgroup\":\"CD Numancia\",\"marker\":{\"color\":\"#00cc96\",\"pattern\":{\"shape\":\"\"}},\"name\":\"CD Numancia\",\"offsetgroup\":\"CD Numancia\",\"orientation\":\"v\",\"showlegend\":true,\"x\":[\"LaLiga\",\"LaLiga\"],\"xaxis\":\"x\",\"yaxis\":\"y\",\"type\":\"histogram\"},{\"alignmentgroup\":\"True\",\"bingroup\":\"x\",\"hovertemplate\":\"opponent=Bayern Munich<br>competition=%{x}<br>count=%{y}<extra></extra>\",\"legendgroup\":\"Bayern Munich\",\"marker\":{\"color\":\"#ab63fa\",\"pattern\":{\"shape\":\"\"}},\"name\":\"Bayern Munich\",\"offsetgroup\":\"Bayern Munich\",\"orientation\":\"v\",\"showlegend\":true,\"x\":[\"UEFA Champions League\",\"UEFA Champions League\",\"UEFA Champions League\",\"UEFA Champions League\"],\"xaxis\":\"x\",\"yaxis\":\"y\",\"type\":\"histogram\"},{\"alignmentgroup\":\"True\",\"bingroup\":\"x\",\"hovertemplate\":\"opponent=Manchester United<br>competition=%{x}<br>count=%{y}<extra></extra>\",\"legendgroup\":\"Manchester United\",\"marker\":{\"color\":\"#FFA15A\",\"pattern\":{\"shape\":\"\"}},\"name\":\"Manchester United\",\"offsetgroup\":\"Manchester United\",\"orientation\":\"v\",\"showlegend\":true,\"x\":[\"UEFA Champions League\",\"UEFA Champions League\",\"UEFA Champions League\",\"UEFA Champions League\"],\"xaxis\":\"x\",\"yaxis\":\"y\",\"type\":\"histogram\"},{\"alignmentgroup\":\"True\",\"bingroup\":\"x\",\"hovertemplate\":\"opponent=Dynamo Kyiv<br>competition=%{x}<br>count=%{y}<extra></extra>\",\"legendgroup\":\"Dynamo Kyiv\",\"marker\":{\"color\":\"#19d3f3\",\"pattern\":{\"shape\":\"\"}},\"name\":\"Dynamo Kyiv\",\"offsetgroup\":\"Dynamo Kyiv\",\"orientation\":\"v\",\"showlegend\":true,\"x\":[\"UEFA Champions League\",\"UEFA Champions League\",\"UEFA Champions League\"],\"xaxis\":\"x\",\"yaxis\":\"y\",\"type\":\"histogram\"},{\"alignmentgroup\":\"True\",\"bingroup\":\"x\",\"hovertemplate\":\"opponent=Cultural Leonesa<br>competition=%{x}<br>count=%{y}<extra></extra>\",\"legendgroup\":\"Cultural Leonesa\",\"marker\":{\"color\":\"#FF6692\",\"pattern\":{\"shape\":\"\"}},\"name\":\"Cultural Leonesa\",\"offsetgroup\":\"Cultural Leonesa\",\"orientation\":\"v\",\"showlegend\":true,\"x\":[\"Copa del Rey\"],\"xaxis\":\"x\",\"yaxis\":\"y\",\"type\":\"histogram\"},{\"alignmentgroup\":\"True\",\"bingroup\":\"x\",\"hovertemplate\":\"opponent=CF Atlante<br>competition=%{x}<br>count=%{y}<extra></extra>\",\"legendgroup\":\"CF Atlante\",\"marker\":{\"color\":\"#B6E880\",\"pattern\":{\"shape\":\"\"}},\"name\":\"CF Atlante\",\"offsetgroup\":\"CF Atlante\",\"orientation\":\"v\",\"showlegend\":true,\"x\":[\"FIFA Club World Cup\"],\"xaxis\":\"x\",\"yaxis\":\"y\",\"type\":\"histogram\"},{\"alignmentgroup\":\"True\",\"bingroup\":\"x\",\"hovertemplate\":\"opponent=Club Estudiantes de La Plata<br>competition=%{x}<br>count=%{y}<extra></extra>\",\"legendgroup\":\"Club Estudiantes de La Plata\",\"marker\":{\"color\":\"#FF97FF\",\"pattern\":{\"shape\":\"\"}},\"name\":\"Club Estudiantes de La Plata\",\"offsetgroup\":\"Club Estudiantes de La Plata\",\"orientation\":\"v\",\"showlegend\":true,\"x\":[\"FIFA Club World Cup\"],\"xaxis\":\"x\",\"yaxis\":\"y\",\"type\":\"histogram\"},{\"alignmentgroup\":\"True\",\"bingroup\":\"x\",\"hovertemplate\":\"opponent=CD Tenerife<br>competition=%{x}<br>count=%{y}<extra></extra>\",\"legendgroup\":\"CD Tenerife\",\"marker\":{\"color\":\"#FECB52\",\"pattern\":{\"shape\":\"\"}},\"name\":\"CD Tenerife\",\"offsetgroup\":\"CD Tenerife\",\"orientation\":\"v\",\"showlegend\":true,\"x\":[\"LaLiga\",\"LaLiga\",\"LaLiga\",\"LaLiga\",\"LaLiga\"],\"xaxis\":\"x\",\"yaxis\":\"y\",\"type\":\"histogram\"},{\"alignmentgroup\":\"True\",\"bingroup\":\"x\",\"hovertemplate\":\"opponent=Real Valladolid CF<br>competition=%{x}<br>count=%{y}<extra></extra>\",\"legendgroup\":\"Real Valladolid CF\",\"marker\":{\"color\":\"#636efa\",\"pattern\":{\"shape\":\"\"}},\"name\":\"Real Valladolid CF\",\"offsetgroup\":\"Real Valladolid CF\",\"orientation\":\"v\",\"showlegend\":true,\"x\":[\"LaLiga\",\"LaLiga\",\"LaLiga\",\"LaLiga\",\"LaLiga\",\"LaLiga\",\"LaLiga\",\"LaLiga\"],\"xaxis\":\"x\",\"yaxis\":\"y\",\"type\":\"histogram\"},{\"alignmentgroup\":\"True\",\"bingroup\":\"x\",\"hovertemplate\":\"opponent=Arsenal FC<br>competition=%{x}<br>count=%{y}<extra></extra>\",\"legendgroup\":\"Arsenal FC\",\"marker\":{\"color\":\"#EF553B\",\"pattern\":{\"shape\":\"\"}},\"name\":\"Arsenal FC\",\"offsetgroup\":\"Arsenal FC\",\"orientation\":\"v\",\"showlegend\":true,\"x\":[\"UEFA Champions League\",\"UEFA Champions League\",\"UEFA Champions League\",\"UEFA Champions League\",\"UEFA Champions League\",\"UEFA Champions League\",\"UEFA Champions League\",\"UEFA Champions League\",\"UEFA Champions League\"],\"xaxis\":\"x\",\"yaxis\":\"y\",\"type\":\"histogram\"},{\"alignmentgroup\":\"True\",\"bingroup\":\"x\",\"hovertemplate\":\"opponent=Villarreal CF<br>competition=%{x}<br>count=%{y}<extra></extra>\",\"legendgroup\":\"Villarreal CF\",\"marker\":{\"color\":\"#00cc96\",\"pattern\":{\"shape\":\"\"}},\"name\":\"Villarreal CF\",\"offsetgroup\":\"Villarreal CF\",\"orientation\":\"v\",\"showlegend\":true,\"x\":[\"LaLiga\",\"LaLiga\",\"LaLiga\",\"LaLiga\",\"LaLiga\",\"LaLiga\",\"LaLiga\",\"LaLiga\",\"Copa del Rey\",\"LaLiga\",\"LaLiga\",\"LaLiga\",\"LaLiga\",\"LaLiga\",\"LaLiga\",\"LaLiga\"],\"xaxis\":\"x\",\"yaxis\":\"y\",\"type\":\"histogram\"},{\"alignmentgroup\":\"True\",\"bingroup\":\"x\",\"hovertemplate\":\"opponent=FC Copenhagen<br>competition=%{x}<br>count=%{y}<extra></extra>\",\"legendgroup\":\"FC Copenhagen\",\"marker\":{\"color\":\"#ab63fa\",\"pattern\":{\"shape\":\"\"}},\"name\":\"FC Copenhagen\",\"offsetgroup\":\"FC Copenhagen\",\"orientation\":\"v\",\"showlegend\":true,\"x\":[\"UEFA Champions League\",\"UEFA Champions League\",\"UEFA Champions League\"],\"xaxis\":\"x\",\"yaxis\":\"y\",\"type\":\"histogram\"},{\"alignmentgroup\":\"True\",\"bingroup\":\"x\",\"hovertemplate\":\"opponent=Club Atletico de Ceuta<br>competition=%{x}<br>count=%{y}<extra></extra>\",\"legendgroup\":\"Club Atletico de Ceuta\",\"marker\":{\"color\":\"#FFA15A\",\"pattern\":{\"shape\":\"\"}},\"name\":\"Club Atletico de Ceuta\",\"offsetgroup\":\"Club Atletico de Ceuta\",\"orientation\":\"v\",\"showlegend\":true,\"x\":[\"Copa del Rey\"],\"xaxis\":\"x\",\"yaxis\":\"y\",\"type\":\"histogram\"},{\"alignmentgroup\":\"True\",\"bingroup\":\"x\",\"hovertemplate\":\"opponent=Real Sociedad<br>competition=%{x}<br>count=%{y}<extra></extra>\",\"legendgroup\":\"Real Sociedad\",\"marker\":{\"color\":\"#19d3f3\",\"pattern\":{\"shape\":\"\"}},\"name\":\"Real Sociedad\",\"offsetgroup\":\"Real Sociedad\",\"orientation\":\"v\",\"showlegend\":true,\"x\":[\"LaLiga\",\"LaLiga\",\"LaLiga\",\"LaLiga\",\"LaLiga\",\"LaLiga\",\"LaLiga\",\"Copa del Rey\",\"LaLiga\",\"LaLiga\",\"LaLiga\",\"Copa del Rey\",\"LaLiga\",\"LaLiga\",\"LaLiga\",\"LaLiga\",\"LaLiga\",\"LaLiga\"],\"xaxis\":\"x\",\"yaxis\":\"y\",\"type\":\"histogram\"},{\"alignmentgroup\":\"True\",\"bingroup\":\"x\",\"hovertemplate\":\"opponent=Hercules CF<br>competition=%{x}<br>count=%{y}<extra></extra>\",\"legendgroup\":\"Hercules CF\",\"marker\":{\"color\":\"#FF6692\",\"pattern\":{\"shape\":\"\"}},\"name\":\"Hercules CF\",\"offsetgroup\":\"Hercules CF\",\"orientation\":\"v\",\"showlegend\":true,\"x\":[\"LaLiga\",\"LaLiga\"],\"xaxis\":\"x\",\"yaxis\":\"y\",\"type\":\"histogram\"},{\"alignmentgroup\":\"True\",\"bingroup\":\"x\",\"hovertemplate\":\"opponent=FC Porto<br>competition=%{x}<br>count=%{y}<extra></extra>\",\"legendgroup\":\"FC Porto\",\"marker\":{\"color\":\"#B6E880\",\"pattern\":{\"shape\":\"\"}},\"name\":\"FC Porto\",\"offsetgroup\":\"FC Porto\",\"orientation\":\"v\",\"showlegend\":true,\"x\":[\"UEFA Super Cup\"],\"xaxis\":\"x\",\"yaxis\":\"y\",\"type\":\"histogram\"},{\"alignmentgroup\":\"True\",\"bingroup\":\"x\",\"hovertemplate\":\"opponent=BATE Borisov<br>competition=%{x}<br>count=%{y}<extra></extra>\",\"legendgroup\":\"BATE Borisov\",\"marker\":{\"color\":\"#FF97FF\",\"pattern\":{\"shape\":\"\"}},\"name\":\"BATE Borisov\",\"offsetgroup\":\"BATE Borisov\",\"orientation\":\"v\",\"showlegend\":true,\"x\":[\"UEFA Champions League\",\"UEFA Champions League\"],\"xaxis\":\"x\",\"yaxis\":\"y\",\"type\":\"histogram\"},{\"alignmentgroup\":\"True\",\"bingroup\":\"x\",\"hovertemplate\":\"opponent=FC Viktoria Plzen<br>competition=%{x}<br>count=%{y}<extra></extra>\",\"legendgroup\":\"FC Viktoria Plzen\",\"marker\":{\"color\":\"#FECB52\",\"pattern\":{\"shape\":\"\"}},\"name\":\"FC Viktoria Plzen\",\"offsetgroup\":\"FC Viktoria Plzen\",\"orientation\":\"v\",\"showlegend\":true,\"x\":[\"UEFA Champions League\",\"UEFA Champions League\",\"UEFA Champions League\"],\"xaxis\":\"x\",\"yaxis\":\"y\",\"type\":\"histogram\"},{\"alignmentgroup\":\"True\",\"bingroup\":\"x\",\"hovertemplate\":\"opponent=AC Milan<br>competition=%{x}<br>count=%{y}<extra></extra>\",\"legendgroup\":\"AC Milan\",\"marker\":{\"color\":\"#636efa\",\"pattern\":{\"shape\":\"\"}},\"name\":\"AC Milan\",\"offsetgroup\":\"AC Milan\",\"orientation\":\"v\",\"showlegend\":true,\"x\":[\"UEFA Champions League\",\"UEFA Champions League\",\"UEFA Champions League\",\"UEFA Champions League\",\"UEFA Champions League\",\"UEFA Champions League\",\"UEFA Champions League\",\"UEFA Champions League\"],\"xaxis\":\"x\",\"yaxis\":\"y\",\"type\":\"histogram\"},{\"alignmentgroup\":\"True\",\"bingroup\":\"x\",\"hovertemplate\":\"opponent=Rayo Vallecano<br>competition=%{x}<br>count=%{y}<extra></extra>\",\"legendgroup\":\"Rayo Vallecano\",\"marker\":{\"color\":\"#EF553B\",\"pattern\":{\"shape\":\"\"}},\"name\":\"Rayo Vallecano\",\"offsetgroup\":\"Rayo Vallecano\",\"orientation\":\"v\",\"showlegend\":true,\"x\":[\"LaLiga\",\"LaLiga\",\"LaLiga\",\"LaLiga\",\"LaLiga\",\"LaLiga\",\"LaLiga\",\"LaLiga\",\"LaLiga\",\"LaLiga\",\"LaLiga\",\"LaLiga\",\"LaLiga\",\"LaLiga\",\"LaLiga\",\"LaLiga\",\"LaLiga\",\"Copa del Rey\"],\"xaxis\":\"x\",\"yaxis\":\"y\",\"type\":\"histogram\"},{\"alignmentgroup\":\"True\",\"bingroup\":\"x\",\"hovertemplate\":\"opponent=Santos FC<br>competition=%{x}<br>count=%{y}<extra></extra>\",\"legendgroup\":\"Santos FC\",\"marker\":{\"color\":\"#00cc96\",\"pattern\":{\"shape\":\"\"}},\"name\":\"Santos FC\",\"offsetgroup\":\"Santos FC\",\"orientation\":\"v\",\"showlegend\":true,\"x\":[\"FIFA Club World Cup\",\"FIFA Club World Cup\"],\"xaxis\":\"x\",\"yaxis\":\"y\",\"type\":\"histogram\"},{\"alignmentgroup\":\"True\",\"bingroup\":\"x\",\"hovertemplate\":\"opponent=Bayer 04 Leverkusen<br>competition=%{x}<br>count=%{y}<extra></extra>\",\"legendgroup\":\"Bayer 04 Leverkusen\",\"marker\":{\"color\":\"#ab63fa\",\"pattern\":{\"shape\":\"\"}},\"name\":\"Bayer 04 Leverkusen\",\"offsetgroup\":\"Bayer 04 Leverkusen\",\"orientation\":\"v\",\"showlegend\":true,\"x\":[\"UEFA Champions League\",\"UEFA Champions League\",\"UEFA Champions League\",\"UEFA Champions League\",\"UEFA Champions League\",\"UEFA Champions League\",\"UEFA Champions League\"],\"xaxis\":\"x\",\"yaxis\":\"y\",\"type\":\"histogram\"},{\"alignmentgroup\":\"True\",\"bingroup\":\"x\",\"hovertemplate\":\"opponent=Granada CF<br>competition=%{x}<br>count=%{y}<extra></extra>\",\"legendgroup\":\"Granada CF\",\"marker\":{\"color\":\"#FFA15A\",\"pattern\":{\"shape\":\"\"}},\"name\":\"Granada CF\",\"offsetgroup\":\"Granada CF\",\"orientation\":\"v\",\"showlegend\":true,\"x\":[\"LaLiga\",\"LaLiga\",\"LaLiga\",\"LaLiga\",\"LaLiga\",\"LaLiga\",\"LaLiga\",\"LaLiga\",\"LaLiga\",\"LaLiga\",\"LaLiga\",\"LaLiga\",\"LaLiga\",\"LaLiga\",\"LaLiga\"],\"xaxis\":\"x\",\"yaxis\":\"y\",\"type\":\"histogram\"},{\"alignmentgroup\":\"True\",\"bingroup\":\"x\",\"hovertemplate\":\"opponent=Spartak Moscow<br>competition=%{x}<br>count=%{y}<extra></extra>\",\"legendgroup\":\"Spartak Moscow\",\"marker\":{\"color\":\"#19d3f3\",\"pattern\":{\"shape\":\"\"}},\"name\":\"Spartak Moscow\",\"offsetgroup\":\"Spartak Moscow\",\"orientation\":\"v\",\"showlegend\":true,\"x\":[\"UEFA Champions League\",\"UEFA Champions League\",\"UEFA Champions League\",\"UEFA Champions League\"],\"xaxis\":\"x\",\"yaxis\":\"y\",\"type\":\"histogram\"},{\"alignmentgroup\":\"True\",\"bingroup\":\"x\",\"hovertemplate\":\"opponent=CÃ³rdoba CF<br>competition=%{x}<br>count=%{y}<extra></extra>\",\"legendgroup\":\"CÃ³rdoba CF\",\"marker\":{\"color\":\"#FF6692\",\"pattern\":{\"shape\":\"\"}},\"name\":\"CÃ³rdoba CF\",\"offsetgroup\":\"CÃ³rdoba CF\",\"orientation\":\"v\",\"showlegend\":true,\"x\":[\"Copa del Rey\",\"Copa del Rey\",\"LaLiga\",\"LaLiga\",\"LaLiga\",\"LaLiga\"],\"xaxis\":\"x\",\"yaxis\":\"y\",\"type\":\"histogram\"},{\"alignmentgroup\":\"True\",\"bingroup\":\"x\",\"hovertemplate\":\"opponent=Paris Saint-Germain<br>competition=%{x}<br>count=%{y}<extra></extra>\",\"legendgroup\":\"Paris Saint-Germain\",\"marker\":{\"color\":\"#B6E880\",\"pattern\":{\"shape\":\"\"}},\"name\":\"Paris Saint-Germain\",\"offsetgroup\":\"Paris Saint-Germain\",\"orientation\":\"v\",\"showlegend\":true,\"x\":[\"UEFA Champions League\",\"UEFA Champions League\",\"UEFA Champions League\",\"UEFA Champions League\",\"UEFA Champions League\",\"UEFA Champions League\"],\"xaxis\":\"x\",\"yaxis\":\"y\",\"type\":\"histogram\"},{\"alignmentgroup\":\"True\",\"bingroup\":\"x\",\"hovertemplate\":\"opponent=Ajax Amsterdam<br>competition=%{x}<br>count=%{y}<extra></extra>\",\"legendgroup\":\"Ajax Amsterdam\",\"marker\":{\"color\":\"#FF97FF\",\"pattern\":{\"shape\":\"\"}},\"name\":\"Ajax Amsterdam\",\"offsetgroup\":\"Ajax Amsterdam\",\"orientation\":\"v\",\"showlegend\":true,\"x\":[\"UEFA Champions League\",\"UEFA Champions League\",\"UEFA Champions League\",\"UEFA Champions League\",\"UEFA Champions League\",\"UEFA Champions League\"],\"xaxis\":\"x\",\"yaxis\":\"y\",\"type\":\"histogram\"},{\"alignmentgroup\":\"True\",\"bingroup\":\"x\",\"hovertemplate\":\"opponent=Manchester City<br>competition=%{x}<br>count=%{y}<extra></extra>\",\"legendgroup\":\"Manchester City\",\"marker\":{\"color\":\"#FECB52\",\"pattern\":{\"shape\":\"\"}},\"name\":\"Manchester City\",\"offsetgroup\":\"Manchester City\",\"orientation\":\"v\",\"showlegend\":true,\"x\":[\"UEFA Champions League\",\"UEFA Champions League\",\"UEFA Champions League\",\"UEFA Champions League\",\"UEFA Champions League\",\"UEFA Champions League\",\"UEFA Champions League\"],\"xaxis\":\"x\",\"yaxis\":\"y\",\"type\":\"histogram\"},{\"alignmentgroup\":\"True\",\"bingroup\":\"x\",\"hovertemplate\":\"opponent=Elche CF<br>competition=%{x}<br>count=%{y}<extra></extra>\",\"legendgroup\":\"Elche CF\",\"marker\":{\"color\":\"#636efa\",\"pattern\":{\"shape\":\"\"}},\"name\":\"Elche CF\",\"offsetgroup\":\"Elche CF\",\"orientation\":\"v\",\"showlegend\":true,\"x\":[\"LaLiga\",\"LaLiga\",\"Copa del Rey\",\"LaLiga\",\"LaLiga\",\"LaLiga\",\"LaLiga\"],\"xaxis\":\"x\",\"yaxis\":\"y\",\"type\":\"histogram\"},{\"alignmentgroup\":\"True\",\"bingroup\":\"x\",\"hovertemplate\":\"opponent=SD Eibar<br>competition=%{x}<br>count=%{y}<extra></extra>\",\"legendgroup\":\"SD Eibar\",\"marker\":{\"color\":\"#EF553B\",\"pattern\":{\"shape\":\"\"}},\"name\":\"SD Eibar\",\"offsetgroup\":\"SD Eibar\",\"orientation\":\"v\",\"showlegend\":true,\"x\":[\"LaLiga\",\"LaLiga\",\"LaLiga\",\"LaLiga\",\"LaLiga\",\"LaLiga\",\"LaLiga\",\"LaLiga\",\"LaLiga\",\"LaLiga\",\"LaLiga\",\"LaLiga\",\"LaLiga\",\"LaLiga\",\"LaLiga\",\"LaLiga\",\"LaLiga\",\"LaLiga\",\"LaLiga\",\"LaLiga\"],\"xaxis\":\"x\",\"yaxis\":\"y\",\"type\":\"histogram\"},{\"alignmentgroup\":\"True\",\"bingroup\":\"x\",\"hovertemplate\":\"opponent=APOEL Nicosia<br>competition=%{x}<br>count=%{y}<extra></extra>\",\"legendgroup\":\"APOEL Nicosia\",\"marker\":{\"color\":\"#00cc96\",\"pattern\":{\"shape\":\"\"}},\"name\":\"APOEL Nicosia\",\"offsetgroup\":\"APOEL Nicosia\",\"orientation\":\"v\",\"showlegend\":true,\"x\":[\"UEFA Champions League\",\"UEFA Champions League\",\"UEFA Champions League\"],\"xaxis\":\"x\",\"yaxis\":\"y\",\"type\":\"histogram\"},{\"alignmentgroup\":\"True\",\"bingroup\":\"x\",\"hovertemplate\":\"opponent=AS Roma<br>competition=%{x}<br>count=%{y}<extra></extra>\",\"legendgroup\":\"AS Roma\",\"marker\":{\"color\":\"#ab63fa\",\"pattern\":{\"shape\":\"\"}},\"name\":\"AS Roma\",\"offsetgroup\":\"AS Roma\",\"orientation\":\"v\",\"showlegend\":true,\"x\":[\"UEFA Champions League\",\"UEFA Champions League\"],\"xaxis\":\"x\",\"yaxis\":\"y\",\"type\":\"histogram\"},{\"alignmentgroup\":\"True\",\"bingroup\":\"x\",\"hovertemplate\":\"opponent=CA River Plate<br>competition=%{x}<br>count=%{y}<extra></extra>\",\"legendgroup\":\"CA River Plate\",\"marker\":{\"color\":\"#FFA15A\",\"pattern\":{\"shape\":\"\"}},\"name\":\"CA River Plate\",\"offsetgroup\":\"CA River Plate\",\"orientation\":\"v\",\"showlegend\":true,\"x\":[\"FIFA Club World Cup\"],\"xaxis\":\"x\",\"yaxis\":\"y\",\"type\":\"histogram\"},{\"alignmentgroup\":\"True\",\"bingroup\":\"x\",\"hovertemplate\":\"opponent=CD Leganes<br>competition=%{x}<br>count=%{y}<extra></extra>\",\"legendgroup\":\"CD Leganes\",\"marker\":{\"color\":\"#19d3f3\",\"pattern\":{\"shape\":\"\"}},\"name\":\"CD Leganes\",\"offsetgroup\":\"CD Leganes\",\"orientation\":\"v\",\"showlegend\":true,\"x\":[\"LaLiga\",\"LaLiga\",\"LaLiga\",\"LaLiga\",\"LaLiga\",\"LaLiga\",\"LaLiga\",\"LaLiga\",\"Copa del Rey\",\"Copa del Rey\",\"LaLiga\"],\"xaxis\":\"x\",\"yaxis\":\"y\",\"type\":\"histogram\"},{\"alignmentgroup\":\"True\",\"bingroup\":\"x\",\"hovertemplate\":\"opponent=Borussia MÃ¶nchengladbach<br>competition=%{x}<br>count=%{y}<extra></extra>\",\"legendgroup\":\"Borussia MÃ¶nchengladbach\",\"marker\":{\"color\":\"#FF6692\",\"pattern\":{\"shape\":\"\"}},\"name\":\"Borussia MÃ¶nchengladbach\",\"offsetgroup\":\"Borussia MÃ¶nchengladbach\",\"orientation\":\"v\",\"showlegend\":true,\"x\":[\"UEFA Champions League\"],\"xaxis\":\"x\",\"yaxis\":\"y\",\"type\":\"histogram\"},{\"alignmentgroup\":\"True\",\"bingroup\":\"x\",\"hovertemplate\":\"opponent=UD Las Palmas<br>competition=%{x}<br>count=%{y}<extra></extra>\",\"legendgroup\":\"UD Las Palmas\",\"marker\":{\"color\":\"#B6E880\",\"pattern\":{\"shape\":\"\"}},\"name\":\"UD Las Palmas\",\"offsetgroup\":\"UD Las Palmas\",\"orientation\":\"v\",\"showlegend\":true,\"x\":[\"LaLiga\",\"LaLiga\",\"LaLiga\",\"LaLiga\"],\"xaxis\":\"x\",\"yaxis\":\"y\",\"type\":\"histogram\"},{\"alignmentgroup\":\"True\",\"bingroup\":\"x\",\"hovertemplate\":\"opponent=Juventus FC<br>competition=%{x}<br>count=%{y}<extra></extra>\",\"legendgroup\":\"Juventus FC\",\"marker\":{\"color\":\"#FF97FF\",\"pattern\":{\"shape\":\"\"}},\"name\":\"Juventus FC\",\"offsetgroup\":\"Juventus FC\",\"orientation\":\"v\",\"showlegend\":true,\"x\":[\"UEFA Champions League\",\"UEFA Champions League\",\"UEFA Champions League\"],\"xaxis\":\"x\",\"yaxis\":\"y\",\"type\":\"histogram\"},{\"alignmentgroup\":\"True\",\"bingroup\":\"x\",\"hovertemplate\":\"opponent=Olympiacos Piraeus<br>competition=%{x}<br>count=%{y}<extra></extra>\",\"legendgroup\":\"Olympiacos Piraeus\",\"marker\":{\"color\":\"#FECB52\",\"pattern\":{\"shape\":\"\"}},\"name\":\"Olympiacos Piraeus\",\"offsetgroup\":\"Olympiacos Piraeus\",\"orientation\":\"v\",\"showlegend\":true,\"x\":[\"UEFA Champions League\"],\"xaxis\":\"x\",\"yaxis\":\"y\",\"type\":\"histogram\"},{\"alignmentgroup\":\"True\",\"bingroup\":\"x\",\"hovertemplate\":\"opponent=Chelsea FC<br>competition=%{x}<br>count=%{y}<extra></extra>\",\"legendgroup\":\"Chelsea FC\",\"marker\":{\"color\":\"#636efa\",\"pattern\":{\"shape\":\"\"}},\"name\":\"Chelsea FC\",\"offsetgroup\":\"Chelsea FC\",\"orientation\":\"v\",\"showlegend\":true,\"x\":[\"UEFA Champions League\",\"UEFA Champions League\",\"UEFA Champions League\"],\"xaxis\":\"x\",\"yaxis\":\"y\",\"type\":\"histogram\"},{\"alignmentgroup\":\"True\",\"bingroup\":\"x\",\"hovertemplate\":\"opponent=Girona FC<br>competition=%{x}<br>count=%{y}<extra></extra>\",\"legendgroup\":\"Girona FC\",\"marker\":{\"color\":\"#EF553B\",\"pattern\":{\"shape\":\"\"}},\"name\":\"Girona FC\",\"offsetgroup\":\"Girona FC\",\"orientation\":\"v\",\"showlegend\":true,\"x\":[\"LaLiga\",\"LaLiga\",\"LaLiga\",\"LaLiga\"],\"xaxis\":\"x\",\"yaxis\":\"y\",\"type\":\"histogram\"},{\"alignmentgroup\":\"True\",\"bingroup\":\"x\",\"hovertemplate\":\"opponent=SD Huesca<br>competition=%{x}<br>count=%{y}<extra></extra>\",\"legendgroup\":\"SD Huesca\",\"marker\":{\"color\":\"#00cc96\",\"pattern\":{\"shape\":\"\"}},\"name\":\"SD Huesca\",\"offsetgroup\":\"SD Huesca\",\"orientation\":\"v\",\"showlegend\":true,\"x\":[\"LaLiga\",\"LaLiga\",\"LaLiga\",\"LaLiga\"],\"xaxis\":\"x\",\"yaxis\":\"y\",\"type\":\"histogram\"},{\"alignmentgroup\":\"True\",\"bingroup\":\"x\",\"hovertemplate\":\"opponent=PSV Eindhoven<br>competition=%{x}<br>count=%{y}<extra></extra>\",\"legendgroup\":\"PSV Eindhoven\",\"marker\":{\"color\":\"#ab63fa\",\"pattern\":{\"shape\":\"\"}},\"name\":\"PSV Eindhoven\",\"offsetgroup\":\"PSV Eindhoven\",\"orientation\":\"v\",\"showlegend\":true,\"x\":[\"UEFA Champions League\",\"UEFA Champions League\",\"UEFA Champions League\",\"UEFA Champions League\"],\"xaxis\":\"x\",\"yaxis\":\"y\",\"type\":\"histogram\"},{\"alignmentgroup\":\"True\",\"bingroup\":\"x\",\"hovertemplate\":\"opponent=Tottenham Hotspur<br>competition=%{x}<br>count=%{y}<extra></extra>\",\"legendgroup\":\"Tottenham Hotspur\",\"marker\":{\"color\":\"#FFA15A\",\"pattern\":{\"shape\":\"\"}},\"name\":\"Tottenham Hotspur\",\"offsetgroup\":\"Tottenham Hotspur\",\"orientation\":\"v\",\"showlegend\":true,\"x\":[\"UEFA Champions League\",\"UEFA Champions League\"],\"xaxis\":\"x\",\"yaxis\":\"y\",\"type\":\"histogram\"},{\"alignmentgroup\":\"True\",\"bingroup\":\"x\",\"hovertemplate\":\"opponent=Liverpool FC<br>competition=%{x}<br>count=%{y}<extra></extra>\",\"legendgroup\":\"Liverpool FC\",\"marker\":{\"color\":\"#19d3f3\",\"pattern\":{\"shape\":\"\"}},\"name\":\"Liverpool FC\",\"offsetgroup\":\"Liverpool FC\",\"orientation\":\"v\",\"showlegend\":true,\"x\":[\"UEFA Champions League\",\"UEFA Champions League\"],\"xaxis\":\"x\",\"yaxis\":\"y\",\"type\":\"histogram\"},{\"alignmentgroup\":\"True\",\"bingroup\":\"x\",\"hovertemplate\":\"opponent=SK Slavia Prague<br>competition=%{x}<br>count=%{y}<extra></extra>\",\"legendgroup\":\"SK Slavia Prague\",\"marker\":{\"color\":\"#FF6692\",\"pattern\":{\"shape\":\"\"}},\"name\":\"SK Slavia Prague\",\"offsetgroup\":\"SK Slavia Prague\",\"orientation\":\"v\",\"showlegend\":true,\"x\":[\"UEFA Champions League\"],\"xaxis\":\"x\",\"yaxis\":\"y\",\"type\":\"histogram\"},{\"alignmentgroup\":\"True\",\"bingroup\":\"x\",\"hovertemplate\":\"opponent=Borussia Dortmund<br>competition=%{x}<br>count=%{y}<extra></extra>\",\"legendgroup\":\"Borussia Dortmund\",\"marker\":{\"color\":\"#B6E880\",\"pattern\":{\"shape\":\"\"}},\"name\":\"Borussia Dortmund\",\"offsetgroup\":\"Borussia Dortmund\",\"orientation\":\"v\",\"showlegend\":true,\"x\":[\"UEFA Champions League\"],\"xaxis\":\"x\",\"yaxis\":\"y\",\"type\":\"histogram\"},{\"alignmentgroup\":\"True\",\"bingroup\":\"x\",\"hovertemplate\":\"opponent=SSC Napoli<br>competition=%{x}<br>count=%{y}<extra></extra>\",\"legendgroup\":\"SSC Napoli\",\"marker\":{\"color\":\"#FF97FF\",\"pattern\":{\"shape\":\"\"}},\"name\":\"SSC Napoli\",\"offsetgroup\":\"SSC Napoli\",\"orientation\":\"v\",\"showlegend\":true,\"x\":[\"UEFA Champions League\"],\"xaxis\":\"x\",\"yaxis\":\"y\",\"type\":\"histogram\"},{\"alignmentgroup\":\"True\",\"bingroup\":\"x\",\"hovertemplate\":\"opponent=Ferencvarosi TC<br>competition=%{x}<br>count=%{y}<extra></extra>\",\"legendgroup\":\"Ferencvarosi TC\",\"marker\":{\"color\":\"#FECB52\",\"pattern\":{\"shape\":\"\"}},\"name\":\"Ferencvarosi TC\",\"offsetgroup\":\"Ferencvarosi TC\",\"orientation\":\"v\",\"showlegend\":true,\"x\":[\"UEFA Champions League\"],\"xaxis\":\"x\",\"yaxis\":\"y\",\"type\":\"histogram\"},{\"alignmentgroup\":\"True\",\"bingroup\":\"x\",\"hovertemplate\":\"opponent=Cadiz CF<br>competition=%{x}<br>count=%{y}<extra></extra>\",\"legendgroup\":\"Cadiz CF\",\"marker\":{\"color\":\"#636efa\",\"pattern\":{\"shape\":\"\"}},\"name\":\"Cadiz CF\",\"offsetgroup\":\"Cadiz CF\",\"orientation\":\"v\",\"showlegend\":true,\"x\":[\"LaLiga\"],\"xaxis\":\"x\",\"yaxis\":\"y\",\"type\":\"histogram\"},{\"alignmentgroup\":\"True\",\"bingroup\":\"x\",\"hovertemplate\":\"opponent=RB Leipzig<br>competition=%{x}<br>count=%{y}<extra></extra>\",\"legendgroup\":\"RB Leipzig\",\"marker\":{\"color\":\"#EF553B\",\"pattern\":{\"shape\":\"\"}},\"name\":\"RB Leipzig\",\"offsetgroup\":\"RB Leipzig\",\"orientation\":\"v\",\"showlegend\":true,\"x\":[\"UEFA Champions League\",\"UEFA Champions League\"],\"xaxis\":\"x\",\"yaxis\":\"y\",\"type\":\"histogram\"},{\"alignmentgroup\":\"True\",\"bingroup\":\"x\",\"hovertemplate\":\"opponent=FC Nantes<br>competition=%{x}<br>count=%{y}<extra></extra>\",\"legendgroup\":\"FC Nantes\",\"marker\":{\"color\":\"#00cc96\",\"pattern\":{\"shape\":\"\"}},\"name\":\"FC Nantes\",\"offsetgroup\":\"FC Nantes\",\"orientation\":\"v\",\"showlegend\":true,\"x\":[\"Ligue 1\",\"Troph�e des Champions\",\"Trophée des Champions\",\"Ligue 1\"],\"xaxis\":\"x\",\"yaxis\":\"y\",\"type\":\"histogram\"},{\"alignmentgroup\":\"True\",\"bingroup\":\"x\",\"hovertemplate\":\"opponent=Club Brugge KV<br>competition=%{x}<br>count=%{y}<extra></extra>\",\"legendgroup\":\"Club Brugge KV\",\"marker\":{\"color\":\"#ab63fa\",\"pattern\":{\"shape\":\"\"}},\"name\":\"Club Brugge KV\",\"offsetgroup\":\"Club Brugge KV\",\"orientation\":\"v\",\"showlegend\":true,\"x\":[\"UEFA Champions League\",\"UEFA Champions League\"],\"xaxis\":\"x\",\"yaxis\":\"y\",\"type\":\"histogram\"},{\"alignmentgroup\":\"True\",\"bingroup\":\"x\",\"hovertemplate\":\"opponent=LOSC Lille<br>competition=%{x}<br>count=%{y}<extra></extra>\",\"legendgroup\":\"LOSC Lille\",\"marker\":{\"color\":\"#FFA15A\",\"pattern\":{\"shape\":\"\"}},\"name\":\"LOSC Lille\",\"offsetgroup\":\"LOSC Lille\",\"orientation\":\"v\",\"showlegend\":true,\"x\":[\"Ligue 1\",\"Ligue 1\",\"Ligue 1\"],\"xaxis\":\"x\",\"yaxis\":\"y\",\"type\":\"histogram\"},{\"alignmentgroup\":\"True\",\"bingroup\":\"x\",\"hovertemplate\":\"opponent=FC Lorient<br>competition=%{x}<br>count=%{y}<extra></extra>\",\"legendgroup\":\"FC Lorient\",\"marker\":{\"color\":\"#19d3f3\",\"pattern\":{\"shape\":\"\"}},\"name\":\"FC Lorient\",\"offsetgroup\":\"FC Lorient\",\"orientation\":\"v\",\"showlegend\":true,\"x\":[\"Ligue 1\"],\"xaxis\":\"x\",\"yaxis\":\"y\",\"type\":\"histogram\"},{\"alignmentgroup\":\"True\",\"bingroup\":\"x\",\"hovertemplate\":\"opponent=RC Lens<br>competition=%{x}<br>count=%{y}<extra></extra>\",\"legendgroup\":\"RC Lens\",\"marker\":{\"color\":\"#FF6692\",\"pattern\":{\"shape\":\"\"}},\"name\":\"RC Lens\",\"offsetgroup\":\"RC Lens\",\"orientation\":\"v\",\"showlegend\":true,\"x\":[\"Ligue 1\"],\"xaxis\":\"x\",\"yaxis\":\"y\",\"type\":\"histogram\"},{\"alignmentgroup\":\"True\",\"bingroup\":\"x\",\"hovertemplate\":\"opponent=Montpellier<br>competition=%{x}<br>count=%{y}<extra></extra>\",\"legendgroup\":\"Montpellier\",\"marker\":{\"color\":\"#B6E880\",\"pattern\":{\"shape\":\"\"}},\"name\":\"Montpellier\",\"offsetgroup\":\"Montpellier\",\"orientation\":\"v\",\"showlegend\":true,\"x\":[\"Ligue 1\",\"Ligue 1\"],\"xaxis\":\"x\",\"yaxis\":\"y\",\"type\":\"histogram\"},{\"alignmentgroup\":\"True\",\"bingroup\":\"x\",\"hovertemplate\":\"opponent=Clermont Foot<br>competition=%{x}<br>count=%{y}<extra></extra>\",\"legendgroup\":\"Clermont Foot\",\"marker\":{\"color\":\"#FF97FF\",\"pattern\":{\"shape\":\"\"}},\"name\":\"Clermont Foot\",\"offsetgroup\":\"Clermont Foot\",\"orientation\":\"v\",\"showlegend\":true,\"x\":[\"Ligue 1\",\"Ligue 1\",\"Ligue 1\",\"Ligue 1\"],\"xaxis\":\"x\",\"yaxis\":\"y\",\"type\":\"histogram\"},{\"alignmentgroup\":\"True\",\"bingroup\":\"x\",\"hovertemplate\":\"opponent=Maccabi Haifa<br>competition=%{x}<br>count=%{y}<extra></extra>\",\"legendgroup\":\"Maccabi Haifa\",\"marker\":{\"color\":\"#FECB52\",\"pattern\":{\"shape\":\"\"}},\"name\":\"Maccabi Haifa\",\"offsetgroup\":\"Maccabi Haifa\",\"orientation\":\"v\",\"showlegend\":true,\"x\":[\"Champions League\",\"UEFA Champions League\",\"UEFA Champions League\"],\"xaxis\":\"x\",\"yaxis\":\"y\",\"type\":\"histogram\"},{\"alignmentgroup\":\"True\",\"bingroup\":\"x\",\"hovertemplate\":\"opponent=OGC Nice<br>competition=%{x}<br>count=%{y}<extra></extra>\",\"legendgroup\":\"OGC Nice\",\"marker\":{\"color\":\"#636efa\",\"pattern\":{\"shape\":\"\"}},\"name\":\"OGC Nice\",\"offsetgroup\":\"OGC Nice\",\"orientation\":\"v\",\"showlegend\":true,\"x\":[\"Ligue 1\"],\"xaxis\":\"x\",\"yaxis\":\"y\",\"type\":\"histogram\"},{\"alignmentgroup\":\"True\",\"bingroup\":\"x\",\"hovertemplate\":\"opponent=SL Benfica<br>competition=%{x}<br>count=%{y}<extra></extra>\",\"legendgroup\":\"SL Benfica\",\"marker\":{\"color\":\"#EF553B\",\"pattern\":{\"shape\":\"\"}},\"name\":\"SL Benfica\",\"offsetgroup\":\"SL Benfica\",\"orientation\":\"v\",\"showlegend\":true,\"x\":[\"UEFA Champions League\"],\"xaxis\":\"x\",\"yaxis\":\"y\",\"type\":\"histogram\"},{\"alignmentgroup\":\"True\",\"bingroup\":\"x\",\"hovertemplate\":\"opponent=AC Ajaccio<br>competition=%{x}<br>count=%{y}<extra></extra>\",\"legendgroup\":\"AC Ajaccio\",\"marker\":{\"color\":\"#00cc96\",\"pattern\":{\"shape\":\"\"}},\"name\":\"AC Ajaccio\",\"offsetgroup\":\"AC Ajaccio\",\"orientation\":\"v\",\"showlegend\":true,\"x\":[\"Ligue 1\"],\"xaxis\":\"x\",\"yaxis\":\"y\",\"type\":\"histogram\"},{\"alignmentgroup\":\"True\",\"bingroup\":\"x\",\"hovertemplate\":\"opponent=ESTAC Troyes<br>competition=%{x}<br>count=%{y}<extra></extra>\",\"legendgroup\":\"ESTAC Troyes\",\"marker\":{\"color\":\"#ab63fa\",\"pattern\":{\"shape\":\"\"}},\"name\":\"ESTAC Troyes\",\"offsetgroup\":\"ESTAC Troyes\",\"orientation\":\"v\",\"showlegend\":true,\"x\":[\"Ligue 1\"],\"xaxis\":\"x\",\"yaxis\":\"y\",\"type\":\"histogram\"},{\"alignmentgroup\":\"True\",\"bingroup\":\"x\",\"hovertemplate\":\"opponent=Montpellier HSC<br>competition=%{x}<br>count=%{y}<extra></extra>\",\"legendgroup\":\"Montpellier HSC\",\"marker\":{\"color\":\"#FFA15A\",\"pattern\":{\"shape\":\"\"}},\"name\":\"Montpellier HSC\",\"offsetgroup\":\"Montpellier HSC\",\"orientation\":\"v\",\"showlegend\":true,\"x\":[\"Ligue 1\"],\"xaxis\":\"x\",\"yaxis\":\"y\",\"type\":\"histogram\"},{\"alignmentgroup\":\"True\",\"bingroup\":\"x\",\"hovertemplate\":\"opponent=FC Toulouse<br>competition=%{x}<br>count=%{y}<extra></extra>\",\"legendgroup\":\"FC Toulouse\",\"marker\":{\"color\":\"#19d3f3\",\"pattern\":{\"shape\":\"\"}},\"name\":\"FC Toulouse\",\"offsetgroup\":\"FC Toulouse\",\"orientation\":\"v\",\"showlegend\":true,\"x\":[\"Ligue 1\"],\"xaxis\":\"x\",\"yaxis\":\"y\",\"type\":\"histogram\"},{\"alignmentgroup\":\"True\",\"bingroup\":\"x\",\"hovertemplate\":\"opponent=Olympique Marseille<br>competition=%{x}<br>count=%{y}<extra></extra>\",\"legendgroup\":\"Olympique Marseille\",\"marker\":{\"color\":\"#FF6692\",\"pattern\":{\"shape\":\"\"}},\"name\":\"Olympique Marseille\",\"offsetgroup\":\"Olympique Marseille\",\"orientation\":\"v\",\"showlegend\":true,\"x\":[\"Ligue 1\"],\"xaxis\":\"x\",\"yaxis\":\"y\",\"type\":\"histogram\"}],                        {\"template\":{\"data\":{\"histogram2dcontour\":[{\"type\":\"histogram2dcontour\",\"colorbar\":{\"outlinewidth\":0,\"ticks\":\"\"},\"colorscale\":[[0.0,\"#0d0887\"],[0.1111111111111111,\"#46039f\"],[0.2222222222222222,\"#7201a8\"],[0.3333333333333333,\"#9c179e\"],[0.4444444444444444,\"#bd3786\"],[0.5555555555555556,\"#d8576b\"],[0.6666666666666666,\"#ed7953\"],[0.7777777777777778,\"#fb9f3a\"],[0.8888888888888888,\"#fdca26\"],[1.0,\"#f0f921\"]]}],\"choropleth\":[{\"type\":\"choropleth\",\"colorbar\":{\"outlinewidth\":0,\"ticks\":\"\"}}],\"histogram2d\":[{\"type\":\"histogram2d\",\"colorbar\":{\"outlinewidth\":0,\"ticks\":\"\"},\"colorscale\":[[0.0,\"#0d0887\"],[0.1111111111111111,\"#46039f\"],[0.2222222222222222,\"#7201a8\"],[0.3333333333333333,\"#9c179e\"],[0.4444444444444444,\"#bd3786\"],[0.5555555555555556,\"#d8576b\"],[0.6666666666666666,\"#ed7953\"],[0.7777777777777778,\"#fb9f3a\"],[0.8888888888888888,\"#fdca26\"],[1.0,\"#f0f921\"]]}],\"heatmap\":[{\"type\":\"heatmap\",\"colorbar\":{\"outlinewidth\":0,\"ticks\":\"\"},\"colorscale\":[[0.0,\"#0d0887\"],[0.1111111111111111,\"#46039f\"],[0.2222222222222222,\"#7201a8\"],[0.3333333333333333,\"#9c179e\"],[0.4444444444444444,\"#bd3786\"],[0.5555555555555556,\"#d8576b\"],[0.6666666666666666,\"#ed7953\"],[0.7777777777777778,\"#fb9f3a\"],[0.8888888888888888,\"#fdca26\"],[1.0,\"#f0f921\"]]}],\"heatmapgl\":[{\"type\":\"heatmapgl\",\"colorbar\":{\"outlinewidth\":0,\"ticks\":\"\"},\"colorscale\":[[0.0,\"#0d0887\"],[0.1111111111111111,\"#46039f\"],[0.2222222222222222,\"#7201a8\"],[0.3333333333333333,\"#9c179e\"],[0.4444444444444444,\"#bd3786\"],[0.5555555555555556,\"#d8576b\"],[0.6666666666666666,\"#ed7953\"],[0.7777777777777778,\"#fb9f3a\"],[0.8888888888888888,\"#fdca26\"],[1.0,\"#f0f921\"]]}],\"contourcarpet\":[{\"type\":\"contourcarpet\",\"colorbar\":{\"outlinewidth\":0,\"ticks\":\"\"}}],\"contour\":[{\"type\":\"contour\",\"colorbar\":{\"outlinewidth\":0,\"ticks\":\"\"},\"colorscale\":[[0.0,\"#0d0887\"],[0.1111111111111111,\"#46039f\"],[0.2222222222222222,\"#7201a8\"],[0.3333333333333333,\"#9c179e\"],[0.4444444444444444,\"#bd3786\"],[0.5555555555555556,\"#d8576b\"],[0.6666666666666666,\"#ed7953\"],[0.7777777777777778,\"#fb9f3a\"],[0.8888888888888888,\"#fdca26\"],[1.0,\"#f0f921\"]]}],\"surface\":[{\"type\":\"surface\",\"colorbar\":{\"outlinewidth\":0,\"ticks\":\"\"},\"colorscale\":[[0.0,\"#0d0887\"],[0.1111111111111111,\"#46039f\"],[0.2222222222222222,\"#7201a8\"],[0.3333333333333333,\"#9c179e\"],[0.4444444444444444,\"#bd3786\"],[0.5555555555555556,\"#d8576b\"],[0.6666666666666666,\"#ed7953\"],[0.7777777777777778,\"#fb9f3a\"],[0.8888888888888888,\"#fdca26\"],[1.0,\"#f0f921\"]]}],\"mesh3d\":[{\"type\":\"mesh3d\",\"colorbar\":{\"outlinewidth\":0,\"ticks\":\"\"}}],\"scatter\":[{\"fillpattern\":{\"fillmode\":\"overlay\",\"size\":10,\"solidity\":0.2},\"type\":\"scatter\"}],\"parcoords\":[{\"type\":\"parcoords\",\"line\":{\"colorbar\":{\"outlinewidth\":0,\"ticks\":\"\"}}}],\"scatterpolargl\":[{\"type\":\"scatterpolargl\",\"marker\":{\"colorbar\":{\"outlinewidth\":0,\"ticks\":\"\"}}}],\"bar\":[{\"error_x\":{\"color\":\"#2a3f5f\"},\"error_y\":{\"color\":\"#2a3f5f\"},\"marker\":{\"line\":{\"color\":\"#E5ECF6\",\"width\":0.5},\"pattern\":{\"fillmode\":\"overlay\",\"size\":10,\"solidity\":0.2}},\"type\":\"bar\"}],\"scattergeo\":[{\"type\":\"scattergeo\",\"marker\":{\"colorbar\":{\"outlinewidth\":0,\"ticks\":\"\"}}}],\"scatterpolar\":[{\"type\":\"scatterpolar\",\"marker\":{\"colorbar\":{\"outlinewidth\":0,\"ticks\":\"\"}}}],\"histogram\":[{\"marker\":{\"pattern\":{\"fillmode\":\"overlay\",\"size\":10,\"solidity\":0.2}},\"type\":\"histogram\"}],\"scattergl\":[{\"type\":\"scattergl\",\"marker\":{\"colorbar\":{\"outlinewidth\":0,\"ticks\":\"\"}}}],\"scatter3d\":[{\"type\":\"scatter3d\",\"line\":{\"colorbar\":{\"outlinewidth\":0,\"ticks\":\"\"}},\"marker\":{\"colorbar\":{\"outlinewidth\":0,\"ticks\":\"\"}}}],\"scattermapbox\":[{\"type\":\"scattermapbox\",\"marker\":{\"colorbar\":{\"outlinewidth\":0,\"ticks\":\"\"}}}],\"scatterternary\":[{\"type\":\"scatterternary\",\"marker\":{\"colorbar\":{\"outlinewidth\":0,\"ticks\":\"\"}}}],\"scattercarpet\":[{\"type\":\"scattercarpet\",\"marker\":{\"colorbar\":{\"outlinewidth\":0,\"ticks\":\"\"}}}],\"carpet\":[{\"aaxis\":{\"endlinecolor\":\"#2a3f5f\",\"gridcolor\":\"white\",\"linecolor\":\"white\",\"minorgridcolor\":\"white\",\"startlinecolor\":\"#2a3f5f\"},\"baxis\":{\"endlinecolor\":\"#2a3f5f\",\"gridcolor\":\"white\",\"linecolor\":\"white\",\"minorgridcolor\":\"white\",\"startlinecolor\":\"#2a3f5f\"},\"type\":\"carpet\"}],\"table\":[{\"cells\":{\"fill\":{\"color\":\"#EBF0F8\"},\"line\":{\"color\":\"white\"}},\"header\":{\"fill\":{\"color\":\"#C8D4E3\"},\"line\":{\"color\":\"white\"}},\"type\":\"table\"}],\"barpolar\":[{\"marker\":{\"line\":{\"color\":\"#E5ECF6\",\"width\":0.5},\"pattern\":{\"fillmode\":\"overlay\",\"size\":10,\"solidity\":0.2}},\"type\":\"barpolar\"}],\"pie\":[{\"automargin\":true,\"type\":\"pie\"}]},\"layout\":{\"autotypenumbers\":\"strict\",\"colorway\":[\"#636efa\",\"#EF553B\",\"#00cc96\",\"#ab63fa\",\"#FFA15A\",\"#19d3f3\",\"#FF6692\",\"#B6E880\",\"#FF97FF\",\"#FECB52\"],\"font\":{\"color\":\"#2a3f5f\"},\"hovermode\":\"closest\",\"hoverlabel\":{\"align\":\"left\"},\"paper_bgcolor\":\"white\",\"plot_bgcolor\":\"#E5ECF6\",\"polar\":{\"bgcolor\":\"#E5ECF6\",\"angularaxis\":{\"gridcolor\":\"white\",\"linecolor\":\"white\",\"ticks\":\"\"},\"radialaxis\":{\"gridcolor\":\"white\",\"linecolor\":\"white\",\"ticks\":\"\"}},\"ternary\":{\"bgcolor\":\"#E5ECF6\",\"aaxis\":{\"gridcolor\":\"white\",\"linecolor\":\"white\",\"ticks\":\"\"},\"baxis\":{\"gridcolor\":\"white\",\"linecolor\":\"white\",\"ticks\":\"\"},\"caxis\":{\"gridcolor\":\"white\",\"linecolor\":\"white\",\"ticks\":\"\"}},\"coloraxis\":{\"colorbar\":{\"outlinewidth\":0,\"ticks\":\"\"}},\"colorscale\":{\"sequential\":[[0.0,\"#0d0887\"],[0.1111111111111111,\"#46039f\"],[0.2222222222222222,\"#7201a8\"],[0.3333333333333333,\"#9c179e\"],[0.4444444444444444,\"#bd3786\"],[0.5555555555555556,\"#d8576b\"],[0.6666666666666666,\"#ed7953\"],[0.7777777777777778,\"#fb9f3a\"],[0.8888888888888888,\"#fdca26\"],[1.0,\"#f0f921\"]],\"sequentialminus\":[[0.0,\"#0d0887\"],[0.1111111111111111,\"#46039f\"],[0.2222222222222222,\"#7201a8\"],[0.3333333333333333,\"#9c179e\"],[0.4444444444444444,\"#bd3786\"],[0.5555555555555556,\"#d8576b\"],[0.6666666666666666,\"#ed7953\"],[0.7777777777777778,\"#fb9f3a\"],[0.8888888888888888,\"#fdca26\"],[1.0,\"#f0f921\"]],\"diverging\":[[0,\"#8e0152\"],[0.1,\"#c51b7d\"],[0.2,\"#de77ae\"],[0.3,\"#f1b6da\"],[0.4,\"#fde0ef\"],[0.5,\"#f7f7f7\"],[0.6,\"#e6f5d0\"],[0.7,\"#b8e186\"],[0.8,\"#7fbc41\"],[0.9,\"#4d9221\"],[1,\"#276419\"]]},\"xaxis\":{\"gridcolor\":\"white\",\"linecolor\":\"white\",\"ticks\":\"\",\"title\":{\"standoff\":15},\"zerolinecolor\":\"white\",\"automargin\":true,\"zerolinewidth\":2},\"yaxis\":{\"gridcolor\":\"white\",\"linecolor\":\"white\",\"ticks\":\"\",\"title\":{\"standoff\":15},\"zerolinecolor\":\"white\",\"automargin\":true,\"zerolinewidth\":2},\"scene\":{\"xaxis\":{\"backgroundcolor\":\"#E5ECF6\",\"gridcolor\":\"white\",\"linecolor\":\"white\",\"showbackground\":true,\"ticks\":\"\",\"zerolinecolor\":\"white\",\"gridwidth\":2},\"yaxis\":{\"backgroundcolor\":\"#E5ECF6\",\"gridcolor\":\"white\",\"linecolor\":\"white\",\"showbackground\":true,\"ticks\":\"\",\"zerolinecolor\":\"white\",\"gridwidth\":2},\"zaxis\":{\"backgroundcolor\":\"#E5ECF6\",\"gridcolor\":\"white\",\"linecolor\":\"white\",\"showbackground\":true,\"ticks\":\"\",\"zerolinecolor\":\"white\",\"gridwidth\":2}},\"shapedefaults\":{\"line\":{\"color\":\"#2a3f5f\"}},\"annotationdefaults\":{\"arrowcolor\":\"#2a3f5f\",\"arrowhead\":0,\"arrowwidth\":1},\"geo\":{\"bgcolor\":\"white\",\"landcolor\":\"#E5ECF6\",\"subunitcolor\":\"white\",\"showland\":true,\"showlakes\":true,\"lakecolor\":\"white\"},\"title\":{\"x\":0.05},\"mapbox\":{\"style\":\"light\"}}},\"xaxis\":{\"anchor\":\"y\",\"domain\":[0.0,1.0],\"title\":{\"text\":\"competition\"}},\"yaxis\":{\"anchor\":\"x\",\"domain\":[0.0,1.0],\"title\":{\"text\":\"count\"}},\"legend\":{\"title\":{\"text\":\"opponent\"},\"tracegroupgap\":0},\"title\":{\"text\":\"Lionel Messi vs opponents\"},\"barmode\":\"relative\",\"height\":1000},                        {\"responsive\": true}                    ).then(function(){\n",
       "                            \n",
       "var gd = document.getElementById('479ec827-ec64-409e-8489-532276ad8742');\n",
       "var x = new MutationObserver(function (mutations, observer) {{\n",
       "        var display = window.getComputedStyle(gd).display;\n",
       "        if (!display || display === 'none') {{\n",
       "            console.log([gd, 'removed!']);\n",
       "            Plotly.purge(gd);\n",
       "            observer.disconnect();\n",
       "        }}\n",
       "}});\n",
       "\n",
       "// Listen for the removal of the full notebook cells\n",
       "var notebookContainer = gd.closest('#notebook-container');\n",
       "if (notebookContainer) {{\n",
       "    x.observe(notebookContainer, {childList: true});\n",
       "}}\n",
       "\n",
       "// Listen for the clearing of the current output cell\n",
       "var outputEl = gd.closest('.output');\n",
       "if (outputEl) {{\n",
       "    x.observe(outputEl, {childList: true});\n",
       "}}\n",
       "\n",
       "                        })                };                });            </script>        </div>"
      ]
     },
     "metadata": {},
     "output_type": "display_data"
    }
   ],
   "source": [
    "px.histogram(lm,x='competition',\n",
    "             title=\"Lionel Messi vs opponents\",\n",
    "             height=1000,\n",
    "             color='opponent',\n",
    "             hover_name='opponent',\n",
    "             hover_data=['opponent'])"
   ]
  }
 ],
 "metadata": {
  "kernelspec": {
   "display_name": "Python 3",
   "language": "python",
   "name": "python3"
  },
  "language_info": {
   "codemirror_mode": {
    "name": "ipython",
    "version": 3
   },
   "file_extension": ".py",
   "mimetype": "text/x-python",
   "name": "python",
   "nbconvert_exporter": "python",
   "pygments_lexer": "ipython3",
   "version": "3.7.12"
  },
  "papermill": {
   "default_parameters": {},
   "duration": 18.59363,
   "end_time": "2023-04-01T18:06:04.063098",
   "environment_variables": {},
   "exception": null,
   "input_path": "__notebook__.ipynb",
   "output_path": "__notebook__.ipynb",
   "parameters": {},
   "start_time": "2023-04-01T18:05:45.469468",
   "version": "2.4.0"
  }
 },
 "nbformat": 4,
 "nbformat_minor": 5
}
